{
 "cells": [
  {
   "cell_type": "code",
   "execution_count": 1,
   "id": "fe383783",
   "metadata": {
    "_cell_guid": "b1076dfc-b9ad-4769-8c92-a6c4dae69d19",
    "_uuid": "8f2839f25d086af736a60e9eeb907d3b93b6e0e5",
    "execution": {
     "iopub.execute_input": "2024-12-30T20:04:10.950569Z",
     "iopub.status.busy": "2024-12-30T20:04:10.950237Z",
     "iopub.status.idle": "2024-12-30T20:04:11.597532Z",
     "shell.execute_reply": "2024-12-30T20:04:11.596633Z"
    },
    "papermill": {
     "duration": 0.660274,
     "end_time": "2024-12-30T20:04:11.598814",
     "exception": false,
     "start_time": "2024-12-30T20:04:10.938540",
     "status": "completed"
    },
    "tags": []
   },
   "outputs": [
    {
     "name": "stdout",
     "output_type": "stream",
     "text": [
      "/kaggle/input/playground-series-s4e12/sample_submission.csv\n",
      "/kaggle/input/playground-series-s4e12/train.csv\n",
      "/kaggle/input/playground-series-s4e12/test.csv\n"
     ]
    }
   ],
   "source": [
    "# This Python 3 environment comes with many helpful analytics libraries installed\n",
    "# It is defined by the kaggle/python Docker image: https://github.com/kaggle/docker-python\n",
    "# For example, here's several helpful packages to load\n",
    "\n",
    "import numpy as np # linear algebra\n",
    "import pandas as pd # data processing, CSV file I/O (e.g. pd.read_csv)\n",
    "\n",
    "# Input data files are available in the read-only \"../input/\" directory\n",
    "# For example, running this (by clicking run or pressing Shift+Enter) will list all files under the input directory\n",
    "\n",
    "import os\n",
    "for dirname, _, filenames in os.walk('/kaggle/input'):\n",
    "    for filename in filenames:\n",
    "        print(os.path.join(dirname, filename))\n",
    "\n",
    "# You can write up to 20GB to the current directory (/kaggle/working/) that gets preserved as output when you create a version using \"Save & Run All\" \n",
    "# You can also write temporary files to /kaggle/temp/, but they won't be saved outside of the current session"
   ]
  },
  {
   "cell_type": "markdown",
   "id": "62682c74",
   "metadata": {
    "papermill": {
     "duration": 0.009495,
     "end_time": "2024-12-30T20:04:11.618078",
     "exception": false,
     "start_time": "2024-12-30T20:04:11.608583",
     "status": "completed"
    },
    "tags": []
   },
   "source": [
    "# Importing Libraries"
   ]
  },
  {
   "cell_type": "code",
   "execution_count": 2,
   "id": "517b7130",
   "metadata": {
    "execution": {
     "iopub.execute_input": "2024-12-30T20:04:11.637547Z",
     "iopub.status.busy": "2024-12-30T20:04:11.637222Z",
     "iopub.status.idle": "2024-12-30T20:04:13.524443Z",
     "shell.execute_reply": "2024-12-30T20:04:13.523740Z"
    },
    "papermill": {
     "duration": 1.898626,
     "end_time": "2024-12-30T20:04:13.525993",
     "exception": false,
     "start_time": "2024-12-30T20:04:11.627367",
     "status": "completed"
    },
    "tags": []
   },
   "outputs": [],
   "source": [
    "import numpy as np\n",
    "import pandas as pd\n",
    "import seaborn as sns\n",
    "import matplotlib.pyplot as plt\n",
    "from sklearn.preprocessing import OneHotEncoder, OrdinalEncoder\n",
    "from sklearn.model_selection import train_test_split\n",
    "from sklearn.linear_model import LinearRegression\n",
    "from xgboost import XGBRegressor\n",
    "from sklearn.ensemble import RandomForestRegressor\n",
    "from sklearn.metrics import mean_squared_log_error"
   ]
  },
  {
   "cell_type": "markdown",
   "id": "88735c2e",
   "metadata": {
    "papermill": {
     "duration": 0.009579,
     "end_time": "2024-12-30T20:04:13.545676",
     "exception": false,
     "start_time": "2024-12-30T20:04:13.536097",
     "status": "completed"
    },
    "tags": []
   },
   "source": [
    "# Loading Dataset."
   ]
  },
  {
   "cell_type": "code",
   "execution_count": 3,
   "id": "e37bcad5",
   "metadata": {
    "execution": {
     "iopub.execute_input": "2024-12-30T20:04:13.564923Z",
     "iopub.status.busy": "2024-12-30T20:04:13.564555Z",
     "iopub.status.idle": "2024-12-30T20:04:22.098991Z",
     "shell.execute_reply": "2024-12-30T20:04:22.097952Z"
    },
    "papermill": {
     "duration": 8.545822,
     "end_time": "2024-12-30T20:04:22.100728",
     "exception": false,
     "start_time": "2024-12-30T20:04:13.554906",
     "status": "completed"
    },
    "tags": []
   },
   "outputs": [],
   "source": [
    "train_df = pd.read_csv('/kaggle/input/playground-series-s4e12/train.csv', index_col='id')\n",
    "test_df = pd.read_csv('/kaggle/input/playground-series-s4e12/test.csv', index_col='id')\n",
    "if 'Premium Amount' not in test_df.columns:\n",
    "    test_df['Premium Amount'] = 0\n",
    "df = pd.concat([train_df, test_df], axis = 0)"
   ]
  },
  {
   "cell_type": "code",
   "execution_count": 4,
   "id": "f0e0b91c",
   "metadata": {
    "execution": {
     "iopub.execute_input": "2024-12-30T20:04:22.121927Z",
     "iopub.status.busy": "2024-12-30T20:04:22.121601Z",
     "iopub.status.idle": "2024-12-30T20:04:22.127272Z",
     "shell.execute_reply": "2024-12-30T20:04:22.126503Z"
    },
    "papermill": {
     "duration": 0.017224,
     "end_time": "2024-12-30T20:04:22.128547",
     "exception": false,
     "start_time": "2024-12-30T20:04:22.111323",
     "status": "completed"
    },
    "tags": []
   },
   "outputs": [
    {
     "data": {
      "text/plain": [
       "Index(['Age', 'Gender', 'Annual Income', 'Marital Status',\n",
       "       'Number of Dependents', 'Education Level', 'Occupation', 'Health Score',\n",
       "       'Location', 'Policy Type', 'Previous Claims', 'Vehicle Age',\n",
       "       'Credit Score', 'Insurance Duration', 'Policy Start Date',\n",
       "       'Customer Feedback', 'Smoking Status', 'Exercise Frequency',\n",
       "       'Property Type', 'Premium Amount'],\n",
       "      dtype='object')"
      ]
     },
     "execution_count": 4,
     "metadata": {},
     "output_type": "execute_result"
    }
   ],
   "source": [
    "train_df.columns"
   ]
  },
  {
   "cell_type": "code",
   "execution_count": 5,
   "id": "5bcca1d7",
   "metadata": {
    "execution": {
     "iopub.execute_input": "2024-12-30T20:04:22.148404Z",
     "iopub.status.busy": "2024-12-30T20:04:22.148170Z",
     "iopub.status.idle": "2024-12-30T20:04:22.152617Z",
     "shell.execute_reply": "2024-12-30T20:04:22.151851Z"
    },
    "papermill": {
     "duration": 0.015636,
     "end_time": "2024-12-30T20:04:22.153788",
     "exception": false,
     "start_time": "2024-12-30T20:04:22.138152",
     "status": "completed"
    },
    "tags": []
   },
   "outputs": [
    {
     "data": {
      "text/plain": [
       "Index(['Age', 'Gender', 'Annual Income', 'Marital Status',\n",
       "       'Number of Dependents', 'Education Level', 'Occupation', 'Health Score',\n",
       "       'Location', 'Policy Type', 'Previous Claims', 'Vehicle Age',\n",
       "       'Credit Score', 'Insurance Duration', 'Policy Start Date',\n",
       "       'Customer Feedback', 'Smoking Status', 'Exercise Frequency',\n",
       "       'Property Type', 'Premium Amount'],\n",
       "      dtype='object')"
      ]
     },
     "execution_count": 5,
     "metadata": {},
     "output_type": "execute_result"
    }
   ],
   "source": [
    "test_df.columns"
   ]
  },
  {
   "cell_type": "code",
   "execution_count": 6,
   "id": "98cb459f",
   "metadata": {
    "execution": {
     "iopub.execute_input": "2024-12-30T20:04:22.173164Z",
     "iopub.status.busy": "2024-12-30T20:04:22.172923Z",
     "iopub.status.idle": "2024-12-30T20:04:22.177301Z",
     "shell.execute_reply": "2024-12-30T20:04:22.176558Z"
    },
    "papermill": {
     "duration": 0.015388,
     "end_time": "2024-12-30T20:04:22.178488",
     "exception": false,
     "start_time": "2024-12-30T20:04:22.163100",
     "status": "completed"
    },
    "tags": []
   },
   "outputs": [
    {
     "data": {
      "text/plain": [
       "Index(['Age', 'Gender', 'Annual Income', 'Marital Status',\n",
       "       'Number of Dependents', 'Education Level', 'Occupation', 'Health Score',\n",
       "       'Location', 'Policy Type', 'Previous Claims', 'Vehicle Age',\n",
       "       'Credit Score', 'Insurance Duration', 'Policy Start Date',\n",
       "       'Customer Feedback', 'Smoking Status', 'Exercise Frequency',\n",
       "       'Property Type', 'Premium Amount'],\n",
       "      dtype='object')"
      ]
     },
     "execution_count": 6,
     "metadata": {},
     "output_type": "execute_result"
    }
   ],
   "source": [
    "df.columns"
   ]
  },
  {
   "cell_type": "code",
   "execution_count": 7,
   "id": "46e9d54e",
   "metadata": {
    "execution": {
     "iopub.execute_input": "2024-12-30T20:04:22.198323Z",
     "iopub.status.busy": "2024-12-30T20:04:22.198080Z",
     "iopub.status.idle": "2024-12-30T20:04:22.220969Z",
     "shell.execute_reply": "2024-12-30T20:04:22.220189Z"
    },
    "papermill": {
     "duration": 0.034104,
     "end_time": "2024-12-30T20:04:22.222265",
     "exception": false,
     "start_time": "2024-12-30T20:04:22.188161",
     "status": "completed"
    },
    "tags": []
   },
   "outputs": [
    {
     "data": {
      "text/html": [
       "<div>\n",
       "<style scoped>\n",
       "    .dataframe tbody tr th:only-of-type {\n",
       "        vertical-align: middle;\n",
       "    }\n",
       "\n",
       "    .dataframe tbody tr th {\n",
       "        vertical-align: top;\n",
       "    }\n",
       "\n",
       "    .dataframe thead th {\n",
       "        text-align: right;\n",
       "    }\n",
       "</style>\n",
       "<table border=\"1\" class=\"dataframe\">\n",
       "  <thead>\n",
       "    <tr style=\"text-align: right;\">\n",
       "      <th></th>\n",
       "      <th>Age</th>\n",
       "      <th>Gender</th>\n",
       "      <th>Annual Income</th>\n",
       "      <th>Marital Status</th>\n",
       "      <th>Number of Dependents</th>\n",
       "      <th>Education Level</th>\n",
       "      <th>Occupation</th>\n",
       "      <th>Health Score</th>\n",
       "      <th>Location</th>\n",
       "      <th>Policy Type</th>\n",
       "      <th>Previous Claims</th>\n",
       "      <th>Vehicle Age</th>\n",
       "      <th>Credit Score</th>\n",
       "      <th>Insurance Duration</th>\n",
       "      <th>Policy Start Date</th>\n",
       "      <th>Customer Feedback</th>\n",
       "      <th>Smoking Status</th>\n",
       "      <th>Exercise Frequency</th>\n",
       "      <th>Property Type</th>\n",
       "      <th>Premium Amount</th>\n",
       "    </tr>\n",
       "    <tr>\n",
       "      <th>id</th>\n",
       "      <th></th>\n",
       "      <th></th>\n",
       "      <th></th>\n",
       "      <th></th>\n",
       "      <th></th>\n",
       "      <th></th>\n",
       "      <th></th>\n",
       "      <th></th>\n",
       "      <th></th>\n",
       "      <th></th>\n",
       "      <th></th>\n",
       "      <th></th>\n",
       "      <th></th>\n",
       "      <th></th>\n",
       "      <th></th>\n",
       "      <th></th>\n",
       "      <th></th>\n",
       "      <th></th>\n",
       "      <th></th>\n",
       "      <th></th>\n",
       "    </tr>\n",
       "  </thead>\n",
       "  <tbody>\n",
       "    <tr>\n",
       "      <th>0</th>\n",
       "      <td>19.0</td>\n",
       "      <td>Female</td>\n",
       "      <td>10049.0</td>\n",
       "      <td>Married</td>\n",
       "      <td>1.0</td>\n",
       "      <td>Bachelor's</td>\n",
       "      <td>Self-Employed</td>\n",
       "      <td>22.598761</td>\n",
       "      <td>Urban</td>\n",
       "      <td>Premium</td>\n",
       "      <td>2.0</td>\n",
       "      <td>17.0</td>\n",
       "      <td>372.0</td>\n",
       "      <td>5.0</td>\n",
       "      <td>2023-12-23 15:21:39.134960</td>\n",
       "      <td>Poor</td>\n",
       "      <td>No</td>\n",
       "      <td>Weekly</td>\n",
       "      <td>House</td>\n",
       "      <td>2869.0</td>\n",
       "    </tr>\n",
       "    <tr>\n",
       "      <th>1</th>\n",
       "      <td>39.0</td>\n",
       "      <td>Female</td>\n",
       "      <td>31678.0</td>\n",
       "      <td>Divorced</td>\n",
       "      <td>3.0</td>\n",
       "      <td>Master's</td>\n",
       "      <td>NaN</td>\n",
       "      <td>15.569731</td>\n",
       "      <td>Rural</td>\n",
       "      <td>Comprehensive</td>\n",
       "      <td>1.0</td>\n",
       "      <td>12.0</td>\n",
       "      <td>694.0</td>\n",
       "      <td>2.0</td>\n",
       "      <td>2023-06-12 15:21:39.111551</td>\n",
       "      <td>Average</td>\n",
       "      <td>Yes</td>\n",
       "      <td>Monthly</td>\n",
       "      <td>House</td>\n",
       "      <td>1483.0</td>\n",
       "    </tr>\n",
       "    <tr>\n",
       "      <th>2</th>\n",
       "      <td>23.0</td>\n",
       "      <td>Male</td>\n",
       "      <td>25602.0</td>\n",
       "      <td>Divorced</td>\n",
       "      <td>3.0</td>\n",
       "      <td>High School</td>\n",
       "      <td>Self-Employed</td>\n",
       "      <td>47.177549</td>\n",
       "      <td>Suburban</td>\n",
       "      <td>Premium</td>\n",
       "      <td>1.0</td>\n",
       "      <td>14.0</td>\n",
       "      <td>NaN</td>\n",
       "      <td>3.0</td>\n",
       "      <td>2023-09-30 15:21:39.221386</td>\n",
       "      <td>Good</td>\n",
       "      <td>Yes</td>\n",
       "      <td>Weekly</td>\n",
       "      <td>House</td>\n",
       "      <td>567.0</td>\n",
       "    </tr>\n",
       "    <tr>\n",
       "      <th>3</th>\n",
       "      <td>21.0</td>\n",
       "      <td>Male</td>\n",
       "      <td>141855.0</td>\n",
       "      <td>Married</td>\n",
       "      <td>2.0</td>\n",
       "      <td>Bachelor's</td>\n",
       "      <td>NaN</td>\n",
       "      <td>10.938144</td>\n",
       "      <td>Rural</td>\n",
       "      <td>Basic</td>\n",
       "      <td>1.0</td>\n",
       "      <td>0.0</td>\n",
       "      <td>367.0</td>\n",
       "      <td>1.0</td>\n",
       "      <td>2024-06-12 15:21:39.226954</td>\n",
       "      <td>Poor</td>\n",
       "      <td>Yes</td>\n",
       "      <td>Daily</td>\n",
       "      <td>Apartment</td>\n",
       "      <td>765.0</td>\n",
       "    </tr>\n",
       "    <tr>\n",
       "      <th>4</th>\n",
       "      <td>21.0</td>\n",
       "      <td>Male</td>\n",
       "      <td>39651.0</td>\n",
       "      <td>Single</td>\n",
       "      <td>1.0</td>\n",
       "      <td>Bachelor's</td>\n",
       "      <td>Self-Employed</td>\n",
       "      <td>20.376094</td>\n",
       "      <td>Rural</td>\n",
       "      <td>Premium</td>\n",
       "      <td>0.0</td>\n",
       "      <td>8.0</td>\n",
       "      <td>598.0</td>\n",
       "      <td>4.0</td>\n",
       "      <td>2021-12-01 15:21:39.252145</td>\n",
       "      <td>Poor</td>\n",
       "      <td>Yes</td>\n",
       "      <td>Weekly</td>\n",
       "      <td>House</td>\n",
       "      <td>2022.0</td>\n",
       "    </tr>\n",
       "  </tbody>\n",
       "</table>\n",
       "</div>"
      ],
      "text/plain": [
       "     Age  Gender  Annual Income Marital Status  Number of Dependents  \\\n",
       "id                                                                     \n",
       "0   19.0  Female        10049.0        Married                   1.0   \n",
       "1   39.0  Female        31678.0       Divorced                   3.0   \n",
       "2   23.0    Male        25602.0       Divorced                   3.0   \n",
       "3   21.0    Male       141855.0        Married                   2.0   \n",
       "4   21.0    Male        39651.0         Single                   1.0   \n",
       "\n",
       "   Education Level     Occupation  Health Score  Location    Policy Type  \\\n",
       "id                                                                         \n",
       "0       Bachelor's  Self-Employed     22.598761     Urban        Premium   \n",
       "1         Master's            NaN     15.569731     Rural  Comprehensive   \n",
       "2      High School  Self-Employed     47.177549  Suburban        Premium   \n",
       "3       Bachelor's            NaN     10.938144     Rural          Basic   \n",
       "4       Bachelor's  Self-Employed     20.376094     Rural        Premium   \n",
       "\n",
       "    Previous Claims  Vehicle Age  Credit Score  Insurance Duration  \\\n",
       "id                                                                   \n",
       "0               2.0         17.0         372.0                 5.0   \n",
       "1               1.0         12.0         694.0                 2.0   \n",
       "2               1.0         14.0           NaN                 3.0   \n",
       "3               1.0          0.0         367.0                 1.0   \n",
       "4               0.0          8.0         598.0                 4.0   \n",
       "\n",
       "             Policy Start Date Customer Feedback Smoking Status  \\\n",
       "id                                                                \n",
       "0   2023-12-23 15:21:39.134960              Poor             No   \n",
       "1   2023-06-12 15:21:39.111551           Average            Yes   \n",
       "2   2023-09-30 15:21:39.221386              Good            Yes   \n",
       "3   2024-06-12 15:21:39.226954              Poor            Yes   \n",
       "4   2021-12-01 15:21:39.252145              Poor            Yes   \n",
       "\n",
       "   Exercise Frequency Property Type  Premium Amount  \n",
       "id                                                   \n",
       "0              Weekly         House          2869.0  \n",
       "1             Monthly         House          1483.0  \n",
       "2              Weekly         House           567.0  \n",
       "3               Daily     Apartment           765.0  \n",
       "4              Weekly         House          2022.0  "
      ]
     },
     "execution_count": 7,
     "metadata": {},
     "output_type": "execute_result"
    }
   ],
   "source": [
    "df.head(5)"
   ]
  },
  {
   "cell_type": "code",
   "execution_count": 8,
   "id": "52d03971",
   "metadata": {
    "execution": {
     "iopub.execute_input": "2024-12-30T20:04:22.243403Z",
     "iopub.status.busy": "2024-12-30T20:04:22.243193Z",
     "iopub.status.idle": "2024-12-30T20:04:22.259566Z",
     "shell.execute_reply": "2024-12-30T20:04:22.258934Z"
    },
    "papermill": {
     "duration": 0.028044,
     "end_time": "2024-12-30T20:04:22.260759",
     "exception": false,
     "start_time": "2024-12-30T20:04:22.232715",
     "status": "completed"
    },
    "tags": []
   },
   "outputs": [
    {
     "data": {
      "text/html": [
       "<div>\n",
       "<style scoped>\n",
       "    .dataframe tbody tr th:only-of-type {\n",
       "        vertical-align: middle;\n",
       "    }\n",
       "\n",
       "    .dataframe tbody tr th {\n",
       "        vertical-align: top;\n",
       "    }\n",
       "\n",
       "    .dataframe thead th {\n",
       "        text-align: right;\n",
       "    }\n",
       "</style>\n",
       "<table border=\"1\" class=\"dataframe\">\n",
       "  <thead>\n",
       "    <tr style=\"text-align: right;\">\n",
       "      <th></th>\n",
       "      <th>Age</th>\n",
       "      <th>Gender</th>\n",
       "      <th>Annual Income</th>\n",
       "      <th>Marital Status</th>\n",
       "      <th>Number of Dependents</th>\n",
       "      <th>Education Level</th>\n",
       "      <th>Occupation</th>\n",
       "      <th>Health Score</th>\n",
       "      <th>Location</th>\n",
       "      <th>Policy Type</th>\n",
       "      <th>Previous Claims</th>\n",
       "      <th>Vehicle Age</th>\n",
       "      <th>Credit Score</th>\n",
       "      <th>Insurance Duration</th>\n",
       "      <th>Policy Start Date</th>\n",
       "      <th>Customer Feedback</th>\n",
       "      <th>Smoking Status</th>\n",
       "      <th>Exercise Frequency</th>\n",
       "      <th>Property Type</th>\n",
       "      <th>Premium Amount</th>\n",
       "    </tr>\n",
       "    <tr>\n",
       "      <th>id</th>\n",
       "      <th></th>\n",
       "      <th></th>\n",
       "      <th></th>\n",
       "      <th></th>\n",
       "      <th></th>\n",
       "      <th></th>\n",
       "      <th></th>\n",
       "      <th></th>\n",
       "      <th></th>\n",
       "      <th></th>\n",
       "      <th></th>\n",
       "      <th></th>\n",
       "      <th></th>\n",
       "      <th></th>\n",
       "      <th></th>\n",
       "      <th></th>\n",
       "      <th></th>\n",
       "      <th></th>\n",
       "      <th></th>\n",
       "      <th></th>\n",
       "    </tr>\n",
       "  </thead>\n",
       "  <tbody>\n",
       "    <tr>\n",
       "      <th>1999995</th>\n",
       "      <td>50.0</td>\n",
       "      <td>Female</td>\n",
       "      <td>38782.0</td>\n",
       "      <td>Married</td>\n",
       "      <td>1.0</td>\n",
       "      <td>Bachelor's</td>\n",
       "      <td>NaN</td>\n",
       "      <td>14.498639</td>\n",
       "      <td>Rural</td>\n",
       "      <td>Premium</td>\n",
       "      <td>NaN</td>\n",
       "      <td>8.0</td>\n",
       "      <td>309.0</td>\n",
       "      <td>2.0</td>\n",
       "      <td>2021-07-09 15:21:39.184157</td>\n",
       "      <td>Average</td>\n",
       "      <td>Yes</td>\n",
       "      <td>Daily</td>\n",
       "      <td>Condo</td>\n",
       "      <td>0.0</td>\n",
       "    </tr>\n",
       "    <tr>\n",
       "      <th>1999996</th>\n",
       "      <td>NaN</td>\n",
       "      <td>Female</td>\n",
       "      <td>73462.0</td>\n",
       "      <td>Single</td>\n",
       "      <td>0.0</td>\n",
       "      <td>Master's</td>\n",
       "      <td>NaN</td>\n",
       "      <td>8.145748</td>\n",
       "      <td>Rural</td>\n",
       "      <td>Basic</td>\n",
       "      <td>2.0</td>\n",
       "      <td>0.0</td>\n",
       "      <td>NaN</td>\n",
       "      <td>2.0</td>\n",
       "      <td>2023-03-28 15:21:39.250151</td>\n",
       "      <td>Good</td>\n",
       "      <td>No</td>\n",
       "      <td>Daily</td>\n",
       "      <td>Apartment</td>\n",
       "      <td>0.0</td>\n",
       "    </tr>\n",
       "    <tr>\n",
       "      <th>1999997</th>\n",
       "      <td>26.0</td>\n",
       "      <td>Female</td>\n",
       "      <td>35178.0</td>\n",
       "      <td>Single</td>\n",
       "      <td>0.0</td>\n",
       "      <td>Master's</td>\n",
       "      <td>Employed</td>\n",
       "      <td>6.636583</td>\n",
       "      <td>Urban</td>\n",
       "      <td>Comprehensive</td>\n",
       "      <td>NaN</td>\n",
       "      <td>10.0</td>\n",
       "      <td>NaN</td>\n",
       "      <td>6.0</td>\n",
       "      <td>2019-09-30 15:21:39.132191</td>\n",
       "      <td>Poor</td>\n",
       "      <td>No</td>\n",
       "      <td>Monthly</td>\n",
       "      <td>Apartment</td>\n",
       "      <td>0.0</td>\n",
       "    </tr>\n",
       "    <tr>\n",
       "      <th>1999998</th>\n",
       "      <td>34.0</td>\n",
       "      <td>Female</td>\n",
       "      <td>45661.0</td>\n",
       "      <td>Single</td>\n",
       "      <td>3.0</td>\n",
       "      <td>Master's</td>\n",
       "      <td>NaN</td>\n",
       "      <td>15.937248</td>\n",
       "      <td>Urban</td>\n",
       "      <td>Premium</td>\n",
       "      <td>2.0</td>\n",
       "      <td>17.0</td>\n",
       "      <td>467.0</td>\n",
       "      <td>7.0</td>\n",
       "      <td>2022-05-09 15:21:39.253660</td>\n",
       "      <td>Average</td>\n",
       "      <td>No</td>\n",
       "      <td>Weekly</td>\n",
       "      <td>Condo</td>\n",
       "      <td>0.0</td>\n",
       "    </tr>\n",
       "    <tr>\n",
       "      <th>1999999</th>\n",
       "      <td>25.0</td>\n",
       "      <td>Male</td>\n",
       "      <td>24843.0</td>\n",
       "      <td>Divorced</td>\n",
       "      <td>3.0</td>\n",
       "      <td>High School</td>\n",
       "      <td>NaN</td>\n",
       "      <td>24.893939</td>\n",
       "      <td>Suburban</td>\n",
       "      <td>Comprehensive</td>\n",
       "      <td>NaN</td>\n",
       "      <td>15.0</td>\n",
       "      <td>NaN</td>\n",
       "      <td>8.0</td>\n",
       "      <td>2021-05-18 15:21:39.108562</td>\n",
       "      <td>Good</td>\n",
       "      <td>No</td>\n",
       "      <td>Rarely</td>\n",
       "      <td>House</td>\n",
       "      <td>0.0</td>\n",
       "    </tr>\n",
       "  </tbody>\n",
       "</table>\n",
       "</div>"
      ],
      "text/plain": [
       "          Age  Gender  Annual Income Marital Status  Number of Dependents  \\\n",
       "id                                                                          \n",
       "1999995  50.0  Female        38782.0        Married                   1.0   \n",
       "1999996   NaN  Female        73462.0         Single                   0.0   \n",
       "1999997  26.0  Female        35178.0         Single                   0.0   \n",
       "1999998  34.0  Female        45661.0         Single                   3.0   \n",
       "1999999  25.0    Male        24843.0       Divorced                   3.0   \n",
       "\n",
       "        Education Level Occupation  Health Score  Location    Policy Type  \\\n",
       "id                                                                          \n",
       "1999995      Bachelor's        NaN     14.498639     Rural        Premium   \n",
       "1999996        Master's        NaN      8.145748     Rural          Basic   \n",
       "1999997        Master's   Employed      6.636583     Urban  Comprehensive   \n",
       "1999998        Master's        NaN     15.937248     Urban        Premium   \n",
       "1999999     High School        NaN     24.893939  Suburban  Comprehensive   \n",
       "\n",
       "         Previous Claims  Vehicle Age  Credit Score  Insurance Duration  \\\n",
       "id                                                                        \n",
       "1999995              NaN          8.0         309.0                 2.0   \n",
       "1999996              2.0          0.0           NaN                 2.0   \n",
       "1999997              NaN         10.0           NaN                 6.0   \n",
       "1999998              2.0         17.0         467.0                 7.0   \n",
       "1999999              NaN         15.0           NaN                 8.0   \n",
       "\n",
       "                  Policy Start Date Customer Feedback Smoking Status  \\\n",
       "id                                                                     \n",
       "1999995  2021-07-09 15:21:39.184157           Average            Yes   \n",
       "1999996  2023-03-28 15:21:39.250151              Good             No   \n",
       "1999997  2019-09-30 15:21:39.132191              Poor             No   \n",
       "1999998  2022-05-09 15:21:39.253660           Average             No   \n",
       "1999999  2021-05-18 15:21:39.108562              Good             No   \n",
       "\n",
       "        Exercise Frequency Property Type  Premium Amount  \n",
       "id                                                        \n",
       "1999995              Daily         Condo             0.0  \n",
       "1999996              Daily     Apartment             0.0  \n",
       "1999997            Monthly     Apartment             0.0  \n",
       "1999998             Weekly         Condo             0.0  \n",
       "1999999             Rarely         House             0.0  "
      ]
     },
     "execution_count": 8,
     "metadata": {},
     "output_type": "execute_result"
    }
   ],
   "source": [
    "df.tail(5)"
   ]
  },
  {
   "cell_type": "code",
   "execution_count": 9,
   "id": "e9e9ef68",
   "metadata": {
    "execution": {
     "iopub.execute_input": "2024-12-30T20:04:22.281222Z",
     "iopub.status.busy": "2024-12-30T20:04:22.281018Z",
     "iopub.status.idle": "2024-12-30T20:04:23.395446Z",
     "shell.execute_reply": "2024-12-30T20:04:23.394531Z"
    },
    "papermill": {
     "duration": 1.126254,
     "end_time": "2024-12-30T20:04:23.397094",
     "exception": false,
     "start_time": "2024-12-30T20:04:22.270840",
     "status": "completed"
    },
    "tags": []
   },
   "outputs": [],
   "source": [
    "df['Policy Start Date'] = pd.DatetimeIndex(df['Policy Start Date'])\n",
    "df['year'] = df['Policy Start Date'].dt.year\n",
    "df['month'] = df['Policy Start Date'].dt.month\n",
    "df['date'] = df['Policy Start Date'].dt.day\n",
    "df['day'] = df['Policy Start Date'].dt.weekday"
   ]
  },
  {
   "cell_type": "markdown",
   "id": "57f1a979",
   "metadata": {
    "papermill": {
     "duration": 0.009907,
     "end_time": "2024-12-30T20:04:23.417374",
     "exception": false,
     "start_time": "2024-12-30T20:04:23.407467",
     "status": "completed"
    },
    "tags": []
   },
   "source": [
    "# Analyzing the dataset."
   ]
  },
  {
   "cell_type": "markdown",
   "id": "6e469275",
   "metadata": {
    "papermill": {
     "duration": 0.009623,
     "end_time": "2024-12-30T20:04:23.436818",
     "exception": false,
     "start_time": "2024-12-30T20:04:23.427195",
     "status": "completed"
    },
    "tags": []
   },
   "source": [
    "## Getting insights"
   ]
  },
  {
   "cell_type": "code",
   "execution_count": 10,
   "id": "ddf7dd94",
   "metadata": {
    "execution": {
     "iopub.execute_input": "2024-12-30T20:04:23.458123Z",
     "iopub.status.busy": "2024-12-30T20:04:23.457801Z",
     "iopub.status.idle": "2024-12-30T20:04:23.471735Z",
     "shell.execute_reply": "2024-12-30T20:04:23.470636Z"
    },
    "papermill": {
     "duration": 0.026019,
     "end_time": "2024-12-30T20:04:23.473084",
     "exception": false,
     "start_time": "2024-12-30T20:04:23.447065",
     "status": "completed"
    },
    "tags": []
   },
   "outputs": [
    {
     "name": "stdout",
     "output_type": "stream",
     "text": [
      "<class 'pandas.core.frame.DataFrame'>\n",
      "Index: 2000000 entries, 0 to 1999999\n",
      "Data columns (total 24 columns):\n",
      " #   Column                Dtype         \n",
      "---  ------                -----         \n",
      " 0   Age                   float64       \n",
      " 1   Gender                object        \n",
      " 2   Annual Income         float64       \n",
      " 3   Marital Status        object        \n",
      " 4   Number of Dependents  float64       \n",
      " 5   Education Level       object        \n",
      " 6   Occupation            object        \n",
      " 7   Health Score          float64       \n",
      " 8   Location              object        \n",
      " 9   Policy Type           object        \n",
      " 10  Previous Claims       float64       \n",
      " 11  Vehicle Age           float64       \n",
      " 12  Credit Score          float64       \n",
      " 13  Insurance Duration    float64       \n",
      " 14  Policy Start Date     datetime64[ns]\n",
      " 15  Customer Feedback     object        \n",
      " 16  Smoking Status        object        \n",
      " 17  Exercise Frequency    object        \n",
      " 18  Property Type         object        \n",
      " 19  Premium Amount        float64       \n",
      " 20  year                  int32         \n",
      " 21  month                 int32         \n",
      " 22  date                  int32         \n",
      " 23  day                   int32         \n",
      "dtypes: datetime64[ns](1), float64(9), int32(4), object(10)\n",
      "memory usage: 351.0+ MB\n"
     ]
    }
   ],
   "source": [
    "df.info()"
   ]
  },
  {
   "cell_type": "markdown",
   "id": "d39d3be3",
   "metadata": {
    "papermill": {
     "duration": 0.009906,
     "end_time": "2024-12-30T20:04:23.494025",
     "exception": false,
     "start_time": "2024-12-30T20:04:23.484119",
     "status": "completed"
    },
    "tags": []
   },
   "source": [
    "In this competition our objective is to predict the target variable `Premium Amount` from the given dataset."
   ]
  },
  {
   "cell_type": "code",
   "execution_count": 11,
   "id": "a2c85e60",
   "metadata": {
    "execution": {
     "iopub.execute_input": "2024-12-30T20:04:23.515482Z",
     "iopub.status.busy": "2024-12-30T20:04:23.515258Z",
     "iopub.status.idle": "2024-12-30T20:04:23.519629Z",
     "shell.execute_reply": "2024-12-30T20:04:23.518819Z"
    },
    "papermill": {
     "duration": 0.016785,
     "end_time": "2024-12-30T20:04:23.521006",
     "exception": false,
     "start_time": "2024-12-30T20:04:23.504221",
     "status": "completed"
    },
    "tags": []
   },
   "outputs": [
    {
     "data": {
      "text/plain": [
       "(2000000, 24)"
      ]
     },
     "execution_count": 11,
     "metadata": {},
     "output_type": "execute_result"
    }
   ],
   "source": [
    "df.shape"
   ]
  },
  {
   "cell_type": "code",
   "execution_count": 12,
   "id": "58219a3e",
   "metadata": {
    "execution": {
     "iopub.execute_input": "2024-12-30T20:04:23.541761Z",
     "iopub.status.busy": "2024-12-30T20:04:23.541556Z",
     "iopub.status.idle": "2024-12-30T20:04:23.547006Z",
     "shell.execute_reply": "2024-12-30T20:04:23.546171Z"
    },
    "papermill": {
     "duration": 0.017329,
     "end_time": "2024-12-30T20:04:23.548288",
     "exception": false,
     "start_time": "2024-12-30T20:04:23.530959",
     "status": "completed"
    },
    "tags": []
   },
   "outputs": [
    {
     "data": {
      "text/plain": [
       "Age                            float64\n",
       "Gender                          object\n",
       "Annual Income                  float64\n",
       "Marital Status                  object\n",
       "Number of Dependents           float64\n",
       "Education Level                 object\n",
       "Occupation                      object\n",
       "Health Score                   float64\n",
       "Location                        object\n",
       "Policy Type                     object\n",
       "Previous Claims                float64\n",
       "Vehicle Age                    float64\n",
       "Credit Score                   float64\n",
       "Insurance Duration             float64\n",
       "Policy Start Date       datetime64[ns]\n",
       "Customer Feedback               object\n",
       "Smoking Status                  object\n",
       "Exercise Frequency              object\n",
       "Property Type                   object\n",
       "Premium Amount                 float64\n",
       "year                             int32\n",
       "month                            int32\n",
       "date                             int32\n",
       "day                              int32\n",
       "dtype: object"
      ]
     },
     "execution_count": 12,
     "metadata": {},
     "output_type": "execute_result"
    }
   ],
   "source": [
    "df.dtypes"
   ]
  },
  {
   "cell_type": "code",
   "execution_count": 13,
   "id": "6a0b5108",
   "metadata": {
    "execution": {
     "iopub.execute_input": "2024-12-30T20:04:23.570115Z",
     "iopub.status.busy": "2024-12-30T20:04:23.569899Z",
     "iopub.status.idle": "2024-12-30T20:04:24.378025Z",
     "shell.execute_reply": "2024-12-30T20:04:24.377151Z"
    },
    "papermill": {
     "duration": 0.820151,
     "end_time": "2024-12-30T20:04:24.379341",
     "exception": false,
     "start_time": "2024-12-30T20:04:23.559190",
     "status": "completed"
    },
    "tags": []
   },
   "outputs": [
    {
     "data": {
      "text/plain": [
       "Age                      31194\n",
       "Gender                       0\n",
       "Annual Income            74809\n",
       "Marital Status           30865\n",
       "Number of Dependents    182802\n",
       "Education Level              0\n",
       "Occupation              597200\n",
       "Health Score            123525\n",
       "Location                     0\n",
       "Policy Type                  0\n",
       "Previous Claims         606831\n",
       "Vehicle Age                  9\n",
       "Credit Score            229333\n",
       "Insurance Duration           3\n",
       "Policy Start Date            0\n",
       "Customer Feedback       130100\n",
       "Smoking Status               0\n",
       "Exercise Frequency           0\n",
       "Property Type                0\n",
       "Premium Amount               0\n",
       "year                         0\n",
       "month                        0\n",
       "date                         0\n",
       "day                          0\n",
       "dtype: int64"
      ]
     },
     "execution_count": 13,
     "metadata": {},
     "output_type": "execute_result"
    }
   ],
   "source": [
    "df.isna().sum()"
   ]
  },
  {
   "cell_type": "code",
   "execution_count": 14,
   "id": "e7f187dc",
   "metadata": {
    "execution": {
     "iopub.execute_input": "2024-12-30T20:04:24.401238Z",
     "iopub.status.busy": "2024-12-30T20:04:24.401013Z",
     "iopub.status.idle": "2024-12-30T20:04:26.915140Z",
     "shell.execute_reply": "2024-12-30T20:04:26.914165Z"
    },
    "papermill": {
     "duration": 2.526466,
     "end_time": "2024-12-30T20:04:26.916668",
     "exception": false,
     "start_time": "2024-12-30T20:04:24.390202",
     "status": "completed"
    },
    "tags": []
   },
   "outputs": [
    {
     "data": {
      "text/plain": [
       "0"
      ]
     },
     "execution_count": 14,
     "metadata": {},
     "output_type": "execute_result"
    }
   ],
   "source": [
    "df.duplicated().sum()"
   ]
  },
  {
   "cell_type": "code",
   "execution_count": 15,
   "id": "5bdfc7a7",
   "metadata": {
    "execution": {
     "iopub.execute_input": "2024-12-30T20:04:26.940254Z",
     "iopub.status.busy": "2024-12-30T20:04:26.939989Z",
     "iopub.status.idle": "2024-12-30T20:04:28.334196Z",
     "shell.execute_reply": "2024-12-30T20:04:28.333247Z"
    },
    "papermill": {
     "duration": 1.40751,
     "end_time": "2024-12-30T20:04:28.335551",
     "exception": false,
     "start_time": "2024-12-30T20:04:26.928041",
     "status": "completed"
    },
    "tags": []
   },
   "outputs": [
    {
     "data": {
      "text/html": [
       "<style type=\"text/css\">\n",
       "#T_5890f_row0_col0, #T_5890f_row0_col1, #T_5890f_row0_col2, #T_5890f_row0_col3, #T_5890f_row0_col4, #T_5890f_row0_col5, #T_5890f_row0_col6, #T_5890f_row0_col7, #T_5890f_row0_col9, #T_5890f_row0_col10, #T_5890f_row0_col11, #T_5890f_row0_col12, #T_5890f_row0_col13 {\n",
       "  background-color: #023858;\n",
       "  color: #f1f1f1;\n",
       "}\n",
       "#T_5890f_row1_col0, #T_5890f_row1_col2, #T_5890f_row1_col3, #T_5890f_row1_col4, #T_5890f_row1_col5, #T_5890f_row1_col6, #T_5890f_row1_col7, #T_5890f_row1_col9, #T_5890f_row1_col10, #T_5890f_row1_col11, #T_5890f_row1_col12, #T_5890f_row1_col13, #T_5890f_row2_col0, #T_5890f_row2_col1, #T_5890f_row2_col2, #T_5890f_row2_col3, #T_5890f_row2_col4, #T_5890f_row2_col5, #T_5890f_row2_col6, #T_5890f_row2_col7, #T_5890f_row2_col9, #T_5890f_row2_col10, #T_5890f_row2_col11, #T_5890f_row2_col12, #T_5890f_row2_col13, #T_5890f_row3_col0, #T_5890f_row3_col2, #T_5890f_row3_col3, #T_5890f_row3_col4, #T_5890f_row3_col5, #T_5890f_row3_col6, #T_5890f_row3_col7, #T_5890f_row3_col9, #T_5890f_row3_col10, #T_5890f_row3_col11, #T_5890f_row3_col12, #T_5890f_row3_col13, #T_5890f_row4_col0, #T_5890f_row4_col2, #T_5890f_row4_col3, #T_5890f_row4_col4, #T_5890f_row4_col5, #T_5890f_row4_col6, #T_5890f_row4_col7, #T_5890f_row4_col9, #T_5890f_row4_col10, #T_5890f_row4_col11, #T_5890f_row4_col12, #T_5890f_row4_col13, #T_5890f_row5_col0, #T_5890f_row5_col2, #T_5890f_row5_col3, #T_5890f_row5_col4, #T_5890f_row5_col5, #T_5890f_row5_col6, #T_5890f_row5_col7, #T_5890f_row5_col9, #T_5890f_row5_col10, #T_5890f_row5_col11, #T_5890f_row5_col12, #T_5890f_row5_col13, #T_5890f_row6_col0, #T_5890f_row6_col2, #T_5890f_row6_col3, #T_5890f_row6_col4, #T_5890f_row6_col5, #T_5890f_row6_col6, #T_5890f_row6_col7, #T_5890f_row6_col9, #T_5890f_row6_col10, #T_5890f_row6_col11, #T_5890f_row6_col12, #T_5890f_row6_col13, #T_5890f_row7_col0, #T_5890f_row7_col2, #T_5890f_row7_col3, #T_5890f_row7_col4, #T_5890f_row7_col5, #T_5890f_row7_col6, #T_5890f_row7_col7, #T_5890f_row7_col9, #T_5890f_row7_col10, #T_5890f_row7_col11, #T_5890f_row7_col12, #T_5890f_row7_col13 {\n",
       "  background-color: #fff7fb;\n",
       "  color: #000000;\n",
       "}\n",
       "#T_5890f_row1_col1, #T_5890f_row4_col1, #T_5890f_row7_col1 {\n",
       "  background-color: #fdf5fa;\n",
       "  color: #000000;\n",
       "}\n",
       "#T_5890f_row3_col1 {\n",
       "  background-color: #fef6fb;\n",
       "  color: #000000;\n",
       "}\n",
       "#T_5890f_row5_col1 {\n",
       "  background-color: #fcf4fa;\n",
       "  color: #000000;\n",
       "}\n",
       "#T_5890f_row6_col1 {\n",
       "  background-color: #f4edf6;\n",
       "  color: #000000;\n",
       "}\n",
       "</style>\n",
       "<table id=\"T_5890f\">\n",
       "  <thead>\n",
       "    <tr>\n",
       "      <th class=\"blank level0\" >&nbsp;</th>\n",
       "      <th id=\"T_5890f_level0_col0\" class=\"col_heading level0 col0\" >Age</th>\n",
       "      <th id=\"T_5890f_level0_col1\" class=\"col_heading level0 col1\" >Annual Income</th>\n",
       "      <th id=\"T_5890f_level0_col2\" class=\"col_heading level0 col2\" >Number of Dependents</th>\n",
       "      <th id=\"T_5890f_level0_col3\" class=\"col_heading level0 col3\" >Health Score</th>\n",
       "      <th id=\"T_5890f_level0_col4\" class=\"col_heading level0 col4\" >Previous Claims</th>\n",
       "      <th id=\"T_5890f_level0_col5\" class=\"col_heading level0 col5\" >Vehicle Age</th>\n",
       "      <th id=\"T_5890f_level0_col6\" class=\"col_heading level0 col6\" >Credit Score</th>\n",
       "      <th id=\"T_5890f_level0_col7\" class=\"col_heading level0 col7\" >Insurance Duration</th>\n",
       "      <th id=\"T_5890f_level0_col8\" class=\"col_heading level0 col8\" >Policy Start Date</th>\n",
       "      <th id=\"T_5890f_level0_col9\" class=\"col_heading level0 col9\" >Premium Amount</th>\n",
       "      <th id=\"T_5890f_level0_col10\" class=\"col_heading level0 col10\" >year</th>\n",
       "      <th id=\"T_5890f_level0_col11\" class=\"col_heading level0 col11\" >month</th>\n",
       "      <th id=\"T_5890f_level0_col12\" class=\"col_heading level0 col12\" >date</th>\n",
       "      <th id=\"T_5890f_level0_col13\" class=\"col_heading level0 col13\" >day</th>\n",
       "    </tr>\n",
       "  </thead>\n",
       "  <tbody>\n",
       "    <tr>\n",
       "      <th id=\"T_5890f_level0_row0\" class=\"row_heading level0 row0\" >count</th>\n",
       "      <td id=\"T_5890f_row0_col0\" class=\"data row0 col0\" >1968806.000000</td>\n",
       "      <td id=\"T_5890f_row0_col1\" class=\"data row0 col1\" >1925191.000000</td>\n",
       "      <td id=\"T_5890f_row0_col2\" class=\"data row0 col2\" >1817198.000000</td>\n",
       "      <td id=\"T_5890f_row0_col3\" class=\"data row0 col3\" >1876475.000000</td>\n",
       "      <td id=\"T_5890f_row0_col4\" class=\"data row0 col4\" >1393169.000000</td>\n",
       "      <td id=\"T_5890f_row0_col5\" class=\"data row0 col5\" >1999991.000000</td>\n",
       "      <td id=\"T_5890f_row0_col6\" class=\"data row0 col6\" >1770667.000000</td>\n",
       "      <td id=\"T_5890f_row0_col7\" class=\"data row0 col7\" >1999997.000000</td>\n",
       "      <td id=\"T_5890f_row0_col8\" class=\"data row0 col8\" >2000000</td>\n",
       "      <td id=\"T_5890f_row0_col9\" class=\"data row0 col9\" >2000000.000000</td>\n",
       "      <td id=\"T_5890f_row0_col10\" class=\"data row0 col10\" >2000000.000000</td>\n",
       "      <td id=\"T_5890f_row0_col11\" class=\"data row0 col11\" >2000000.000000</td>\n",
       "      <td id=\"T_5890f_row0_col12\" class=\"data row0 col12\" >2000000.000000</td>\n",
       "      <td id=\"T_5890f_row0_col13\" class=\"data row0 col13\" >2000000.000000</td>\n",
       "    </tr>\n",
       "    <tr>\n",
       "      <th id=\"T_5890f_level0_row1\" class=\"row_heading level0 row1\" >mean</th>\n",
       "      <td id=\"T_5890f_row1_col0\" class=\"data row1 col0\" >41.141914</td>\n",
       "      <td id=\"T_5890f_row1_col1\" class=\"data row1 col1\" >32768.681192</td>\n",
       "      <td id=\"T_5890f_row1_col2\" class=\"data row1 col2\" >2.009695</td>\n",
       "      <td id=\"T_5890f_row1_col3\" class=\"data row1 col3\" >25.613559</td>\n",
       "      <td id=\"T_5890f_row1_col4\" class=\"data row1 col4\" >1.003562</td>\n",
       "      <td id=\"T_5890f_row1_col5\" class=\"data row1 col5\" >9.570690</td>\n",
       "      <td id=\"T_5890f_row1_col6\" class=\"data row1 col6\" >592.916507</td>\n",
       "      <td id=\"T_5890f_row1_col7\" class=\"data row1 col7\" >5.018511</td>\n",
       "      <td id=\"T_5890f_row1_col8\" class=\"data row1 col8\" >2022-02-13 05:36:06.434768640</td>\n",
       "      <td id=\"T_5890f_row1_col9\" class=\"data row1 col9\" >661.526893</td>\n",
       "      <td id=\"T_5890f_row1_col10\" class=\"data row1 col10\" >2021.620978</td>\n",
       "      <td id=\"T_5890f_row1_col11\" class=\"data row1 col11\" >6.491916</td>\n",
       "      <td id=\"T_5890f_row1_col12\" class=\"data row1 col12\" >15.710499</td>\n",
       "      <td id=\"T_5890f_row1_col13\" class=\"data row1 col13\" >2.994747</td>\n",
       "    </tr>\n",
       "    <tr>\n",
       "      <th id=\"T_5890f_level0_row2\" class=\"row_heading level0 row2\" >min</th>\n",
       "      <td id=\"T_5890f_row2_col0\" class=\"data row2 col0\" >18.000000</td>\n",
       "      <td id=\"T_5890f_row2_col1\" class=\"data row2 col1\" >1.000000</td>\n",
       "      <td id=\"T_5890f_row2_col2\" class=\"data row2 col2\" >0.000000</td>\n",
       "      <td id=\"T_5890f_row2_col3\" class=\"data row2 col3\" >1.646561</td>\n",
       "      <td id=\"T_5890f_row2_col4\" class=\"data row2 col4\" >0.000000</td>\n",
       "      <td id=\"T_5890f_row2_col5\" class=\"data row2 col5\" >0.000000</td>\n",
       "      <td id=\"T_5890f_row2_col6\" class=\"data row2 col6\" >300.000000</td>\n",
       "      <td id=\"T_5890f_row2_col7\" class=\"data row2 col7\" >1.000000</td>\n",
       "      <td id=\"T_5890f_row2_col8\" class=\"data row2 col8\" >2019-08-17 15:21:39.080371</td>\n",
       "      <td id=\"T_5890f_row2_col9\" class=\"data row2 col9\" >0.000000</td>\n",
       "      <td id=\"T_5890f_row2_col10\" class=\"data row2 col10\" >2019.000000</td>\n",
       "      <td id=\"T_5890f_row2_col11\" class=\"data row2 col11\" >1.000000</td>\n",
       "      <td id=\"T_5890f_row2_col12\" class=\"data row2 col12\" >1.000000</td>\n",
       "      <td id=\"T_5890f_row2_col13\" class=\"data row2 col13\" >0.000000</td>\n",
       "    </tr>\n",
       "    <tr>\n",
       "      <th id=\"T_5890f_level0_row3\" class=\"row_heading level0 row3\" >25%</th>\n",
       "      <td id=\"T_5890f_row3_col0\" class=\"data row3 col0\" >30.000000</td>\n",
       "      <td id=\"T_5890f_row3_col1\" class=\"data row3 col1\" >8021.000000</td>\n",
       "      <td id=\"T_5890f_row3_col2\" class=\"data row3 col2\" >1.000000</td>\n",
       "      <td id=\"T_5890f_row3_col3\" class=\"data row3 col3\" >15.918658</td>\n",
       "      <td id=\"T_5890f_row3_col4\" class=\"data row3 col4\" >0.000000</td>\n",
       "      <td id=\"T_5890f_row3_col5\" class=\"data row3 col5\" >5.000000</td>\n",
       "      <td id=\"T_5890f_row3_col6\" class=\"data row3 col6\" >468.000000</td>\n",
       "      <td id=\"T_5890f_row3_col7\" class=\"data row3 col7\" >3.000000</td>\n",
       "      <td id=\"T_5890f_row3_col8\" class=\"data row3 col8\" >2020-11-20 15:21:39.134960128</td>\n",
       "      <td id=\"T_5890f_row3_col9\" class=\"data row3 col9\" >0.000000</td>\n",
       "      <td id=\"T_5890f_row3_col10\" class=\"data row3 col10\" >2020.000000</td>\n",
       "      <td id=\"T_5890f_row3_col11\" class=\"data row3 col11\" >4.000000</td>\n",
       "      <td id=\"T_5890f_row3_col12\" class=\"data row3 col12\" >8.000000</td>\n",
       "      <td id=\"T_5890f_row3_col13\" class=\"data row3 col13\" >1.000000</td>\n",
       "    </tr>\n",
       "    <tr>\n",
       "      <th id=\"T_5890f_level0_row4\" class=\"row_heading level0 row4\" >50%</th>\n",
       "      <td id=\"T_5890f_row4_col0\" class=\"data row4 col0\" >41.000000</td>\n",
       "      <td id=\"T_5890f_row4_col1\" class=\"data row4 col1\" >23957.000000</td>\n",
       "      <td id=\"T_5890f_row4_col2\" class=\"data row4 col2\" >2.000000</td>\n",
       "      <td id=\"T_5890f_row4_col3\" class=\"data row4 col3\" >24.579581</td>\n",
       "      <td id=\"T_5890f_row4_col4\" class=\"data row4 col4\" >1.000000</td>\n",
       "      <td id=\"T_5890f_row4_col5\" class=\"data row4 col5\" >10.000000</td>\n",
       "      <td id=\"T_5890f_row4_col6\" class=\"data row4 col6\" >595.000000</td>\n",
       "      <td id=\"T_5890f_row4_col7\" class=\"data row4 col7\" >5.000000</td>\n",
       "      <td id=\"T_5890f_row4_col8\" class=\"data row4 col8\" >2022-02-14 15:21:39.134960128</td>\n",
       "      <td id=\"T_5890f_row4_col9\" class=\"data row4 col9\" >360.000000</td>\n",
       "      <td id=\"T_5890f_row4_col10\" class=\"data row4 col10\" >2022.000000</td>\n",
       "      <td id=\"T_5890f_row4_col11\" class=\"data row4 col11\" >6.000000</td>\n",
       "      <td id=\"T_5890f_row4_col12\" class=\"data row4 col12\" >16.000000</td>\n",
       "      <td id=\"T_5890f_row4_col13\" class=\"data row4 col13\" >3.000000</td>\n",
       "    </tr>\n",
       "    <tr>\n",
       "      <th id=\"T_5890f_level0_row5\" class=\"row_heading level0 row5\" >75%</th>\n",
       "      <td id=\"T_5890f_row5_col0\" class=\"data row5 col0\" >53.000000</td>\n",
       "      <td id=\"T_5890f_row5_col1\" class=\"data row5 col1\" >44641.000000</td>\n",
       "      <td id=\"T_5890f_row5_col2\" class=\"data row5 col2\" >3.000000</td>\n",
       "      <td id=\"T_5890f_row5_col3\" class=\"data row5 col3\" >34.523910</td>\n",
       "      <td id=\"T_5890f_row5_col4\" class=\"data row5 col4\" >2.000000</td>\n",
       "      <td id=\"T_5890f_row5_col5\" class=\"data row5 col5\" >15.000000</td>\n",
       "      <td id=\"T_5890f_row5_col6\" class=\"data row5 col6\" >721.000000</td>\n",
       "      <td id=\"T_5890f_row5_col7\" class=\"data row5 col7\" >7.000000</td>\n",
       "      <td id=\"T_5890f_row5_col8\" class=\"data row5 col8\" >2023-05-06 15:21:39.223389952</td>\n",
       "      <td id=\"T_5890f_row5_col9\" class=\"data row5 col9\" >1037.000000</td>\n",
       "      <td id=\"T_5890f_row5_col10\" class=\"data row5 col10\" >2023.000000</td>\n",
       "      <td id=\"T_5890f_row5_col11\" class=\"data row5 col11\" >9.000000</td>\n",
       "      <td id=\"T_5890f_row5_col12\" class=\"data row5 col12\" >23.000000</td>\n",
       "      <td id=\"T_5890f_row5_col13\" class=\"data row5 col13\" >5.000000</td>\n",
       "    </tr>\n",
       "    <tr>\n",
       "      <th id=\"T_5890f_level0_row6\" class=\"row_heading level0 row6\" >max</th>\n",
       "      <td id=\"T_5890f_row6_col0\" class=\"data row6 col0\" >64.000000</td>\n",
       "      <td id=\"T_5890f_row6_col1\" class=\"data row6 col1\" >149997.000000</td>\n",
       "      <td id=\"T_5890f_row6_col2\" class=\"data row6 col2\" >4.000000</td>\n",
       "      <td id=\"T_5890f_row6_col3\" class=\"data row6 col3\" >58.975914</td>\n",
       "      <td id=\"T_5890f_row6_col4\" class=\"data row6 col4\" >9.000000</td>\n",
       "      <td id=\"T_5890f_row6_col5\" class=\"data row6 col5\" >19.000000</td>\n",
       "      <td id=\"T_5890f_row6_col6\" class=\"data row6 col6\" >849.000000</td>\n",
       "      <td id=\"T_5890f_row6_col7\" class=\"data row6 col7\" >9.000000</td>\n",
       "      <td id=\"T_5890f_row6_col8\" class=\"data row6 col8\" >2024-08-15 15:21:39.287115</td>\n",
       "      <td id=\"T_5890f_row6_col9\" class=\"data row6 col9\" >4999.000000</td>\n",
       "      <td id=\"T_5890f_row6_col10\" class=\"data row6 col10\" >2024.000000</td>\n",
       "      <td id=\"T_5890f_row6_col11\" class=\"data row6 col11\" >12.000000</td>\n",
       "      <td id=\"T_5890f_row6_col12\" class=\"data row6 col12\" >31.000000</td>\n",
       "      <td id=\"T_5890f_row6_col13\" class=\"data row6 col13\" >6.000000</td>\n",
       "    </tr>\n",
       "    <tr>\n",
       "      <th id=\"T_5890f_level0_row7\" class=\"row_heading level0 row7\" >std</th>\n",
       "      <td id=\"T_5890f_row7_col0\" class=\"data row7 col0\" >13.539099</td>\n",
       "      <td id=\"T_5890f_row7_col1\" class=\"data row7 col1\" >32188.136083</td>\n",
       "      <td id=\"T_5890f_row7_col2\" class=\"data row7 col2\" >1.416499</td>\n",
       "      <td id=\"T_5890f_row7_col3\" class=\"data row7 col3\" >12.204827</td>\n",
       "      <td id=\"T_5890f_row7_col4\" class=\"data row7 col4\" >0.982826</td>\n",
       "      <td id=\"T_5890f_row7_col5\" class=\"data row7 col5\" >5.774592</td>\n",
       "      <td id=\"T_5890f_row7_col6\" class=\"data row7 col6\" >150.035711</td>\n",
       "      <td id=\"T_5890f_row7_col7\" class=\"data row7 col7\" >2.594102</td>\n",
       "      <td id=\"T_5890f_row7_col8\" class=\"data row7 col8\" >nan</td>\n",
       "      <td id=\"T_5890f_row7_col9\" class=\"data row7 col9\" >860.627115</td>\n",
       "      <td id=\"T_5890f_row7_col10\" class=\"data row7 col10\" >1.476249</td>\n",
       "      <td id=\"T_5890f_row7_col11\" class=\"data row7 col11\" >3.432206</td>\n",
       "      <td id=\"T_5890f_row7_col12\" class=\"data row7 col12\" >8.808714</td>\n",
       "      <td id=\"T_5890f_row7_col13\" class=\"data row7 col13\" >2.002046</td>\n",
       "    </tr>\n",
       "  </tbody>\n",
       "</table>\n"
      ],
      "text/plain": [
       "<pandas.io.formats.style.Styler at 0x7869a5b79360>"
      ]
     },
     "execution_count": 15,
     "metadata": {},
     "output_type": "execute_result"
    }
   ],
   "source": [
    "df.describe().style.background_gradient()"
   ]
  },
  {
   "cell_type": "code",
   "execution_count": 16,
   "id": "9af74bb0",
   "metadata": {
    "execution": {
     "iopub.execute_input": "2024-12-30T20:04:28.358066Z",
     "iopub.status.busy": "2024-12-30T20:04:28.357725Z",
     "iopub.status.idle": "2024-12-30T20:04:31.084086Z",
     "shell.execute_reply": "2024-12-30T20:04:31.083226Z"
    },
    "papermill": {
     "duration": 2.738813,
     "end_time": "2024-12-30T20:04:31.085426",
     "exception": false,
     "start_time": "2024-12-30T20:04:28.346613",
     "status": "completed"
    },
    "tags": []
   },
   "outputs": [
    {
     "data": {
      "text/html": [
       "<div>\n",
       "<style scoped>\n",
       "    .dataframe tbody tr th:only-of-type {\n",
       "        vertical-align: middle;\n",
       "    }\n",
       "\n",
       "    .dataframe tbody tr th {\n",
       "        vertical-align: top;\n",
       "    }\n",
       "\n",
       "    .dataframe thead th {\n",
       "        text-align: right;\n",
       "    }\n",
       "</style>\n",
       "<table border=\"1\" class=\"dataframe\">\n",
       "  <thead>\n",
       "    <tr style=\"text-align: right;\">\n",
       "      <th></th>\n",
       "      <th>Gender</th>\n",
       "      <th>Marital Status</th>\n",
       "      <th>Education Level</th>\n",
       "      <th>Occupation</th>\n",
       "      <th>Location</th>\n",
       "      <th>Policy Type</th>\n",
       "      <th>Customer Feedback</th>\n",
       "      <th>Smoking Status</th>\n",
       "      <th>Exercise Frequency</th>\n",
       "      <th>Property Type</th>\n",
       "    </tr>\n",
       "  </thead>\n",
       "  <tbody>\n",
       "    <tr>\n",
       "      <th>count</th>\n",
       "      <td>2000000</td>\n",
       "      <td>1969135</td>\n",
       "      <td>2000000</td>\n",
       "      <td>1402800</td>\n",
       "      <td>2000000</td>\n",
       "      <td>2000000</td>\n",
       "      <td>1869900</td>\n",
       "      <td>2000000</td>\n",
       "      <td>2000000</td>\n",
       "      <td>2000000</td>\n",
       "    </tr>\n",
       "    <tr>\n",
       "      <th>unique</th>\n",
       "      <td>2</td>\n",
       "      <td>3</td>\n",
       "      <td>4</td>\n",
       "      <td>3</td>\n",
       "      <td>3</td>\n",
       "      <td>3</td>\n",
       "      <td>3</td>\n",
       "      <td>2</td>\n",
       "      <td>4</td>\n",
       "      <td>3</td>\n",
       "    </tr>\n",
       "    <tr>\n",
       "      <th>top</th>\n",
       "      <td>Male</td>\n",
       "      <td>Single</td>\n",
       "      <td>Master's</td>\n",
       "      <td>Employed</td>\n",
       "      <td>Suburban</td>\n",
       "      <td>Premium</td>\n",
       "      <td>Average</td>\n",
       "      <td>Yes</td>\n",
       "      <td>Weekly</td>\n",
       "      <td>House</td>\n",
       "    </tr>\n",
       "    <tr>\n",
       "      <th>freq</th>\n",
       "      <td>1003660</td>\n",
       "      <td>659096</td>\n",
       "      <td>506370</td>\n",
       "      <td>471324</td>\n",
       "      <td>668732</td>\n",
       "      <td>669475</td>\n",
       "      <td>629122</td>\n",
       "      <td>1003732</td>\n",
       "      <td>510693</td>\n",
       "      <td>667500</td>\n",
       "    </tr>\n",
       "  </tbody>\n",
       "</table>\n",
       "</div>"
      ],
      "text/plain": [
       "         Gender Marital Status Education Level Occupation  Location  \\\n",
       "count   2000000        1969135         2000000    1402800   2000000   \n",
       "unique        2              3               4          3         3   \n",
       "top        Male         Single        Master's   Employed  Suburban   \n",
       "freq    1003660         659096          506370     471324    668732   \n",
       "\n",
       "       Policy Type Customer Feedback Smoking Status Exercise Frequency  \\\n",
       "count      2000000           1869900        2000000            2000000   \n",
       "unique           3                 3              2                  4   \n",
       "top        Premium           Average            Yes             Weekly   \n",
       "freq        669475            629122        1003732             510693   \n",
       "\n",
       "       Property Type  \n",
       "count        2000000  \n",
       "unique             3  \n",
       "top            House  \n",
       "freq          667500  "
      ]
     },
     "execution_count": 16,
     "metadata": {},
     "output_type": "execute_result"
    }
   ],
   "source": [
    "df.describe(include='O')"
   ]
  },
  {
   "cell_type": "markdown",
   "id": "7ac2aea7",
   "metadata": {
    "papermill": {
     "duration": 0.01121,
     "end_time": "2024-12-30T20:04:31.108152",
     "exception": false,
     "start_time": "2024-12-30T20:04:31.096942",
     "status": "completed"
    },
    "tags": []
   },
   "source": [
    "This provides descriptive statistics for categorical (object-type) columns in your DataFrame"
   ]
  },
  {
   "cell_type": "markdown",
   "id": "3f828e7f",
   "metadata": {
    "papermill": {
     "duration": 0.010859,
     "end_time": "2024-12-30T20:04:31.130148",
     "exception": false,
     "start_time": "2024-12-30T20:04:31.119289",
     "status": "completed"
    },
    "tags": []
   },
   "source": [
    "## Columnwise analysis."
   ]
  },
  {
   "cell_type": "code",
   "execution_count": 17,
   "id": "215b5789",
   "metadata": {
    "execution": {
     "iopub.execute_input": "2024-12-30T20:04:31.153167Z",
     "iopub.status.busy": "2024-12-30T20:04:31.152902Z",
     "iopub.status.idle": "2024-12-30T20:04:31.157575Z",
     "shell.execute_reply": "2024-12-30T20:04:31.156931Z"
    },
    "papermill": {
     "duration": 0.017687,
     "end_time": "2024-12-30T20:04:31.158782",
     "exception": false,
     "start_time": "2024-12-30T20:04:31.141095",
     "status": "completed"
    },
    "tags": []
   },
   "outputs": [
    {
     "data": {
      "text/plain": [
       "Index(['Age', 'Gender', 'Annual Income', 'Marital Status',\n",
       "       'Number of Dependents', 'Education Level', 'Occupation', 'Health Score',\n",
       "       'Location', 'Policy Type', 'Previous Claims', 'Vehicle Age',\n",
       "       'Credit Score', 'Insurance Duration', 'Policy Start Date',\n",
       "       'Customer Feedback', 'Smoking Status', 'Exercise Frequency',\n",
       "       'Property Type', 'Premium Amount', 'year', 'month', 'date', 'day'],\n",
       "      dtype='object')"
      ]
     },
     "execution_count": 17,
     "metadata": {},
     "output_type": "execute_result"
    }
   ],
   "source": [
    "df.columns"
   ]
  },
  {
   "cell_type": "code",
   "execution_count": 18,
   "id": "01dd7c02",
   "metadata": {
    "execution": {
     "iopub.execute_input": "2024-12-30T20:04:31.181076Z",
     "iopub.status.busy": "2024-12-30T20:04:31.180838Z",
     "iopub.status.idle": "2024-12-30T20:04:31.187355Z",
     "shell.execute_reply": "2024-12-30T20:04:31.186726Z"
    },
    "papermill": {
     "duration": 0.018872,
     "end_time": "2024-12-30T20:04:31.188590",
     "exception": false,
     "start_time": "2024-12-30T20:04:31.169718",
     "status": "completed"
    },
    "tags": []
   },
   "outputs": [
    {
     "data": {
      "text/plain": [
       "31194"
      ]
     },
     "execution_count": 18,
     "metadata": {},
     "output_type": "execute_result"
    }
   ],
   "source": [
    "df['Age'].isna().sum()"
   ]
  },
  {
   "cell_type": "code",
   "execution_count": 19,
   "id": "033d3e24",
   "metadata": {
    "execution": {
     "iopub.execute_input": "2024-12-30T20:04:31.211120Z",
     "iopub.status.busy": "2024-12-30T20:04:31.210894Z",
     "iopub.status.idle": "2024-12-30T20:04:31.385051Z",
     "shell.execute_reply": "2024-12-30T20:04:31.384128Z"
    },
    "papermill": {
     "duration": 0.186866,
     "end_time": "2024-12-30T20:04:31.386343",
     "exception": false,
     "start_time": "2024-12-30T20:04:31.199477",
     "status": "completed"
    },
    "tags": []
   },
   "outputs": [
    {
     "name": "stdout",
     "output_type": "stream",
     "text": [
      "Total Null Values in Gender Column: 0\n",
      "Total Unique Values in Gender Column: ['Female' 'Male']\n"
     ]
    }
   ],
   "source": [
    "print(f\"Total Null Values in Gender Column: {df['Gender'].isna().sum()}\")\n",
    "print(f\"Total Unique Values in Gender Column: {df['Gender'].unique()}\")"
   ]
  },
  {
   "cell_type": "code",
   "execution_count": 20,
   "id": "8ade2bca",
   "metadata": {
    "execution": {
     "iopub.execute_input": "2024-12-30T20:04:31.409825Z",
     "iopub.status.busy": "2024-12-30T20:04:31.409608Z",
     "iopub.status.idle": "2024-12-30T20:04:31.554215Z",
     "shell.execute_reply": "2024-12-30T20:04:31.553275Z"
    },
    "papermill": {
     "duration": 0.157577,
     "end_time": "2024-12-30T20:04:31.555724",
     "exception": false,
     "start_time": "2024-12-30T20:04:31.398147",
     "status": "completed"
    },
    "tags": []
   },
   "outputs": [
    {
     "name": "stdout",
     "output_type": "stream",
     "text": [
      "Total Null Values in Marital Status Column: 30865\n",
      "Total Unique Values in Marital Status Column: ['Married' 'Divorced' 'Single' nan]\n"
     ]
    }
   ],
   "source": [
    "print(f\"Total Null Values in Marital Status Column: {df['Marital Status'].isna().sum()}\")\n",
    "print(f\"Total Unique Values in Marital Status Column: {df['Marital Status'].unique()}\")"
   ]
  },
  {
   "cell_type": "code",
   "execution_count": 21,
   "id": "f127da79",
   "metadata": {
    "execution": {
     "iopub.execute_input": "2024-12-30T20:04:31.579113Z",
     "iopub.status.busy": "2024-12-30T20:04:31.578888Z",
     "iopub.status.idle": "2024-12-30T20:04:31.759542Z",
     "shell.execute_reply": "2024-12-30T20:04:31.758653Z"
    },
    "papermill": {
     "duration": 0.193699,
     "end_time": "2024-12-30T20:04:31.760908",
     "exception": false,
     "start_time": "2024-12-30T20:04:31.567209",
     "status": "completed"
    },
    "tags": []
   },
   "outputs": [
    {
     "name": "stdout",
     "output_type": "stream",
     "text": [
      "Total Null Values in Education Level Column: 0\n",
      "Total Unique Values in Education Level Column: [\"Bachelor's\" \"Master's\" 'High School' 'PhD']\n"
     ]
    }
   ],
   "source": [
    "print(f\"Total Null Values in Education Level Column: {df['Education Level'].isna().sum()}\")\n",
    "print(f\"Total Unique Values in Education Level Column: {df['Education Level'].unique()}\")"
   ]
  },
  {
   "cell_type": "code",
   "execution_count": 22,
   "id": "debf4ae2",
   "metadata": {
    "execution": {
     "iopub.execute_input": "2024-12-30T20:04:31.784080Z",
     "iopub.status.busy": "2024-12-30T20:04:31.783807Z",
     "iopub.status.idle": "2024-12-30T20:04:31.928060Z",
     "shell.execute_reply": "2024-12-30T20:04:31.927141Z"
    },
    "papermill": {
     "duration": 0.15712,
     "end_time": "2024-12-30T20:04:31.929425",
     "exception": false,
     "start_time": "2024-12-30T20:04:31.772305",
     "status": "completed"
    },
    "tags": []
   },
   "outputs": [
    {
     "name": "stdout",
     "output_type": "stream",
     "text": [
      "Total Null Values in Occupation Column: 597200\n",
      "Total Unique Values in Occupation Column: ['Self-Employed' nan 'Employed' 'Unemployed']\n"
     ]
    }
   ],
   "source": [
    "print(f\"Total Null Values in Occupation Column: {df['Occupation'].isna().sum()}\")\n",
    "print(f\"Total Unique Values in Occupation Column: {df['Occupation'].unique()}\")"
   ]
  },
  {
   "cell_type": "code",
   "execution_count": 23,
   "id": "f099b52d",
   "metadata": {
    "execution": {
     "iopub.execute_input": "2024-12-30T20:04:31.953069Z",
     "iopub.status.busy": "2024-12-30T20:04:31.952806Z",
     "iopub.status.idle": "2024-12-30T20:04:32.122630Z",
     "shell.execute_reply": "2024-12-30T20:04:32.121774Z"
    },
    "papermill": {
     "duration": 0.18302,
     "end_time": "2024-12-30T20:04:32.124125",
     "exception": false,
     "start_time": "2024-12-30T20:04:31.941105",
     "status": "completed"
    },
    "tags": []
   },
   "outputs": [
    {
     "name": "stdout",
     "output_type": "stream",
     "text": [
      "Total Null Values in Location Column: 0\n",
      "Total Unique Values in Location Column: ['Urban' 'Rural' 'Suburban']\n"
     ]
    }
   ],
   "source": [
    "print(f\"Total Null Values in Location Column: {df['Location'].isna().sum()}\")\n",
    "print(f\"Total Unique Values in Location Column: {df['Location'].unique()}\")"
   ]
  },
  {
   "cell_type": "code",
   "execution_count": 24,
   "id": "f0ef038b",
   "metadata": {
    "execution": {
     "iopub.execute_input": "2024-12-30T20:04:32.148971Z",
     "iopub.status.busy": "2024-12-30T20:04:32.148707Z",
     "iopub.status.idle": "2024-12-30T20:04:32.291799Z",
     "shell.execute_reply": "2024-12-30T20:04:32.290954Z"
    },
    "papermill": {
     "duration": 0.156332,
     "end_time": "2024-12-30T20:04:32.292976",
     "exception": false,
     "start_time": "2024-12-30T20:04:32.136644",
     "status": "completed"
    },
    "tags": []
   },
   "outputs": [
    {
     "name": "stdout",
     "output_type": "stream",
     "text": [
      "Total Null Values in Customer Feedback Column: 130100\n",
      "Total Unique Values in Customer Feedback Column: ['Poor' 'Average' 'Good' nan]\n"
     ]
    }
   ],
   "source": [
    "print(f\"Total Null Values in Customer Feedback Column: {df['Customer Feedback'].isna().sum()}\")\n",
    "print(f\"Total Unique Values in Customer Feedback Column: {df['Customer Feedback'].unique()}\")"
   ]
  },
  {
   "cell_type": "code",
   "execution_count": 25,
   "id": "68e08865",
   "metadata": {
    "execution": {
     "iopub.execute_input": "2024-12-30T20:04:32.316363Z",
     "iopub.status.busy": "2024-12-30T20:04:32.316128Z",
     "iopub.status.idle": "2024-12-30T20:04:32.483843Z",
     "shell.execute_reply": "2024-12-30T20:04:32.483062Z"
    },
    "papermill": {
     "duration": 0.181095,
     "end_time": "2024-12-30T20:04:32.485403",
     "exception": false,
     "start_time": "2024-12-30T20:04:32.304308",
     "status": "completed"
    },
    "tags": []
   },
   "outputs": [
    {
     "name": "stdout",
     "output_type": "stream",
     "text": [
      "Total Null Values in Smoking Status Column: 0\n",
      "Total Unique Values in Smoking Status Column: ['No' 'Yes']\n"
     ]
    }
   ],
   "source": [
    "print(f\"Total Null Values in Smoking Status Column: {df['Smoking Status'].isna().sum()}\")\n",
    "print(f\"Total Unique Values in Smoking Status Column: {df['Smoking Status'].unique()}\")"
   ]
  },
  {
   "cell_type": "code",
   "execution_count": 26,
   "id": "2c3f6e51",
   "metadata": {
    "execution": {
     "iopub.execute_input": "2024-12-30T20:04:32.509645Z",
     "iopub.status.busy": "2024-12-30T20:04:32.509420Z",
     "iopub.status.idle": "2024-12-30T20:04:32.651205Z",
     "shell.execute_reply": "2024-12-30T20:04:32.650443Z"
    },
    "papermill": {
     "duration": 0.155086,
     "end_time": "2024-12-30T20:04:32.652446",
     "exception": false,
     "start_time": "2024-12-30T20:04:32.497360",
     "status": "completed"
    },
    "tags": []
   },
   "outputs": [
    {
     "name": "stdout",
     "output_type": "stream",
     "text": [
      "Total Null Values in Customer Feedback Column: 130100\n",
      "Total Unique Values in Customer Feedback Column: ['Poor' 'Average' 'Good' nan]\n"
     ]
    }
   ],
   "source": [
    "print(f\"Total Null Values in Customer Feedback Column: {df['Customer Feedback'].isna().sum()}\")\n",
    "print(f\"Total Unique Values in Customer Feedback Column: {df['Customer Feedback'].unique()}\")"
   ]
  },
  {
   "cell_type": "code",
   "execution_count": 27,
   "id": "cdab7cca",
   "metadata": {
    "execution": {
     "iopub.execute_input": "2024-12-30T20:04:32.676727Z",
     "iopub.status.busy": "2024-12-30T20:04:32.676515Z",
     "iopub.status.idle": "2024-12-30T20:04:32.849116Z",
     "shell.execute_reply": "2024-12-30T20:04:32.848170Z"
    },
    "papermill": {
     "duration": 0.186317,
     "end_time": "2024-12-30T20:04:32.850459",
     "exception": false,
     "start_time": "2024-12-30T20:04:32.664142",
     "status": "completed"
    },
    "tags": []
   },
   "outputs": [
    {
     "name": "stdout",
     "output_type": "stream",
     "text": [
      "Total Null Values in Exercise Frequency Column: 0\n",
      "Total Unique Values in Exercise Frequency Column: ['Weekly' 'Monthly' 'Daily' 'Rarely']\n"
     ]
    }
   ],
   "source": [
    "print(f\"Total Null Values in Exercise Frequency Column: {df['Exercise Frequency'].isna().sum()}\")\n",
    "print(f\"Total Unique Values in Exercise Frequency Column: {df['Exercise Frequency'].unique()}\")"
   ]
  },
  {
   "cell_type": "code",
   "execution_count": 28,
   "id": "500cb595",
   "metadata": {
    "execution": {
     "iopub.execute_input": "2024-12-30T20:04:32.874813Z",
     "iopub.status.busy": "2024-12-30T20:04:32.874481Z",
     "iopub.status.idle": "2024-12-30T20:04:33.049360Z",
     "shell.execute_reply": "2024-12-30T20:04:33.048632Z"
    },
    "papermill": {
     "duration": 0.188263,
     "end_time": "2024-12-30T20:04:33.050641",
     "exception": false,
     "start_time": "2024-12-30T20:04:32.862378",
     "status": "completed"
    },
    "tags": []
   },
   "outputs": [
    {
     "name": "stdout",
     "output_type": "stream",
     "text": [
      "Total Null Values in Property Type Column: 0\n",
      "Total Unique Values in Property Type Column: ['House' 'Apartment' 'Condo']\n"
     ]
    }
   ],
   "source": [
    "print(f\"Total Null Values in Property Type Column: {df['Property Type'].isna().sum()}\")\n",
    "print(f\"Total Unique Values in Property Type Column: {df['Property Type'].unique()}\")"
   ]
  },
  {
   "cell_type": "markdown",
   "id": "14f10eec",
   "metadata": {
    "papermill": {
     "duration": 0.011688,
     "end_time": "2024-12-30T20:04:33.074417",
     "exception": false,
     "start_time": "2024-12-30T20:04:33.062729",
     "status": "completed"
    },
    "tags": []
   },
   "source": [
    "## Checking NULL values"
   ]
  },
  {
   "cell_type": "markdown",
   "id": "89445cea",
   "metadata": {
    "papermill": {
     "duration": 0.011546,
     "end_time": "2024-12-30T20:04:33.097717",
     "exception": false,
     "start_time": "2024-12-30T20:04:33.086171",
     "status": "completed"
    },
    "tags": []
   },
   "source": [
    "Checking `Null Values`"
   ]
  },
  {
   "cell_type": "code",
   "execution_count": 29,
   "id": "70640312",
   "metadata": {
    "execution": {
     "iopub.execute_input": "2024-12-30T20:04:33.122139Z",
     "iopub.status.busy": "2024-12-30T20:04:33.121795Z",
     "iopub.status.idle": "2024-12-30T20:05:11.227910Z",
     "shell.execute_reply": "2024-12-30T20:05:11.227092Z"
    },
    "papermill": {
     "duration": 38.133159,
     "end_time": "2024-12-30T20:05:11.242382",
     "exception": false,
     "start_time": "2024-12-30T20:04:33.109223",
     "status": "completed"
    },
    "tags": []
   },
   "outputs": [
    {
     "data": {
      "image/png": "[encoded data removed]",
      "text/plain": [
       "<Figure size 1200x800 with 1 Axes>"
      ]
     },
     "metadata": {},
     "output_type": "display_data"
    }
   ],
   "source": [
    "# Create a heatmap to visualize null values\n",
    "plt.figure(figsize=(12, 8))  # Adjust the figure size as needed\n",
    "sns.heatmap(df.isnull(), cbar=False, cmap='viridis', yticklabels=False)\n",
    "\n",
    "plt.title('Heatmap of Missing Values')\n",
    "plt.show()"
   ]
  },
  {
   "cell_type": "markdown",
   "id": "8fee2739",
   "metadata": {
    "papermill": {
     "duration": 0.012548,
     "end_time": "2024-12-30T20:05:11.267683",
     "exception": false,
     "start_time": "2024-12-30T20:05:11.255135",
     "status": "completed"
    },
    "tags": []
   },
   "source": [
    "The dataset is pretty much clean."
   ]
  },
  {
   "cell_type": "code",
   "execution_count": 30,
   "id": "52d04d14",
   "metadata": {
    "execution": {
     "iopub.execute_input": "2024-12-30T20:05:11.293931Z",
     "iopub.status.busy": "2024-12-30T20:05:11.293646Z",
     "iopub.status.idle": "2024-12-30T20:05:12.089696Z",
     "shell.execute_reply": "2024-12-30T20:05:12.088952Z"
    },
    "papermill": {
     "duration": 0.810926,
     "end_time": "2024-12-30T20:05:12.091140",
     "exception": false,
     "start_time": "2024-12-30T20:05:11.280214",
     "status": "completed"
    },
    "tags": []
   },
   "outputs": [
    {
     "data": {
      "text/html": [
       "<style type=\"text/css\">\n",
       "#T_ab0b6_row0_col1, #T_ab0b6_row0_col2 {\n",
       "  background-color: #023858;\n",
       "  color: #f1f1f1;\n",
       "}\n",
       "#T_ab0b6_row1_col1, #T_ab0b6_row1_col2 {\n",
       "  background-color: #023c5f;\n",
       "  color: #f1f1f1;\n",
       "}\n",
       "#T_ab0b6_row2_col1, #T_ab0b6_row2_col2 {\n",
       "  background-color: #a5bddb;\n",
       "  color: #000000;\n",
       "}\n",
       "#T_ab0b6_row3_col1, #T_ab0b6_row3_col2 {\n",
       "  background-color: #bfc9e1;\n",
       "  color: #000000;\n",
       "}\n",
       "#T_ab0b6_row4_col1, #T_ab0b6_row4_col2 {\n",
       "  background-color: #d9d8ea;\n",
       "  color: #000000;\n",
       "}\n",
       "#T_ab0b6_row5_col1, #T_ab0b6_row5_col2 {\n",
       "  background-color: #dad9ea;\n",
       "  color: #000000;\n",
       "}\n",
       "#T_ab0b6_row6_col1, #T_ab0b6_row6_col2 {\n",
       "  background-color: #ede7f2;\n",
       "  color: #000000;\n",
       "}\n",
       "#T_ab0b6_row7_col1, #T_ab0b6_row7_col2, #T_ab0b6_row8_col1, #T_ab0b6_row8_col2 {\n",
       "  background-color: #f7f0f7;\n",
       "  color: #000000;\n",
       "}\n",
       "#T_ab0b6_row9_col1, #T_ab0b6_row9_col2, #T_ab0b6_row10_col1, #T_ab0b6_row10_col2 {\n",
       "  background-color: #fff7fb;\n",
       "  color: #000000;\n",
       "}\n",
       "</style>\n",
       "<table id=\"T_ab0b6\">\n",
       "  <thead>\n",
       "    <tr>\n",
       "      <th class=\"blank level0\" >&nbsp;</th>\n",
       "      <th id=\"T_ab0b6_level0_col0\" class=\"col_heading level0 col0\" >features</th>\n",
       "      <th id=\"T_ab0b6_level0_col1\" class=\"col_heading level0 col1\" >missing_count</th>\n",
       "      <th id=\"T_ab0b6_level0_col2\" class=\"col_heading level0 col2\" >percentage</th>\n",
       "    </tr>\n",
       "  </thead>\n",
       "  <tbody>\n",
       "    <tr>\n",
       "      <th id=\"T_ab0b6_level0_row0\" class=\"row_heading level0 row0\" >0</th>\n",
       "      <td id=\"T_ab0b6_row0_col0\" class=\"data row0 col0\" >Previous Claims</td>\n",
       "      <td id=\"T_ab0b6_row0_col1\" class=\"data row0 col1\" >606831</td>\n",
       "      <td id=\"T_ab0b6_row0_col2\" class=\"data row0 col2\" >30.341550</td>\n",
       "    </tr>\n",
       "    <tr>\n",
       "      <th id=\"T_ab0b6_level0_row1\" class=\"row_heading level0 row1\" >1</th>\n",
       "      <td id=\"T_ab0b6_row1_col0\" class=\"data row1 col0\" >Occupation</td>\n",
       "      <td id=\"T_ab0b6_row1_col1\" class=\"data row1 col1\" >597200</td>\n",
       "      <td id=\"T_ab0b6_row1_col2\" class=\"data row1 col2\" >29.860000</td>\n",
       "    </tr>\n",
       "    <tr>\n",
       "      <th id=\"T_ab0b6_level0_row2\" class=\"row_heading level0 row2\" >2</th>\n",
       "      <td id=\"T_ab0b6_row2_col0\" class=\"data row2 col0\" >Credit Score</td>\n",
       "      <td id=\"T_ab0b6_row2_col1\" class=\"data row2 col1\" >229333</td>\n",
       "      <td id=\"T_ab0b6_row2_col2\" class=\"data row2 col2\" >11.466650</td>\n",
       "    </tr>\n",
       "    <tr>\n",
       "      <th id=\"T_ab0b6_level0_row3\" class=\"row_heading level0 row3\" >3</th>\n",
       "      <td id=\"T_ab0b6_row3_col0\" class=\"data row3 col0\" >Number of Dependents</td>\n",
       "      <td id=\"T_ab0b6_row3_col1\" class=\"data row3 col1\" >182802</td>\n",
       "      <td id=\"T_ab0b6_row3_col2\" class=\"data row3 col2\" >9.140100</td>\n",
       "    </tr>\n",
       "    <tr>\n",
       "      <th id=\"T_ab0b6_level0_row4\" class=\"row_heading level0 row4\" >4</th>\n",
       "      <td id=\"T_ab0b6_row4_col0\" class=\"data row4 col0\" >Customer Feedback</td>\n",
       "      <td id=\"T_ab0b6_row4_col1\" class=\"data row4 col1\" >130100</td>\n",
       "      <td id=\"T_ab0b6_row4_col2\" class=\"data row4 col2\" >6.505000</td>\n",
       "    </tr>\n",
       "    <tr>\n",
       "      <th id=\"T_ab0b6_level0_row5\" class=\"row_heading level0 row5\" >5</th>\n",
       "      <td id=\"T_ab0b6_row5_col0\" class=\"data row5 col0\" >Health Score</td>\n",
       "      <td id=\"T_ab0b6_row5_col1\" class=\"data row5 col1\" >123525</td>\n",
       "      <td id=\"T_ab0b6_row5_col2\" class=\"data row5 col2\" >6.176250</td>\n",
       "    </tr>\n",
       "    <tr>\n",
       "      <th id=\"T_ab0b6_level0_row6\" class=\"row_heading level0 row6\" >6</th>\n",
       "      <td id=\"T_ab0b6_row6_col0\" class=\"data row6 col0\" >Annual Income</td>\n",
       "      <td id=\"T_ab0b6_row6_col1\" class=\"data row6 col1\" >74809</td>\n",
       "      <td id=\"T_ab0b6_row6_col2\" class=\"data row6 col2\" >3.740450</td>\n",
       "    </tr>\n",
       "    <tr>\n",
       "      <th id=\"T_ab0b6_level0_row7\" class=\"row_heading level0 row7\" >7</th>\n",
       "      <td id=\"T_ab0b6_row7_col0\" class=\"data row7 col0\" >Age</td>\n",
       "      <td id=\"T_ab0b6_row7_col1\" class=\"data row7 col1\" >31194</td>\n",
       "      <td id=\"T_ab0b6_row7_col2\" class=\"data row7 col2\" >1.559700</td>\n",
       "    </tr>\n",
       "    <tr>\n",
       "      <th id=\"T_ab0b6_level0_row8\" class=\"row_heading level0 row8\" >8</th>\n",
       "      <td id=\"T_ab0b6_row8_col0\" class=\"data row8 col0\" >Marital Status</td>\n",
       "      <td id=\"T_ab0b6_row8_col1\" class=\"data row8 col1\" >30865</td>\n",
       "      <td id=\"T_ab0b6_row8_col2\" class=\"data row8 col2\" >1.543250</td>\n",
       "    </tr>\n",
       "    <tr>\n",
       "      <th id=\"T_ab0b6_level0_row9\" class=\"row_heading level0 row9\" >9</th>\n",
       "      <td id=\"T_ab0b6_row9_col0\" class=\"data row9 col0\" >Vehicle Age</td>\n",
       "      <td id=\"T_ab0b6_row9_col1\" class=\"data row9 col1\" >9</td>\n",
       "      <td id=\"T_ab0b6_row9_col2\" class=\"data row9 col2\" >0.000450</td>\n",
       "    </tr>\n",
       "    <tr>\n",
       "      <th id=\"T_ab0b6_level0_row10\" class=\"row_heading level0 row10\" >10</th>\n",
       "      <td id=\"T_ab0b6_row10_col0\" class=\"data row10 col0\" >Insurance Duration</td>\n",
       "      <td id=\"T_ab0b6_row10_col1\" class=\"data row10 col1\" >3</td>\n",
       "      <td id=\"T_ab0b6_row10_col2\" class=\"data row10 col2\" >0.000150</td>\n",
       "    </tr>\n",
       "  </tbody>\n",
       "</table>\n"
      ],
      "text/plain": [
       "<pandas.io.formats.style.Styler at 0x7869a5ba98d0>"
      ]
     },
     "execution_count": 30,
     "metadata": {},
     "output_type": "execute_result"
    }
   ],
   "source": [
    "missing = df.isna().sum().reset_index()\n",
    "missing.columns = ['features','missing_count']\n",
    "missing['percentage'] = missing['missing_count']/df.shape[0]*100\n",
    "(missing[missing['missing_count']>0]\n",
    " .sort_values(by='missing_count',ascending=False)\n",
    " .reset_index(drop=True)\n",
    " .style.background_gradient())"
   ]
  },
  {
   "cell_type": "markdown",
   "id": "a98853a7",
   "metadata": {
    "papermill": {
     "duration": 0.012412,
     "end_time": "2024-12-30T20:05:12.117454",
     "exception": false,
     "start_time": "2024-12-30T20:05:12.105042",
     "status": "completed"
    },
    "tags": []
   },
   "source": [
    "## Checking Outliers"
   ]
  },
  {
   "cell_type": "code",
   "execution_count": 31,
   "id": "ea8795d4",
   "metadata": {
    "execution": {
     "iopub.execute_input": "2024-12-30T20:05:12.144365Z",
     "iopub.status.busy": "2024-12-30T20:05:12.144083Z",
     "iopub.status.idle": "2024-12-30T20:06:09.968889Z",
     "shell.execute_reply": "2024-12-30T20:06:09.968090Z"
    },
    "papermill": {
     "duration": 57.86396,
     "end_time": "2024-12-30T20:06:09.994341",
     "exception": false,
     "start_time": "2024-12-30T20:05:12.130381",
     "status": "completed"
    },
    "tags": []
   },
   "outputs": [
    {
     "data": {
      "image/png": "[encoded data removed]",
      "text/plain": [
       "<Figure size 1800x2500 with 13 Axes>"
      ]
     },
     "metadata": {},
     "output_type": "display_data"
    }
   ],
   "source": [
    "# Extract numerical columns except 'Premium Amount'\n",
    "df_numerical = df.select_dtypes(exclude=['object'])\n",
    "\n",
    "# Initialize variables for subplot layout\n",
    "columns = df_numerical.columns.drop('Premium Amount')  # Exclude 'Premium Amount'\n",
    "num_plots = len(columns)\n",
    "rows = (num_plots + 2) // 3  # Calculate number of rows needed (3 plots per row)\n",
    "\n",
    "# Create subplots\n",
    "fig, axes = plt.subplots(rows, 3, figsize=(18, rows * 5))  # Adjust figure size for better readability\n",
    "axes = axes.flatten()  # Flatten axes array for easier indexing\n",
    "\n",
    "# Plot each column\n",
    "for i, column in enumerate(columns):\n",
    "    ax = axes[i]\n",
    "    ax.scatter(df_numerical[column], df_numerical['Premium Amount'], alpha=0.7)\n",
    "    ax.set_title(f'{column} vs SalePrice')\n",
    "    ax.set_xlabel(column)\n",
    "    ax.set_ylabel('Premium Amount')\n",
    "    ax.grid(True)\n",
    "\n",
    "# Hide any unused subplot axes\n",
    "for j in range(i + 1, len(axes)):\n",
    "    fig.delaxes(axes[j])\n",
    "\n",
    "# Adjust layout to prevent overlap\n",
    "plt.tight_layout()\n",
    "plt.show()"
   ]
  },
  {
   "cell_type": "markdown",
   "id": "36b57230",
   "metadata": {
    "papermill": {
     "duration": 0.018059,
     "end_time": "2024-12-30T20:06:10.030921",
     "exception": false,
     "start_time": "2024-12-30T20:06:10.012862",
     "status": "completed"
    },
    "tags": []
   },
   "source": [
    "Very low amount of outliers."
   ]
  },
  {
   "cell_type": "markdown",
   "id": "0b7eb6e7",
   "metadata": {
    "papermill": {
     "duration": 0.018268,
     "end_time": "2024-12-30T20:06:10.067634",
     "exception": false,
     "start_time": "2024-12-30T20:06:10.049366",
     "status": "completed"
    },
    "tags": []
   },
   "source": [
    "# Data Preprocessing"
   ]
  },
  {
   "cell_type": "markdown",
   "id": "d7fafe6a",
   "metadata": {
    "papermill": {
     "duration": 0.017844,
     "end_time": "2024-12-30T20:06:10.103696",
     "exception": false,
     "start_time": "2024-12-30T20:06:10.085852",
     "status": "completed"
    },
    "tags": []
   },
   "source": [
    "## Handling NULL values."
   ]
  },
  {
   "cell_type": "code",
   "execution_count": 32,
   "id": "7500d4fc",
   "metadata": {
    "execution": {
     "iopub.execute_input": "2024-12-30T20:06:10.143476Z",
     "iopub.status.busy": "2024-12-30T20:06:10.143140Z",
     "iopub.status.idle": "2024-12-30T20:06:10.904320Z",
     "shell.execute_reply": "2024-12-30T20:06:10.903195Z"
    },
    "papermill": {
     "duration": 0.78218,
     "end_time": "2024-12-30T20:06:10.905659",
     "exception": false,
     "start_time": "2024-12-30T20:06:10.123479",
     "status": "completed"
    },
    "tags": []
   },
   "outputs": [
    {
     "name": "stdout",
     "output_type": "stream",
     "text": [
      "Columns with NULL values:\n",
      "['Age', 'Annual Income', 'Marital Status', 'Number of Dependents', 'Occupation', 'Health Score', 'Previous Claims', 'Vehicle Age', 'Credit Score', 'Insurance Duration', 'Customer Feedback']\n"
     ]
    }
   ],
   "source": [
    "# Identify columns with NULL values\n",
    "columns_with_null = df.columns[df.isnull().any()].tolist()\n",
    "\n",
    "# Display the result\n",
    "print(\"Columns with NULL values:\")\n",
    "print(columns_with_null)"
   ]
  },
  {
   "cell_type": "markdown",
   "id": "b536307a",
   "metadata": {
    "papermill": {
     "duration": 0.018911,
     "end_time": "2024-12-30T20:06:10.943525",
     "exception": false,
     "start_time": "2024-12-30T20:06:10.924614",
     "status": "completed"
    },
    "tags": []
   },
   "source": [
    "__Numerical Columns__: `Age`, `Annual Income`, `Health Score`, `Previous Claims`, `Vehicle Age`, `Credit Score`, `Insurance Duration`.\n",
    "\n",
    "__Categorical Columns__: `Marital Status`, `Number of Dependents`, `Occupation`, `Customer Feedback`"
   ]
  },
  {
   "cell_type": "code",
   "execution_count": 33,
   "id": "9821afcd",
   "metadata": {
    "execution": {
     "iopub.execute_input": "2024-12-30T20:06:10.983369Z",
     "iopub.status.busy": "2024-12-30T20:06:10.983072Z",
     "iopub.status.idle": "2024-12-30T20:06:11.030138Z",
     "shell.execute_reply": "2024-12-30T20:06:11.029431Z"
    },
    "papermill": {
     "duration": 0.068626,
     "end_time": "2024-12-30T20:06:11.031710",
     "exception": false,
     "start_time": "2024-12-30T20:06:10.963084",
     "status": "completed"
    },
    "tags": []
   },
   "outputs": [],
   "source": [
    "# Mean Imputation:\n",
    "df['Age'].fillna(df['Age'].mean(), inplace=True)\n",
    "df['Annual Income'].fillna(df['Annual Income'].mean(), inplace=True)\n",
    "df['Health Score'].fillna(df['Health Score'].mean(), inplace=True)"
   ]
  },
  {
   "cell_type": "code",
   "execution_count": 34,
   "id": "2e94cd21",
   "metadata": {
    "execution": {
     "iopub.execute_input": "2024-12-30T20:06:11.070609Z",
     "iopub.status.busy": "2024-12-30T20:06:11.070287Z",
     "iopub.status.idle": "2024-12-30T20:06:11.175345Z",
     "shell.execute_reply": "2024-12-30T20:06:11.174388Z"
    },
    "papermill": {
     "duration": 0.126304,
     "end_time": "2024-12-30T20:06:11.177069",
     "exception": false,
     "start_time": "2024-12-30T20:06:11.050765",
     "status": "completed"
    },
    "tags": []
   },
   "outputs": [],
   "source": [
    "# Median Imputation\n",
    "df['Credit Score'].fillna(df['Credit Score'].median(), inplace=True)\n",
    "df['Vehicle Age'].fillna(df['Vehicle Age'].median(), inplace=True)\n",
    "df['Number of Dependents'].fillna(0, inplace=True)"
   ]
  },
  {
   "cell_type": "code",
   "execution_count": 35,
   "id": "35f9fab9",
   "metadata": {
    "execution": {
     "iopub.execute_input": "2024-12-30T20:06:11.215910Z",
     "iopub.status.busy": "2024-12-30T20:06:11.215551Z",
     "iopub.status.idle": "2024-12-30T20:06:11.230699Z",
     "shell.execute_reply": "2024-12-30T20:06:11.229859Z"
    },
    "papermill": {
     "duration": 0.035618,
     "end_time": "2024-12-30T20:06:11.232117",
     "exception": false,
     "start_time": "2024-12-30T20:06:11.196499",
     "status": "completed"
    },
    "tags": []
   },
   "outputs": [],
   "source": [
    "# Domain Specific Constants.\n",
    "df['Previous Claims'].fillna(0, inplace=True)"
   ]
  },
  {
   "cell_type": "code",
   "execution_count": 36,
   "id": "cfbd20cb",
   "metadata": {
    "execution": {
     "iopub.execute_input": "2024-12-30T20:06:11.270538Z",
     "iopub.status.busy": "2024-12-30T20:06:11.270221Z",
     "iopub.status.idle": "2024-12-30T20:06:11.686926Z",
     "shell.execute_reply": "2024-12-30T20:06:11.686230Z"
    },
    "papermill": {
     "duration": 0.437572,
     "end_time": "2024-12-30T20:06:11.688528",
     "exception": false,
     "start_time": "2024-12-30T20:06:11.250956",
     "status": "completed"
    },
    "tags": []
   },
   "outputs": [],
   "source": [
    "# Categorical Data MODE imputation.\n",
    "df['Marital Status'].fillna(df['Marital Status'].mode()[0], inplace=True)\n",
    "df['Occupation'].fillna(df['Occupation'].mode()[0], inplace=True)"
   ]
  },
  {
   "cell_type": "code",
   "execution_count": 37,
   "id": "d8ed3b63",
   "metadata": {
    "execution": {
     "iopub.execute_input": "2024-12-30T20:06:11.727669Z",
     "iopub.status.busy": "2024-12-30T20:06:11.727383Z",
     "iopub.status.idle": "2024-12-30T20:06:11.831138Z",
     "shell.execute_reply": "2024-12-30T20:06:11.830401Z"
    },
    "papermill": {
     "duration": 0.125175,
     "end_time": "2024-12-30T20:06:11.832715",
     "exception": false,
     "start_time": "2024-12-30T20:06:11.707540",
     "status": "completed"
    },
    "tags": []
   },
   "outputs": [],
   "source": [
    "# Filling with `Unknown` value.\n",
    "df['Customer Feedback'].fillna('Unknown', inplace=True)"
   ]
  },
  {
   "cell_type": "code",
   "execution_count": 38,
   "id": "18c61717",
   "metadata": {
    "execution": {
     "iopub.execute_input": "2024-12-30T20:06:11.872069Z",
     "iopub.status.busy": "2024-12-30T20:06:11.871760Z",
     "iopub.status.idle": "2024-12-30T20:06:12.222652Z",
     "shell.execute_reply": "2024-12-30T20:06:12.221661Z"
    },
    "papermill": {
     "duration": 0.372496,
     "end_time": "2024-12-30T20:06:12.224354",
     "exception": false,
     "start_time": "2024-12-30T20:06:11.851858",
     "status": "completed"
    },
    "tags": []
   },
   "outputs": [
    {
     "name": "stderr",
     "output_type": "stream",
     "text": [
      "<ipython-input-38-262a3603a2e6>:2: FutureWarning: Series.fillna with 'method' is deprecated and will raise in a future version. Use obj.ffill() or obj.bfill() instead.\n",
      "  df['Marital Status'].fillna(method='ffill', inplace=True)\n",
      "<ipython-input-38-262a3603a2e6>:3: FutureWarning: Series.fillna with 'method' is deprecated and will raise in a future version. Use obj.ffill() or obj.bfill() instead.\n",
      "  df['Occupation'].fillna(method='bfill', inplace=True)\n"
     ]
    }
   ],
   "source": [
    "# May have some logical sequence.\n",
    "df['Marital Status'].fillna(method='ffill', inplace=True)\n",
    "df['Occupation'].fillna(method='bfill', inplace=True)"
   ]
  },
  {
   "cell_type": "code",
   "execution_count": 39,
   "id": "09692a4e",
   "metadata": {
    "execution": {
     "iopub.execute_input": "2024-12-30T20:06:12.262209Z",
     "iopub.status.busy": "2024-12-30T20:06:12.261951Z",
     "iopub.status.idle": "2024-12-30T20:06:12.342558Z",
     "shell.execute_reply": "2024-12-30T20:06:12.341937Z"
    },
    "papermill": {
     "duration": 0.100606,
     "end_time": "2024-12-30T20:06:12.343780",
     "exception": false,
     "start_time": "2024-12-30T20:06:12.243174",
     "status": "completed"
    },
    "tags": []
   },
   "outputs": [],
   "source": [
    "# If there is no feedback then the customers are most likely satisfied\n",
    "df['Customer Feedback'].fillna('Good', inplace=True)"
   ]
  },
  {
   "cell_type": "code",
   "execution_count": 40,
   "id": "19b47750",
   "metadata": {
    "execution": {
     "iopub.execute_input": "2024-12-30T20:06:12.380987Z",
     "iopub.status.busy": "2024-12-30T20:06:12.380718Z",
     "iopub.status.idle": "2024-12-30T20:06:12.402224Z",
     "shell.execute_reply": "2024-12-30T20:06:12.401584Z"
    },
    "papermill": {
     "duration": 0.041293,
     "end_time": "2024-12-30T20:06:12.403461",
     "exception": false,
     "start_time": "2024-12-30T20:06:12.362168",
     "status": "completed"
    },
    "tags": []
   },
   "outputs": [
    {
     "data": {
      "text/html": [
       "<div>\n",
       "<style scoped>\n",
       "    .dataframe tbody tr th:only-of-type {\n",
       "        vertical-align: middle;\n",
       "    }\n",
       "\n",
       "    .dataframe tbody tr th {\n",
       "        vertical-align: top;\n",
       "    }\n",
       "\n",
       "    .dataframe thead th {\n",
       "        text-align: right;\n",
       "    }\n",
       "</style>\n",
       "<table border=\"1\" class=\"dataframe\">\n",
       "  <thead>\n",
       "    <tr style=\"text-align: right;\">\n",
       "      <th></th>\n",
       "      <th>Age</th>\n",
       "      <th>Gender</th>\n",
       "      <th>Annual Income</th>\n",
       "      <th>Marital Status</th>\n",
       "      <th>Number of Dependents</th>\n",
       "      <th>Education Level</th>\n",
       "      <th>Occupation</th>\n",
       "      <th>Health Score</th>\n",
       "      <th>Location</th>\n",
       "      <th>Policy Type</th>\n",
       "      <th>...</th>\n",
       "      <th>Policy Start Date</th>\n",
       "      <th>Customer Feedback</th>\n",
       "      <th>Smoking Status</th>\n",
       "      <th>Exercise Frequency</th>\n",
       "      <th>Property Type</th>\n",
       "      <th>Premium Amount</th>\n",
       "      <th>year</th>\n",
       "      <th>month</th>\n",
       "      <th>date</th>\n",
       "      <th>day</th>\n",
       "    </tr>\n",
       "    <tr>\n",
       "      <th>id</th>\n",
       "      <th></th>\n",
       "      <th></th>\n",
       "      <th></th>\n",
       "      <th></th>\n",
       "      <th></th>\n",
       "      <th></th>\n",
       "      <th></th>\n",
       "      <th></th>\n",
       "      <th></th>\n",
       "      <th></th>\n",
       "      <th></th>\n",
       "      <th></th>\n",
       "      <th></th>\n",
       "      <th></th>\n",
       "      <th></th>\n",
       "      <th></th>\n",
       "      <th></th>\n",
       "      <th></th>\n",
       "      <th></th>\n",
       "      <th></th>\n",
       "      <th></th>\n",
       "    </tr>\n",
       "  </thead>\n",
       "  <tbody>\n",
       "    <tr>\n",
       "      <th>0</th>\n",
       "      <td>19.0</td>\n",
       "      <td>Female</td>\n",
       "      <td>10049.0</td>\n",
       "      <td>Married</td>\n",
       "      <td>1.0</td>\n",
       "      <td>Bachelor's</td>\n",
       "      <td>Self-Employed</td>\n",
       "      <td>22.598761</td>\n",
       "      <td>Urban</td>\n",
       "      <td>Premium</td>\n",
       "      <td>...</td>\n",
       "      <td>2023-12-23 15:21:39.134960</td>\n",
       "      <td>Poor</td>\n",
       "      <td>No</td>\n",
       "      <td>Weekly</td>\n",
       "      <td>House</td>\n",
       "      <td>2869.0</td>\n",
       "      <td>2023</td>\n",
       "      <td>12</td>\n",
       "      <td>23</td>\n",
       "      <td>5</td>\n",
       "    </tr>\n",
       "    <tr>\n",
       "      <th>1</th>\n",
       "      <td>39.0</td>\n",
       "      <td>Female</td>\n",
       "      <td>31678.0</td>\n",
       "      <td>Divorced</td>\n",
       "      <td>3.0</td>\n",
       "      <td>Master's</td>\n",
       "      <td>Employed</td>\n",
       "      <td>15.569731</td>\n",
       "      <td>Rural</td>\n",
       "      <td>Comprehensive</td>\n",
       "      <td>...</td>\n",
       "      <td>2023-06-12 15:21:39.111551</td>\n",
       "      <td>Average</td>\n",
       "      <td>Yes</td>\n",
       "      <td>Monthly</td>\n",
       "      <td>House</td>\n",
       "      <td>1483.0</td>\n",
       "      <td>2023</td>\n",
       "      <td>6</td>\n",
       "      <td>12</td>\n",
       "      <td>0</td>\n",
       "    </tr>\n",
       "    <tr>\n",
       "      <th>2</th>\n",
       "      <td>23.0</td>\n",
       "      <td>Male</td>\n",
       "      <td>25602.0</td>\n",
       "      <td>Divorced</td>\n",
       "      <td>3.0</td>\n",
       "      <td>High School</td>\n",
       "      <td>Self-Employed</td>\n",
       "      <td>47.177549</td>\n",
       "      <td>Suburban</td>\n",
       "      <td>Premium</td>\n",
       "      <td>...</td>\n",
       "      <td>2023-09-30 15:21:39.221386</td>\n",
       "      <td>Good</td>\n",
       "      <td>Yes</td>\n",
       "      <td>Weekly</td>\n",
       "      <td>House</td>\n",
       "      <td>567.0</td>\n",
       "      <td>2023</td>\n",
       "      <td>9</td>\n",
       "      <td>30</td>\n",
       "      <td>5</td>\n",
       "    </tr>\n",
       "    <tr>\n",
       "      <th>3</th>\n",
       "      <td>21.0</td>\n",
       "      <td>Male</td>\n",
       "      <td>141855.0</td>\n",
       "      <td>Married</td>\n",
       "      <td>2.0</td>\n",
       "      <td>Bachelor's</td>\n",
       "      <td>Employed</td>\n",
       "      <td>10.938144</td>\n",
       "      <td>Rural</td>\n",
       "      <td>Basic</td>\n",
       "      <td>...</td>\n",
       "      <td>2024-06-12 15:21:39.226954</td>\n",
       "      <td>Poor</td>\n",
       "      <td>Yes</td>\n",
       "      <td>Daily</td>\n",
       "      <td>Apartment</td>\n",
       "      <td>765.0</td>\n",
       "      <td>2024</td>\n",
       "      <td>6</td>\n",
       "      <td>12</td>\n",
       "      <td>2</td>\n",
       "    </tr>\n",
       "    <tr>\n",
       "      <th>4</th>\n",
       "      <td>21.0</td>\n",
       "      <td>Male</td>\n",
       "      <td>39651.0</td>\n",
       "      <td>Single</td>\n",
       "      <td>1.0</td>\n",
       "      <td>Bachelor's</td>\n",
       "      <td>Self-Employed</td>\n",
       "      <td>20.376094</td>\n",
       "      <td>Rural</td>\n",
       "      <td>Premium</td>\n",
       "      <td>...</td>\n",
       "      <td>2021-12-01 15:21:39.252145</td>\n",
       "      <td>Poor</td>\n",
       "      <td>Yes</td>\n",
       "      <td>Weekly</td>\n",
       "      <td>House</td>\n",
       "      <td>2022.0</td>\n",
       "      <td>2021</td>\n",
       "      <td>12</td>\n",
       "      <td>1</td>\n",
       "      <td>2</td>\n",
       "    </tr>\n",
       "  </tbody>\n",
       "</table>\n",
       "<p>5 rows × 24 columns</p>\n",
       "</div>"
      ],
      "text/plain": [
       "     Age  Gender  Annual Income Marital Status  Number of Dependents  \\\n",
       "id                                                                     \n",
       "0   19.0  Female        10049.0        Married                   1.0   \n",
       "1   39.0  Female        31678.0       Divorced                   3.0   \n",
       "2   23.0    Male        25602.0       Divorced                   3.0   \n",
       "3   21.0    Male       141855.0        Married                   2.0   \n",
       "4   21.0    Male        39651.0         Single                   1.0   \n",
       "\n",
       "   Education Level     Occupation  Health Score  Location    Policy Type  ...  \\\n",
       "id                                                                        ...   \n",
       "0       Bachelor's  Self-Employed     22.598761     Urban        Premium  ...   \n",
       "1         Master's       Employed     15.569731     Rural  Comprehensive  ...   \n",
       "2      High School  Self-Employed     47.177549  Suburban        Premium  ...   \n",
       "3       Bachelor's       Employed     10.938144     Rural          Basic  ...   \n",
       "4       Bachelor's  Self-Employed     20.376094     Rural        Premium  ...   \n",
       "\n",
       "            Policy Start Date  Customer Feedback  Smoking Status  \\\n",
       "id                                                                 \n",
       "0  2023-12-23 15:21:39.134960               Poor              No   \n",
       "1  2023-06-12 15:21:39.111551            Average             Yes   \n",
       "2  2023-09-30 15:21:39.221386               Good             Yes   \n",
       "3  2024-06-12 15:21:39.226954               Poor             Yes   \n",
       "4  2021-12-01 15:21:39.252145               Poor             Yes   \n",
       "\n",
       "    Exercise Frequency Property Type Premium Amount  year month date  day  \n",
       "id                                                                         \n",
       "0               Weekly         House         2869.0  2023    12   23    5  \n",
       "1              Monthly         House         1483.0  2023     6   12    0  \n",
       "2               Weekly         House          567.0  2023     9   30    5  \n",
       "3                Daily     Apartment          765.0  2024     6   12    2  \n",
       "4               Weekly         House         2022.0  2021    12    1    2  \n",
       "\n",
       "[5 rows x 24 columns]"
      ]
     },
     "execution_count": 40,
     "metadata": {},
     "output_type": "execute_result"
    }
   ],
   "source": [
    "df.head(5)"
   ]
  },
  {
   "cell_type": "code",
   "execution_count": 41,
   "id": "91a72860",
   "metadata": {
    "execution": {
     "iopub.execute_input": "2024-12-30T20:06:12.441932Z",
     "iopub.status.busy": "2024-12-30T20:06:12.441682Z",
     "iopub.status.idle": "2024-12-30T20:06:12.449791Z",
     "shell.execute_reply": "2024-12-30T20:06:12.448746Z"
    },
    "papermill": {
     "duration": 0.028887,
     "end_time": "2024-12-30T20:06:12.451014",
     "exception": false,
     "start_time": "2024-12-30T20:06:12.422127",
     "status": "completed"
    },
    "tags": []
   },
   "outputs": [
    {
     "name": "stdout",
     "output_type": "stream",
     "text": [
      "<class 'pandas.core.frame.DataFrame'>\n",
      "Index: 2000000 entries, 0 to 1999999\n",
      "Data columns (total 24 columns):\n",
      " #   Column                Dtype         \n",
      "---  ------                -----         \n",
      " 0   Age                   float64       \n",
      " 1   Gender                object        \n",
      " 2   Annual Income         float64       \n",
      " 3   Marital Status        object        \n",
      " 4   Number of Dependents  float64       \n",
      " 5   Education Level       object        \n",
      " 6   Occupation            object        \n",
      " 7   Health Score          float64       \n",
      " 8   Location              object        \n",
      " 9   Policy Type           object        \n",
      " 10  Previous Claims       float64       \n",
      " 11  Vehicle Age           float64       \n",
      " 12  Credit Score          float64       \n",
      " 13  Insurance Duration    float64       \n",
      " 14  Policy Start Date     datetime64[ns]\n",
      " 15  Customer Feedback     object        \n",
      " 16  Smoking Status        object        \n",
      " 17  Exercise Frequency    object        \n",
      " 18  Property Type         object        \n",
      " 19  Premium Amount        float64       \n",
      " 20  year                  int32         \n",
      " 21  month                 int32         \n",
      " 22  date                  int32         \n",
      " 23  day                   int32         \n",
      "dtypes: datetime64[ns](1), float64(9), int32(4), object(10)\n",
      "memory usage: 351.0+ MB\n"
     ]
    }
   ],
   "source": [
    "df.info()"
   ]
  },
  {
   "cell_type": "code",
   "execution_count": 42,
   "id": "94d30730",
   "metadata": {
    "execution": {
     "iopub.execute_input": "2024-12-30T20:06:12.489688Z",
     "iopub.status.busy": "2024-12-30T20:06:12.489473Z",
     "iopub.status.idle": "2024-12-30T20:06:12.760631Z",
     "shell.execute_reply": "2024-12-30T20:06:12.759646Z"
    },
    "papermill": {
     "duration": 0.292287,
     "end_time": "2024-12-30T20:06:12.762295",
     "exception": false,
     "start_time": "2024-12-30T20:06:12.470008",
     "status": "completed"
    },
    "tags": []
   },
   "outputs": [],
   "source": [
    "df.drop('Policy Start Date', axis=1, inplace=True)"
   ]
  },
  {
   "cell_type": "markdown",
   "id": "c4c34cc7",
   "metadata": {
    "papermill": {
     "duration": 0.018925,
     "end_time": "2024-12-30T20:06:12.800963",
     "exception": false,
     "start_time": "2024-12-30T20:06:12.782038",
     "status": "completed"
    },
    "tags": []
   },
   "source": [
    "## Encoding the categorical columns."
   ]
  },
  {
   "cell_type": "code",
   "execution_count": 43,
   "id": "5c26a987",
   "metadata": {
    "execution": {
     "iopub.execute_input": "2024-12-30T20:06:12.841221Z",
     "iopub.status.busy": "2024-12-30T20:06:12.840939Z",
     "iopub.status.idle": "2024-12-30T20:06:13.602188Z",
     "shell.execute_reply": "2024-12-30T20:06:13.601274Z"
    },
    "papermill": {
     "duration": 0.782733,
     "end_time": "2024-12-30T20:06:13.603494",
     "exception": false,
     "start_time": "2024-12-30T20:06:12.820761",
     "status": "completed"
    },
    "tags": []
   },
   "outputs": [
    {
     "name": "stdout",
     "output_type": "stream",
     "text": [
      "Categorical Columns:\n",
      "Index(['Gender', 'Marital Status', 'Education Level', 'Occupation', 'Location',\n",
      "       'Policy Type', 'Customer Feedback', 'Smoking Status',\n",
      "       'Exercise Frequency', 'Property Type'],\n",
      "      dtype='object')\n"
     ]
    }
   ],
   "source": [
    "# Get categorical columns\n",
    "categorical_columns = df.select_dtypes(include=['object']).columns\n",
    "\n",
    "# Print the categorical columns\n",
    "print(\"Categorical Columns:\")\n",
    "print(categorical_columns)"
   ]
  },
  {
   "cell_type": "code",
   "execution_count": 44,
   "id": "6b5fb0c5",
   "metadata": {
    "execution": {
     "iopub.execute_input": "2024-12-30T20:06:13.643488Z",
     "iopub.status.busy": "2024-12-30T20:06:13.643228Z",
     "iopub.status.idle": "2024-12-30T20:06:15.437898Z",
     "shell.execute_reply": "2024-12-30T20:06:15.437213Z"
    },
    "papermill": {
     "duration": 1.816077,
     "end_time": "2024-12-30T20:06:15.439461",
     "exception": false,
     "start_time": "2024-12-30T20:06:13.623384",
     "status": "completed"
    },
    "tags": []
   },
   "outputs": [],
   "source": [
    "# Use pandas get_dummies for One-Hot Encoding\n",
    "df = pd.get_dummies(df, columns=['Gender', 'Marital Status', 'Education Level', \n",
    "                                 'Occupation', 'Location', 'Policy Type', \n",
    "                                 'Smoking Status', 'Property Type', 'Exercise Frequency',\n",
    "                                 'Customer Feedback'], drop_first=True)"
   ]
  },
  {
   "cell_type": "code",
   "execution_count": 45,
   "id": "c96e2493",
   "metadata": {
    "execution": {
     "iopub.execute_input": "2024-12-30T20:06:15.480517Z",
     "iopub.status.busy": "2024-12-30T20:06:15.480230Z",
     "iopub.status.idle": "2024-12-30T20:06:15.502406Z",
     "shell.execute_reply": "2024-12-30T20:06:15.501647Z"
    },
    "papermill": {
     "duration": 0.043594,
     "end_time": "2024-12-30T20:06:15.503629",
     "exception": false,
     "start_time": "2024-12-30T20:06:15.460035",
     "status": "completed"
    },
    "tags": []
   },
   "outputs": [
    {
     "data": {
      "text/html": [
       "<div>\n",
       "<style scoped>\n",
       "    .dataframe tbody tr th:only-of-type {\n",
       "        vertical-align: middle;\n",
       "    }\n",
       "\n",
       "    .dataframe tbody tr th {\n",
       "        vertical-align: top;\n",
       "    }\n",
       "\n",
       "    .dataframe thead th {\n",
       "        text-align: right;\n",
       "    }\n",
       "</style>\n",
       "<table border=\"1\" class=\"dataframe\">\n",
       "  <thead>\n",
       "    <tr style=\"text-align: right;\">\n",
       "      <th></th>\n",
       "      <th>Age</th>\n",
       "      <th>Annual Income</th>\n",
       "      <th>Number of Dependents</th>\n",
       "      <th>Health Score</th>\n",
       "      <th>Previous Claims</th>\n",
       "      <th>Vehicle Age</th>\n",
       "      <th>Credit Score</th>\n",
       "      <th>Insurance Duration</th>\n",
       "      <th>Premium Amount</th>\n",
       "      <th>year</th>\n",
       "      <th>...</th>\n",
       "      <th>Policy Type_Premium</th>\n",
       "      <th>Smoking Status_Yes</th>\n",
       "      <th>Property Type_Condo</th>\n",
       "      <th>Property Type_House</th>\n",
       "      <th>Exercise Frequency_Monthly</th>\n",
       "      <th>Exercise Frequency_Rarely</th>\n",
       "      <th>Exercise Frequency_Weekly</th>\n",
       "      <th>Customer Feedback_Good</th>\n",
       "      <th>Customer Feedback_Poor</th>\n",
       "      <th>Customer Feedback_Unknown</th>\n",
       "    </tr>\n",
       "    <tr>\n",
       "      <th>id</th>\n",
       "      <th></th>\n",
       "      <th></th>\n",
       "      <th></th>\n",
       "      <th></th>\n",
       "      <th></th>\n",
       "      <th></th>\n",
       "      <th></th>\n",
       "      <th></th>\n",
       "      <th></th>\n",
       "      <th></th>\n",
       "      <th></th>\n",
       "      <th></th>\n",
       "      <th></th>\n",
       "      <th></th>\n",
       "      <th></th>\n",
       "      <th></th>\n",
       "      <th></th>\n",
       "      <th></th>\n",
       "      <th></th>\n",
       "      <th></th>\n",
       "      <th></th>\n",
       "    </tr>\n",
       "  </thead>\n",
       "  <tbody>\n",
       "    <tr>\n",
       "      <th>0</th>\n",
       "      <td>19.0</td>\n",
       "      <td>10049.0</td>\n",
       "      <td>1.0</td>\n",
       "      <td>22.598761</td>\n",
       "      <td>2.0</td>\n",
       "      <td>17.0</td>\n",
       "      <td>372.0</td>\n",
       "      <td>5.0</td>\n",
       "      <td>2869.0</td>\n",
       "      <td>2023</td>\n",
       "      <td>...</td>\n",
       "      <td>True</td>\n",
       "      <td>False</td>\n",
       "      <td>False</td>\n",
       "      <td>True</td>\n",
       "      <td>False</td>\n",
       "      <td>False</td>\n",
       "      <td>True</td>\n",
       "      <td>False</td>\n",
       "      <td>True</td>\n",
       "      <td>False</td>\n",
       "    </tr>\n",
       "    <tr>\n",
       "      <th>1</th>\n",
       "      <td>39.0</td>\n",
       "      <td>31678.0</td>\n",
       "      <td>3.0</td>\n",
       "      <td>15.569731</td>\n",
       "      <td>1.0</td>\n",
       "      <td>12.0</td>\n",
       "      <td>694.0</td>\n",
       "      <td>2.0</td>\n",
       "      <td>1483.0</td>\n",
       "      <td>2023</td>\n",
       "      <td>...</td>\n",
       "      <td>False</td>\n",
       "      <td>True</td>\n",
       "      <td>False</td>\n",
       "      <td>True</td>\n",
       "      <td>True</td>\n",
       "      <td>False</td>\n",
       "      <td>False</td>\n",
       "      <td>False</td>\n",
       "      <td>False</td>\n",
       "      <td>False</td>\n",
       "    </tr>\n",
       "    <tr>\n",
       "      <th>2</th>\n",
       "      <td>23.0</td>\n",
       "      <td>25602.0</td>\n",
       "      <td>3.0</td>\n",
       "      <td>47.177549</td>\n",
       "      <td>1.0</td>\n",
       "      <td>14.0</td>\n",
       "      <td>595.0</td>\n",
       "      <td>3.0</td>\n",
       "      <td>567.0</td>\n",
       "      <td>2023</td>\n",
       "      <td>...</td>\n",
       "      <td>True</td>\n",
       "      <td>True</td>\n",
       "      <td>False</td>\n",
       "      <td>True</td>\n",
       "      <td>False</td>\n",
       "      <td>False</td>\n",
       "      <td>True</td>\n",
       "      <td>True</td>\n",
       "      <td>False</td>\n",
       "      <td>False</td>\n",
       "    </tr>\n",
       "    <tr>\n",
       "      <th>3</th>\n",
       "      <td>21.0</td>\n",
       "      <td>141855.0</td>\n",
       "      <td>2.0</td>\n",
       "      <td>10.938144</td>\n",
       "      <td>1.0</td>\n",
       "      <td>0.0</td>\n",
       "      <td>367.0</td>\n",
       "      <td>1.0</td>\n",
       "      <td>765.0</td>\n",
       "      <td>2024</td>\n",
       "      <td>...</td>\n",
       "      <td>False</td>\n",
       "      <td>True</td>\n",
       "      <td>False</td>\n",
       "      <td>False</td>\n",
       "      <td>False</td>\n",
       "      <td>False</td>\n",
       "      <td>False</td>\n",
       "      <td>False</td>\n",
       "      <td>True</td>\n",
       "      <td>False</td>\n",
       "    </tr>\n",
       "    <tr>\n",
       "      <th>4</th>\n",
       "      <td>21.0</td>\n",
       "      <td>39651.0</td>\n",
       "      <td>1.0</td>\n",
       "      <td>20.376094</td>\n",
       "      <td>0.0</td>\n",
       "      <td>8.0</td>\n",
       "      <td>598.0</td>\n",
       "      <td>4.0</td>\n",
       "      <td>2022.0</td>\n",
       "      <td>2021</td>\n",
       "      <td>...</td>\n",
       "      <td>True</td>\n",
       "      <td>True</td>\n",
       "      <td>False</td>\n",
       "      <td>True</td>\n",
       "      <td>False</td>\n",
       "      <td>False</td>\n",
       "      <td>True</td>\n",
       "      <td>False</td>\n",
       "      <td>True</td>\n",
       "      <td>False</td>\n",
       "    </tr>\n",
       "  </tbody>\n",
       "</table>\n",
       "<p>5 rows × 34 columns</p>\n",
       "</div>"
      ],
      "text/plain": [
       "     Age  Annual Income  Number of Dependents  Health Score  Previous Claims  \\\n",
       "id                                                                             \n",
       "0   19.0        10049.0                   1.0     22.598761              2.0   \n",
       "1   39.0        31678.0                   3.0     15.569731              1.0   \n",
       "2   23.0        25602.0                   3.0     47.177549              1.0   \n",
       "3   21.0       141855.0                   2.0     10.938144              1.0   \n",
       "4   21.0        39651.0                   1.0     20.376094              0.0   \n",
       "\n",
       "    Vehicle Age  Credit Score  Insurance Duration  Premium Amount  year  ...  \\\n",
       "id                                                                       ...   \n",
       "0          17.0         372.0                 5.0          2869.0  2023  ...   \n",
       "1          12.0         694.0                 2.0          1483.0  2023  ...   \n",
       "2          14.0         595.0                 3.0           567.0  2023  ...   \n",
       "3           0.0         367.0                 1.0           765.0  2024  ...   \n",
       "4           8.0         598.0                 4.0          2022.0  2021  ...   \n",
       "\n",
       "    Policy Type_Premium  Smoking Status_Yes  Property Type_Condo  \\\n",
       "id                                                                 \n",
       "0                  True               False                False   \n",
       "1                 False                True                False   \n",
       "2                  True                True                False   \n",
       "3                 False                True                False   \n",
       "4                  True                True                False   \n",
       "\n",
       "    Property Type_House  Exercise Frequency_Monthly  \\\n",
       "id                                                    \n",
       "0                  True                       False   \n",
       "1                  True                        True   \n",
       "2                  True                       False   \n",
       "3                 False                       False   \n",
       "4                  True                       False   \n",
       "\n",
       "    Exercise Frequency_Rarely  Exercise Frequency_Weekly  \\\n",
       "id                                                         \n",
       "0                       False                       True   \n",
       "1                       False                      False   \n",
       "2                       False                       True   \n",
       "3                       False                      False   \n",
       "4                       False                       True   \n",
       "\n",
       "    Customer Feedback_Good  Customer Feedback_Poor  Customer Feedback_Unknown  \n",
       "id                                                                             \n",
       "0                    False                    True                      False  \n",
       "1                    False                   False                      False  \n",
       "2                     True                   False                      False  \n",
       "3                    False                    True                      False  \n",
       "4                    False                    True                      False  \n",
       "\n",
       "[5 rows x 34 columns]"
      ]
     },
     "execution_count": 45,
     "metadata": {},
     "output_type": "execute_result"
    }
   ],
   "source": [
    "df.head(5)"
   ]
  },
  {
   "cell_type": "markdown",
   "id": "e59b0e8e",
   "metadata": {
    "papermill": {
     "duration": 0.019197,
     "end_time": "2024-12-30T20:06:15.542555",
     "exception": false,
     "start_time": "2024-12-30T20:06:15.523358",
     "status": "completed"
    },
    "tags": []
   },
   "source": [
    "# Preparing Dataset for Training and Testing"
   ]
  },
  {
   "cell_type": "code",
   "execution_count": 46,
   "id": "f32f7155",
   "metadata": {
    "execution": {
     "iopub.execute_input": "2024-12-30T20:06:15.581696Z",
     "iopub.status.busy": "2024-12-30T20:06:15.581473Z",
     "iopub.status.idle": "2024-12-30T20:06:15.611453Z",
     "shell.execute_reply": "2024-12-30T20:06:15.610840Z"
    },
    "papermill": {
     "duration": 0.05105,
     "end_time": "2024-12-30T20:06:15.612655",
     "exception": false,
     "start_time": "2024-12-30T20:06:15.561605",
     "status": "completed"
    },
    "tags": []
   },
   "outputs": [],
   "source": [
    "training_data = df[0:len(train_df)]\n",
    "testing_data = df[len(train_df):]\n",
    "testing_data = testing_data.drop(columns='Premium Amount')"
   ]
  },
  {
   "cell_type": "code",
   "execution_count": 47,
   "id": "71556a0a",
   "metadata": {
    "execution": {
     "iopub.execute_input": "2024-12-30T20:06:15.651401Z",
     "iopub.status.busy": "2024-12-30T20:06:15.651176Z",
     "iopub.status.idle": "2024-12-30T20:06:15.941924Z",
     "shell.execute_reply": "2024-12-30T20:06:15.940634Z"
    },
    "papermill": {
     "duration": 0.311896,
     "end_time": "2024-12-30T20:06:15.943636",
     "exception": false,
     "start_time": "2024-12-30T20:06:15.631740",
     "status": "completed"
    },
    "tags": []
   },
   "outputs": [
    {
     "data": {
      "text/plain": [
       "((960000, 33), (960000, 1))"
      ]
     },
     "execution_count": 47,
     "metadata": {},
     "output_type": "execute_result"
    }
   ],
   "source": [
    "X = training_data.drop(columns='Premium Amount')\n",
    "y = training_data['Premium Amount']\n",
    "# Don't get afraid, as the evaluation will be done based on Root Mean Squared Logarithmic Error (RMSLE)\n",
    "# That's why using this log1p.\n",
    "y_log1p = np.log1p(y)\n",
    "\n",
    "X_train, X_test, y_train, y_test = train_test_split(X, y_log1p, test_size = 0.2)\n",
    "y_train = np.reshape(y_train,(-1, 1))\n",
    "y_test = np.reshape(y_test,(-1, 1))\n",
    "X_train.shape, y_train.shape"
   ]
  },
  {
   "cell_type": "code",
   "execution_count": 48,
   "id": "b4dfb308",
   "metadata": {
    "execution": {
     "iopub.execute_input": "2024-12-30T20:06:15.996565Z",
     "iopub.status.busy": "2024-12-30T20:06:15.996277Z",
     "iopub.status.idle": "2024-12-30T20:06:16.031136Z",
     "shell.execute_reply": "2024-12-30T20:06:16.030406Z"
    },
    "papermill": {
     "duration": 0.063373,
     "end_time": "2024-12-30T20:06:16.032480",
     "exception": false,
     "start_time": "2024-12-30T20:06:15.969107",
     "status": "completed"
    },
    "tags": []
   },
   "outputs": [],
   "source": [
    "X['Insurance Duration'].fillna(X['Insurance Duration'].median(), inplace=True)"
   ]
  },
  {
   "cell_type": "markdown",
   "id": "2ce727d3",
   "metadata": {
    "papermill": {
     "duration": 0.019269,
     "end_time": "2024-12-30T20:06:16.071767",
     "exception": false,
     "start_time": "2024-12-30T20:06:16.052498",
     "status": "completed"
    },
    "tags": []
   },
   "source": [
    "# Model Initialization."
   ]
  },
  {
   "cell_type": "code",
   "execution_count": 49,
   "id": "e705073b",
   "metadata": {
    "execution": {
     "iopub.execute_input": "2024-12-30T20:06:16.111261Z",
     "iopub.status.busy": "2024-12-30T20:06:16.111006Z",
     "iopub.status.idle": "2024-12-30T20:06:16.114158Z",
     "shell.execute_reply": "2024-12-30T20:06:16.113546Z"
    },
    "papermill": {
     "duration": 0.024568,
     "end_time": "2024-12-30T20:06:16.115430",
     "exception": false,
     "start_time": "2024-12-30T20:06:16.090862",
     "status": "completed"
    },
    "tags": []
   },
   "outputs": [],
   "source": [
    "# Calculate RMSLE\n",
    "def rmsle(y_true,y_pred):\n",
    "    return np.sqrt(mean_squared_log_error(y_true,y_pred))"
   ]
  },
  {
   "cell_type": "markdown",
   "id": "7c5dfa52",
   "metadata": {
    "papermill": {
     "duration": 0.020397,
     "end_time": "2024-12-30T20:06:16.155015",
     "exception": false,
     "start_time": "2024-12-30T20:06:16.134618",
     "status": "completed"
    },
    "tags": []
   },
   "source": [
    "## Model 1: (CatBoostRegressor)"
   ]
  },
  {
   "cell_type": "code",
   "execution_count": 50,
   "id": "722b3df8",
   "metadata": {
    "execution": {
     "iopub.execute_input": "2024-12-30T20:06:16.194832Z",
     "iopub.status.busy": "2024-12-30T20:06:16.194600Z",
     "iopub.status.idle": "2024-12-30T20:06:16.394083Z",
     "shell.execute_reply": "2024-12-30T20:06:16.393363Z"
    },
    "papermill": {
     "duration": 0.221312,
     "end_time": "2024-12-30T20:06:16.395672",
     "exception": false,
     "start_time": "2024-12-30T20:06:16.174360",
     "status": "completed"
    },
    "tags": []
   },
   "outputs": [],
   "source": [
    "from sklearn.model_selection import KFold\n",
    "from catboost import CatBoostRegressor \n",
    "from sklearn.metrics import mean_squared_log_error\n",
    "\n",
    "def train_model():\n",
    "    kf=KFold(n_splits=5,shuffle=True,random_state=42)\n",
    "    oof=np.zeros(len(X))\n",
    "    models=[]\n",
    "    for fold,(train_idx,valid_idx) in enumerate(kf.split(X)):\n",
    "        print(f\"fold{fold+1}\")\n",
    "        x_train,x_valid=X.iloc[train_idx],X.iloc[valid_idx]\n",
    "        y_train,y_valid=y_log1p.iloc[train_idx],y_log1p.iloc[valid_idx]\n",
    "        model=CatBoostRegressor(\n",
    "            iterations=2000,\n",
    "            learning_rate=0.05,\n",
    "            depth=6,\n",
    "            eval_metric=\"RMSE\",\n",
    "            random_seed=42,\n",
    "            verbose=200,\n",
    "            task_type=\"GPU\",\n",
    "            l2_leaf_reg=0.7\n",
    "        )\n",
    "        model.fit(x_train,y_train,eval_set=(x_valid,y_valid),early_stopping_rounds=300,)\n",
    "        models.append(model)\n",
    "        oof[valid_idx]=np.maximum(0,model.predict(x_valid))\n",
    "        fold_rmsle=rmsle(np.expm1(y_valid),np.expm1(oof[valid_idx]))\n",
    "        print(f'fold{fold+1}RMSLE:{fold_rmsle}')\n",
    "    return models,oof"
   ]
  },
  {
   "cell_type": "code",
   "execution_count": 51,
   "id": "89a768ce",
   "metadata": {
    "execution": {
     "iopub.execute_input": "2024-12-30T20:06:16.435969Z",
     "iopub.status.busy": "2024-12-30T20:06:16.435672Z",
     "iopub.status.idle": "2024-12-30T20:07:37.077569Z",
     "shell.execute_reply": "2024-12-30T20:07:37.076530Z"
    },
    "papermill": {
     "duration": 80.663553,
     "end_time": "2024-12-30T20:07:37.079162",
     "exception": false,
     "start_time": "2024-12-30T20:06:16.415609",
     "status": "completed"
    },
    "tags": []
   },
   "outputs": [
    {
     "name": "stdout",
     "output_type": "stream",
     "text": [
      "fold1\n",
      "0:\tlearn: 1.0930643\ttest: 1.0938220\tbest: 1.0938220 (0)\ttotal: 17.9s\tremaining: 9h 57m 43s\n",
      "200:\tlearn: 1.0498949\ttest: 1.0512626\tbest: 1.0512626 (200)\ttotal: 19.3s\tremaining: 2m 52s\n",
      "400:\tlearn: 1.0482310\ttest: 1.0503765\tbest: 1.0503758 (399)\ttotal: 20.7s\tremaining: 1m 22s\n",
      "600:\tlearn: 1.0471497\ttest: 1.0501519\tbest: 1.0501512 (598)\ttotal: 22s\tremaining: 51.2s\n",
      "800:\tlearn: 1.0461891\ttest: 1.0500098\tbest: 1.0500049 (767)\ttotal: 23.5s\tremaining: 35.1s\n",
      "1000:\tlearn: 1.0452880\ttest: 1.0499255\tbest: 1.0499233 (997)\ttotal: 24.8s\tremaining: 24.8s\n",
      "1200:\tlearn: 1.0444498\ttest: 1.0499506\tbest: 1.0499214 (1071)\ttotal: 26.2s\tremaining: 17.4s\n",
      "1400:\tlearn: 1.0436169\ttest: 1.0499209\tbest: 1.0499133 (1341)\ttotal: 27.5s\tremaining: 11.8s\n",
      "1600:\tlearn: 1.0428102\ttest: 1.0499450\tbest: 1.0499022 (1453)\ttotal: 28.9s\tremaining: 7.2s\n",
      "bestTest = 1.049902153\n",
      "bestIteration = 1453\n",
      "Shrink model to first 1454 iterations.\n",
      "fold1RMSLE:1.049902172628687\n",
      "fold2\n",
      "0:\tlearn: 1.0933457\ttest: 1.0925643\tbest: 1.0925643 (0)\ttotal: 7.63ms\tremaining: 15.3s\n",
      "200:\tlearn: 1.0501649\ttest: 1.0502973\tbest: 1.0502973 (200)\ttotal: 1.36s\tremaining: 12.2s\n",
      "400:\tlearn: 1.0485885\ttest: 1.0494460\tbest: 1.0494460 (400)\ttotal: 2.73s\tremaining: 10.9s\n",
      "600:\tlearn: 1.0474631\ttest: 1.0492017\tbest: 1.0492016 (599)\ttotal: 4.1s\tremaining: 9.55s\n",
      "800:\tlearn: 1.0465154\ttest: 1.0490956\tbest: 1.0490888 (772)\ttotal: 5.47s\tremaining: 8.2s\n",
      "1000:\tlearn: 1.0456120\ttest: 1.0490595\tbest: 1.0490518 (971)\ttotal: 6.84s\tremaining: 6.83s\n",
      "1200:\tlearn: 1.0447771\ttest: 1.0490607\tbest: 1.0490456 (1048)\ttotal: 8.23s\tremaining: 5.47s\n",
      "bestTest = 1.049045635\n",
      "bestIteration = 1048\n",
      "Shrink model to first 1049 iterations.\n",
      "fold2RMSLE:1.0490458088778838\n",
      "fold3\n",
      "0:\tlearn: 1.0932842\ttest: 1.0924455\tbest: 1.0924455 (0)\ttotal: 7.54ms\tremaining: 15.1s\n",
      "200:\tlearn: 1.0497577\ttest: 1.0510980\tbest: 1.0510980 (200)\ttotal: 1.36s\tremaining: 12.1s\n",
      "400:\tlearn: 1.0480803\ttest: 1.0502551\tbest: 1.0502551 (400)\ttotal: 2.73s\tremaining: 10.9s\n",
      "600:\tlearn: 1.0469775\ttest: 1.0500092\tbest: 1.0500060 (594)\ttotal: 4.12s\tremaining: 9.58s\n",
      "800:\tlearn: 1.0460303\ttest: 1.0499165\tbest: 1.0499155 (799)\ttotal: 5.49s\tremaining: 8.21s\n",
      "1000:\tlearn: 1.0451433\ttest: 1.0498715\tbest: 1.0498683 (994)\ttotal: 6.86s\tremaining: 6.85s\n",
      "1200:\tlearn: 1.0443018\ttest: 1.0498355\tbest: 1.0498234 (1179)\ttotal: 8.25s\tremaining: 5.49s\n",
      "1400:\tlearn: 1.0434678\ttest: 1.0498014\tbest: 1.0497800 (1337)\ttotal: 9.6s\tremaining: 4.11s\n",
      "1600:\tlearn: 1.0426908\ttest: 1.0498247\tbest: 1.0497800 (1337)\ttotal: 11s\tremaining: 2.73s\n",
      "bestTest = 1.049779987\n",
      "bestIteration = 1337\n",
      "Shrink model to first 1338 iterations.\n",
      "fold3RMSLE:1.0497800387058605\n",
      "fold4\n",
      "0:\tlearn: 1.0931799\ttest: 1.0929011\tbest: 1.0929011 (0)\ttotal: 9.33ms\tremaining: 18.6s\n",
      "200:\tlearn: 1.0504478\ttest: 1.0496341\tbest: 1.0496341 (200)\ttotal: 1.5s\tremaining: 13.4s\n",
      "400:\tlearn: 1.0487817\ttest: 1.0486491\tbest: 1.0486481 (399)\ttotal: 2.86s\tremaining: 11.4s\n",
      "600:\tlearn: 1.0476470\ttest: 1.0483716\tbest: 1.0483677 (587)\ttotal: 4.2s\tremaining: 9.79s\n",
      "800:\tlearn: 1.0466716\ttest: 1.0482204\tbest: 1.0482204 (800)\ttotal: 5.56s\tremaining: 8.32s\n",
      "1000:\tlearn: 1.0458068\ttest: 1.0481794\tbest: 1.0481594 (893)\ttotal: 6.92s\tremaining: 6.9s\n",
      "1200:\tlearn: 1.0449650\ttest: 1.0481426\tbest: 1.0481360 (1138)\ttotal: 8.26s\tremaining: 5.49s\n",
      "1400:\tlearn: 1.0441575\ttest: 1.0481715\tbest: 1.0481345 (1330)\ttotal: 9.6s\tremaining: 4.11s\n",
      "1600:\tlearn: 1.0433582\ttest: 1.0481759\tbest: 1.0481345 (1330)\ttotal: 11s\tremaining: 2.74s\n",
      "bestTest = 1.048134504\n",
      "bestIteration = 1330\n",
      "Shrink model to first 1331 iterations.\n",
      "fold4RMSLE:1.0481345630940169\n",
      "fold5\n",
      "0:\tlearn: 1.0928928\ttest: 1.0940595\tbest: 1.0940595 (0)\ttotal: 7.79ms\tremaining: 15.6s\n",
      "200:\tlearn: 1.0500288\ttest: 1.0505912\tbest: 1.0505912 (200)\ttotal: 1.38s\tremaining: 12.3s\n",
      "400:\tlearn: 1.0484199\ttest: 1.0497102\tbest: 1.0497102 (400)\ttotal: 2.76s\tremaining: 11s\n",
      "600:\tlearn: 1.0472979\ttest: 1.0494286\tbest: 1.0494286 (600)\ttotal: 4.13s\tremaining: 9.62s\n",
      "800:\tlearn: 1.0462532\ttest: 1.0492252\tbest: 1.0492249 (798)\ttotal: 5.51s\tremaining: 8.25s\n",
      "1000:\tlearn: 1.0453990\ttest: 1.0492203\tbest: 1.0492116 (843)\ttotal: 6.87s\tremaining: 6.86s\n",
      "1200:\tlearn: 1.0445670\ttest: 1.0492092\tbest: 1.0492034 (1027)\ttotal: 8.25s\tremaining: 5.49s\n",
      "1400:\tlearn: 1.0437787\ttest: 1.0492213\tbest: 1.0492026 (1320)\ttotal: 9.61s\tremaining: 4.11s\n",
      "1600:\tlearn: 1.0429832\ttest: 1.0492110\tbest: 1.0491873 (1511)\ttotal: 11s\tremaining: 2.74s\n",
      "1800:\tlearn: 1.0422219\ttest: 1.0492396\tbest: 1.0491873 (1511)\ttotal: 12.4s\tremaining: 1.36s\n",
      "bestTest = 1.04918731\n",
      "bestIteration = 1511\n",
      "Shrink model to first 1512 iterations.\n",
      "fold5RMSLE:1.049187318627699\n"
     ]
    }
   ],
   "source": [
    "models,oof=train_model()"
   ]
  },
  {
   "cell_type": "markdown",
   "id": "bcccb2da",
   "metadata": {
    "papermill": {
     "duration": 0.022438,
     "end_time": "2024-12-30T20:07:37.124385",
     "exception": false,
     "start_time": "2024-12-30T20:07:37.101947",
     "status": "completed"
    },
    "tags": []
   },
   "source": [
    "# Submission"
   ]
  },
  {
   "cell_type": "code",
   "execution_count": 52,
   "id": "9a499982",
   "metadata": {
    "execution": {
     "iopub.execute_input": "2024-12-30T20:07:37.169378Z",
     "iopub.status.busy": "2024-12-30T20:07:37.169113Z",
     "iopub.status.idle": "2024-12-30T20:07:37.421760Z",
     "shell.execute_reply": "2024-12-30T20:07:37.420772Z"
    },
    "papermill": {
     "duration": 0.277314,
     "end_time": "2024-12-30T20:07:37.423687",
     "exception": false,
     "start_time": "2024-12-30T20:07:37.146373",
     "status": "completed"
    },
    "tags": []
   },
   "outputs": [],
   "source": [
    "sample=pd.read_csv('/kaggle/input/playground-series-s4e12/sample_submission.csv')"
   ]
  },
  {
   "cell_type": "code",
   "execution_count": 53,
   "id": "66877702",
   "metadata": {
    "execution": {
     "iopub.execute_input": "2024-12-30T20:07:37.476117Z",
     "iopub.status.busy": "2024-12-30T20:07:37.475771Z",
     "iopub.status.idle": "2024-12-30T20:07:41.572462Z",
     "shell.execute_reply": "2024-12-30T20:07:41.571688Z"
    },
    "papermill": {
     "duration": 4.120744,
     "end_time": "2024-12-30T20:07:41.574031",
     "exception": false,
     "start_time": "2024-12-30T20:07:37.453287",
     "status": "completed"
    },
    "tags": []
   },
   "outputs": [],
   "source": [
    "predictions=np.zeros(len(testing_data))\n",
    "for model in models:\n",
    "    predictions+=np.maximum(0,np.expm1(model.predict(testing_data)))/len(models)\n",
    "sample[\"Premium Amount\"]=predictions \n",
    "sample.to_csv(\"output.csv\",index=False)"
   ]
  },
  {
   "cell_type": "code",
   "execution_count": null,
   "id": "1bc5e697",
   "metadata": {
    "papermill": {
     "duration": 0.021649,
     "end_time": "2024-12-30T20:07:41.618228",
     "exception": false,
     "start_time": "2024-12-30T20:07:41.596579",
     "status": "completed"
    },
    "tags": []
   },
   "outputs": [],
   "source": []
  }
 ],
 "metadata": {
  "kaggle": {
   "accelerator": "gpu",
   "dataSources": [
    {
     "databundleVersionId": 10305135,
     "sourceId": 84896,
     "sourceType": "competition"
    }
   ],
   "dockerImageVersionId": 30822,
   "isGpuEnabled": true,
   "isInternetEnabled": true,
   "language": "python",
   "sourceType": "notebook"
  },
  "kernelspec": {
   "display_name": "Python 3",
   "language": "python",
   "name": "python3"
  },
  "language_info": {
   "codemirror_mode": {
    "name": "ipython",
    "version": 3
   },
   "file_extension": ".py",
   "mimetype": "text/x-python",
   "name": "python",
   "nbconvert_exporter": "python",
   "pygments_lexer": "ipython3",
   "version": "3.10.12"
  },
  "papermill": {
   "default_parameters": {},
   "duration": 213.924615,
   "end_time": "2024-12-30T20:07:42.598836",
   "environment_variables": {},
   "exception": null,
   "input_path": "__notebook__.ipynb",
   "output_path": "__notebook__.ipynb",
   "parameters": {},
   "start_time": "2024-12-30T20:04:08.674221",
   "version": "2.6.0"
  }
 },
 "nbformat": 4,
 "nbformat_minor": 5
}
