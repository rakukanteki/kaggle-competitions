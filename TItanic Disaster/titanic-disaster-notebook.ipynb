{
 "cells": [
  {
   "cell_type": "code",
   "execution_count": 1,
   "id": "87be9d1c",
   "metadata": {
    "_cell_guid": "b1076dfc-b9ad-4769-8c92-a6c4dae69d19",
    "_uuid": "8f2839f25d086af736a60e9eeb907d3b93b6e0e5",
    "execution": {
     "iopub.execute_input": "2024-12-31T19:08:35.399014Z",
     "iopub.status.busy": "2024-12-31T19:08:35.398663Z",
     "iopub.status.idle": "2024-12-31T19:08:36.075831Z",
     "shell.execute_reply": "2024-12-31T19:08:36.074893Z"
    },
    "papermill": {
     "duration": 0.687974,
     "end_time": "2024-12-31T19:08:36.077810",
     "exception": false,
     "start_time": "2024-12-31T19:08:35.389836",
     "status": "completed"
    },
    "tags": []
   },
   "outputs": [
    {
     "name": "stdout",
     "output_type": "stream",
     "text": [
      "/kaggle/input/titanic/train.csv\n",
      "/kaggle/input/titanic/test.csv\n",
      "/kaggle/input/titanic/gender_submission.csv\n"
     ]
    }
   ],
   "source": [
    "# This Python 3 environment comes with many helpful analytics libraries installed\n",
    "# It is defined by the kaggle/python Docker image: https://github.com/kaggle/docker-python\n",
    "# For example, here's several helpful packages to load\n",
    "\n",
    "import numpy as np # linear algebra\n",
    "import pandas as pd # data processing, CSV file I/O (e.g. pd.read_csv)\n",
    "\n",
    "# Input data files are available in the read-only \"../input/\" directory\n",
    "# For example, running this (by clicking run or pressing Shift+Enter) will list all files under the input directory\n",
    "\n",
    "import os\n",
    "for dirname, _, filenames in os.walk('/kaggle/input'):\n",
    "    for filename in filenames:\n",
    "        print(os.path.join(dirname, filename))\n",
    "\n",
    "# You can write up to 20GB to the current directory (/kaggle/working/) that gets preserved as output when you create a version using \"Save & Run All\" \n",
    "# You can also write temporary files to /kaggle/temp/, but they won't be saved outside of the current session"
   ]
  },
  {
   "cell_type": "markdown",
   "id": "b786315e",
   "metadata": {
    "papermill": {
     "duration": 0.00643,
     "end_time": "2024-12-31T19:08:36.091531",
     "exception": false,
     "start_time": "2024-12-31T19:08:36.085101",
     "status": "completed"
    },
    "tags": []
   },
   "source": [
    "# Importing Libaries"
   ]
  },
  {
   "cell_type": "code",
   "execution_count": 2,
   "id": "bdb87063",
   "metadata": {
    "execution": {
     "iopub.execute_input": "2024-12-31T19:08:36.105976Z",
     "iopub.status.busy": "2024-12-31T19:08:36.105507Z",
     "iopub.status.idle": "2024-12-31T19:08:38.057316Z",
     "shell.execute_reply": "2024-12-31T19:08:38.056290Z"
    },
    "papermill": {
     "duration": 1.96101,
     "end_time": "2024-12-31T19:08:38.059242",
     "exception": false,
     "start_time": "2024-12-31T19:08:36.098232",
     "status": "completed"
    },
    "tags": []
   },
   "outputs": [],
   "source": [
    "import numpy as np\n",
    "import pandas as pd\n",
    "import matplotlib.pyplot as plt\n",
    "import seaborn as sns\n",
    "from sklearn.model_selection import train_test_split\n",
    "from sklearn import preprocessing\n",
    "from sklearn.linear_model import LogisticRegression, LinearRegression\n",
    "from sklearn.ensemble import RandomForestClassifier\n",
    "from sklearn.metrics import accuracy_score, mean_squared_error"
   ]
  },
  {
   "cell_type": "markdown",
   "id": "b771e799",
   "metadata": {
    "papermill": {
     "duration": 0.006345,
     "end_time": "2024-12-31T19:08:38.072500",
     "exception": false,
     "start_time": "2024-12-31T19:08:38.066155",
     "status": "completed"
    },
    "tags": []
   },
   "source": [
    "# Loading Dataset"
   ]
  },
  {
   "cell_type": "code",
   "execution_count": 3,
   "id": "4c2e1378",
   "metadata": {
    "execution": {
     "iopub.execute_input": "2024-12-31T19:08:38.086889Z",
     "iopub.status.busy": "2024-12-31T19:08:38.086423Z",
     "iopub.status.idle": "2024-12-31T19:08:38.124017Z",
     "shell.execute_reply": "2024-12-31T19:08:38.123099Z"
    },
    "papermill": {
     "duration": 0.046964,
     "end_time": "2024-12-31T19:08:38.125959",
     "exception": false,
     "start_time": "2024-12-31T19:08:38.078995",
     "status": "completed"
    },
    "tags": []
   },
   "outputs": [],
   "source": [
    "train_df = pd.read_csv('/kaggle/input/titanic/train.csv')\n",
    "test_df = pd.read_csv('/kaggle/input/titanic/test.csv')\n",
    "test_ids = test_df['PassengerId']\n",
    "train_df = train_df.drop(['PassengerId'], axis=1)\n",
    "test_df = test_df.drop(['PassengerId'], axis=1)"
   ]
  },
  {
   "cell_type": "code",
   "execution_count": 4,
   "id": "0d6859f8",
   "metadata": {
    "execution": {
     "iopub.execute_input": "2024-12-31T19:08:38.140227Z",
     "iopub.status.busy": "2024-12-31T19:08:38.139786Z",
     "iopub.status.idle": "2024-12-31T19:08:38.144625Z",
     "shell.execute_reply": "2024-12-31T19:08:38.143593Z"
    },
    "papermill": {
     "duration": 0.013663,
     "end_time": "2024-12-31T19:08:38.146258",
     "exception": false,
     "start_time": "2024-12-31T19:08:38.132595",
     "status": "completed"
    },
    "tags": []
   },
   "outputs": [],
   "source": [
    "if 'Survived' not in test_df.columns:\n",
    "    test_df['Survived']=0"
   ]
  },
  {
   "cell_type": "code",
   "execution_count": 5,
   "id": "b7d0dc7d",
   "metadata": {
    "execution": {
     "iopub.execute_input": "2024-12-31T19:08:38.160839Z",
     "iopub.status.busy": "2024-12-31T19:08:38.160535Z",
     "iopub.status.idle": "2024-12-31T19:08:38.170445Z",
     "shell.execute_reply": "2024-12-31T19:08:38.169618Z"
    },
    "papermill": {
     "duration": 0.018906,
     "end_time": "2024-12-31T19:08:38.172092",
     "exception": false,
     "start_time": "2024-12-31T19:08:38.153186",
     "status": "completed"
    },
    "tags": []
   },
   "outputs": [],
   "source": [
    "df = pd.concat([train_df, test_df], axis=0)"
   ]
  },
  {
   "cell_type": "markdown",
   "id": "9cc65fda",
   "metadata": {
    "papermill": {
     "duration": 0.006399,
     "end_time": "2024-12-31T19:08:38.185515",
     "exception": false,
     "start_time": "2024-12-31T19:08:38.179116",
     "status": "completed"
    },
    "tags": []
   },
   "source": [
    "# Analyzing Dataset"
   ]
  },
  {
   "cell_type": "code",
   "execution_count": 6,
   "id": "32b0fd0d",
   "metadata": {
    "execution": {
     "iopub.execute_input": "2024-12-31T19:08:38.200315Z",
     "iopub.status.busy": "2024-12-31T19:08:38.199945Z",
     "iopub.status.idle": "2024-12-31T19:08:38.218517Z",
     "shell.execute_reply": "2024-12-31T19:08:38.217585Z"
    },
    "papermill": {
     "duration": 0.027888,
     "end_time": "2024-12-31T19:08:38.220283",
     "exception": false,
     "start_time": "2024-12-31T19:08:38.192395",
     "status": "completed"
    },
    "tags": []
   },
   "outputs": [
    {
     "data": {
      "text/html": [
       "<div>\n",
       "<style scoped>\n",
       "    .dataframe tbody tr th:only-of-type {\n",
       "        vertical-align: middle;\n",
       "    }\n",
       "\n",
       "    .dataframe tbody tr th {\n",
       "        vertical-align: top;\n",
       "    }\n",
       "\n",
       "    .dataframe thead th {\n",
       "        text-align: right;\n",
       "    }\n",
       "</style>\n",
       "<table border=\"1\" class=\"dataframe\">\n",
       "  <thead>\n",
       "    <tr style=\"text-align: right;\">\n",
       "      <th></th>\n",
       "      <th>Survived</th>\n",
       "      <th>Pclass</th>\n",
       "      <th>Name</th>\n",
       "      <th>Sex</th>\n",
       "      <th>Age</th>\n",
       "      <th>SibSp</th>\n",
       "      <th>Parch</th>\n",
       "      <th>Ticket</th>\n",
       "      <th>Fare</th>\n",
       "      <th>Cabin</th>\n",
       "      <th>Embarked</th>\n",
       "    </tr>\n",
       "  </thead>\n",
       "  <tbody>\n",
       "    <tr>\n",
       "      <th>0</th>\n",
       "      <td>0</td>\n",
       "      <td>3</td>\n",
       "      <td>Braund, Mr. Owen Harris</td>\n",
       "      <td>male</td>\n",
       "      <td>22.0</td>\n",
       "      <td>1</td>\n",
       "      <td>0</td>\n",
       "      <td>A/5 21171</td>\n",
       "      <td>7.2500</td>\n",
       "      <td>NaN</td>\n",
       "      <td>S</td>\n",
       "    </tr>\n",
       "    <tr>\n",
       "      <th>1</th>\n",
       "      <td>1</td>\n",
       "      <td>1</td>\n",
       "      <td>Cumings, Mrs. John Bradley (Florence Briggs Th...</td>\n",
       "      <td>female</td>\n",
       "      <td>38.0</td>\n",
       "      <td>1</td>\n",
       "      <td>0</td>\n",
       "      <td>PC 17599</td>\n",
       "      <td>71.2833</td>\n",
       "      <td>C85</td>\n",
       "      <td>C</td>\n",
       "    </tr>\n",
       "    <tr>\n",
       "      <th>2</th>\n",
       "      <td>1</td>\n",
       "      <td>3</td>\n",
       "      <td>Heikkinen, Miss. Laina</td>\n",
       "      <td>female</td>\n",
       "      <td>26.0</td>\n",
       "      <td>0</td>\n",
       "      <td>0</td>\n",
       "      <td>STON/O2. 3101282</td>\n",
       "      <td>7.9250</td>\n",
       "      <td>NaN</td>\n",
       "      <td>S</td>\n",
       "    </tr>\n",
       "    <tr>\n",
       "      <th>3</th>\n",
       "      <td>1</td>\n",
       "      <td>1</td>\n",
       "      <td>Futrelle, Mrs. Jacques Heath (Lily May Peel)</td>\n",
       "      <td>female</td>\n",
       "      <td>35.0</td>\n",
       "      <td>1</td>\n",
       "      <td>0</td>\n",
       "      <td>113803</td>\n",
       "      <td>53.1000</td>\n",
       "      <td>C123</td>\n",
       "      <td>S</td>\n",
       "    </tr>\n",
       "    <tr>\n",
       "      <th>4</th>\n",
       "      <td>0</td>\n",
       "      <td>3</td>\n",
       "      <td>Allen, Mr. William Henry</td>\n",
       "      <td>male</td>\n",
       "      <td>35.0</td>\n",
       "      <td>0</td>\n",
       "      <td>0</td>\n",
       "      <td>373450</td>\n",
       "      <td>8.0500</td>\n",
       "      <td>NaN</td>\n",
       "      <td>S</td>\n",
       "    </tr>\n",
       "  </tbody>\n",
       "</table>\n",
       "</div>"
      ],
      "text/plain": [
       "   Survived  Pclass                                               Name  \\\n",
       "0         0       3                            Braund, Mr. Owen Harris   \n",
       "1         1       1  Cumings, Mrs. John Bradley (Florence Briggs Th...   \n",
       "2         1       3                             Heikkinen, Miss. Laina   \n",
       "3         1       1       Futrelle, Mrs. Jacques Heath (Lily May Peel)   \n",
       "4         0       3                           Allen, Mr. William Henry   \n",
       "\n",
       "      Sex   Age  SibSp  Parch            Ticket     Fare Cabin Embarked  \n",
       "0    male  22.0      1      0         A/5 21171   7.2500   NaN        S  \n",
       "1  female  38.0      1      0          PC 17599  71.2833   C85        C  \n",
       "2  female  26.0      0      0  STON/O2. 3101282   7.9250   NaN        S  \n",
       "3  female  35.0      1      0            113803  53.1000  C123        S  \n",
       "4    male  35.0      0      0            373450   8.0500   NaN        S  "
      ]
     },
     "execution_count": 6,
     "metadata": {},
     "output_type": "execute_result"
    }
   ],
   "source": [
    "df.head()"
   ]
  },
  {
   "cell_type": "code",
   "execution_count": 7,
   "id": "1ff9dfe5",
   "metadata": {
    "execution": {
     "iopub.execute_input": "2024-12-31T19:08:38.235903Z",
     "iopub.status.busy": "2024-12-31T19:08:38.235544Z",
     "iopub.status.idle": "2024-12-31T19:08:38.248565Z",
     "shell.execute_reply": "2024-12-31T19:08:38.247734Z"
    },
    "papermill": {
     "duration": 0.022345,
     "end_time": "2024-12-31T19:08:38.250211",
     "exception": false,
     "start_time": "2024-12-31T19:08:38.227866",
     "status": "completed"
    },
    "tags": []
   },
   "outputs": [
    {
     "data": {
      "text/html": [
       "<div>\n",
       "<style scoped>\n",
       "    .dataframe tbody tr th:only-of-type {\n",
       "        vertical-align: middle;\n",
       "    }\n",
       "\n",
       "    .dataframe tbody tr th {\n",
       "        vertical-align: top;\n",
       "    }\n",
       "\n",
       "    .dataframe thead th {\n",
       "        text-align: right;\n",
       "    }\n",
       "</style>\n",
       "<table border=\"1\" class=\"dataframe\">\n",
       "  <thead>\n",
       "    <tr style=\"text-align: right;\">\n",
       "      <th></th>\n",
       "      <th>Survived</th>\n",
       "      <th>Pclass</th>\n",
       "      <th>Name</th>\n",
       "      <th>Sex</th>\n",
       "      <th>Age</th>\n",
       "      <th>SibSp</th>\n",
       "      <th>Parch</th>\n",
       "      <th>Ticket</th>\n",
       "      <th>Fare</th>\n",
       "      <th>Cabin</th>\n",
       "      <th>Embarked</th>\n",
       "    </tr>\n",
       "  </thead>\n",
       "  <tbody>\n",
       "    <tr>\n",
       "      <th>0</th>\n",
       "      <td>0</td>\n",
       "      <td>3</td>\n",
       "      <td>Braund, Mr. Owen Harris</td>\n",
       "      <td>male</td>\n",
       "      <td>22.0</td>\n",
       "      <td>1</td>\n",
       "      <td>0</td>\n",
       "      <td>A/5 21171</td>\n",
       "      <td>7.2500</td>\n",
       "      <td>NaN</td>\n",
       "      <td>S</td>\n",
       "    </tr>\n",
       "    <tr>\n",
       "      <th>1</th>\n",
       "      <td>1</td>\n",
       "      <td>1</td>\n",
       "      <td>Cumings, Mrs. John Bradley (Florence Briggs Th...</td>\n",
       "      <td>female</td>\n",
       "      <td>38.0</td>\n",
       "      <td>1</td>\n",
       "      <td>0</td>\n",
       "      <td>PC 17599</td>\n",
       "      <td>71.2833</td>\n",
       "      <td>C85</td>\n",
       "      <td>C</td>\n",
       "    </tr>\n",
       "    <tr>\n",
       "      <th>2</th>\n",
       "      <td>1</td>\n",
       "      <td>3</td>\n",
       "      <td>Heikkinen, Miss. Laina</td>\n",
       "      <td>female</td>\n",
       "      <td>26.0</td>\n",
       "      <td>0</td>\n",
       "      <td>0</td>\n",
       "      <td>STON/O2. 3101282</td>\n",
       "      <td>7.9250</td>\n",
       "      <td>NaN</td>\n",
       "      <td>S</td>\n",
       "    </tr>\n",
       "    <tr>\n",
       "      <th>3</th>\n",
       "      <td>1</td>\n",
       "      <td>1</td>\n",
       "      <td>Futrelle, Mrs. Jacques Heath (Lily May Peel)</td>\n",
       "      <td>female</td>\n",
       "      <td>35.0</td>\n",
       "      <td>1</td>\n",
       "      <td>0</td>\n",
       "      <td>113803</td>\n",
       "      <td>53.1000</td>\n",
       "      <td>C123</td>\n",
       "      <td>S</td>\n",
       "    </tr>\n",
       "    <tr>\n",
       "      <th>4</th>\n",
       "      <td>0</td>\n",
       "      <td>3</td>\n",
       "      <td>Allen, Mr. William Henry</td>\n",
       "      <td>male</td>\n",
       "      <td>35.0</td>\n",
       "      <td>0</td>\n",
       "      <td>0</td>\n",
       "      <td>373450</td>\n",
       "      <td>8.0500</td>\n",
       "      <td>NaN</td>\n",
       "      <td>S</td>\n",
       "    </tr>\n",
       "  </tbody>\n",
       "</table>\n",
       "</div>"
      ],
      "text/plain": [
       "   Survived  Pclass                                               Name  \\\n",
       "0         0       3                            Braund, Mr. Owen Harris   \n",
       "1         1       1  Cumings, Mrs. John Bradley (Florence Briggs Th...   \n",
       "2         1       3                             Heikkinen, Miss. Laina   \n",
       "3         1       1       Futrelle, Mrs. Jacques Heath (Lily May Peel)   \n",
       "4         0       3                           Allen, Mr. William Henry   \n",
       "\n",
       "      Sex   Age  SibSp  Parch            Ticket     Fare Cabin Embarked  \n",
       "0    male  22.0      1      0         A/5 21171   7.2500   NaN        S  \n",
       "1  female  38.0      1      0          PC 17599  71.2833   C85        C  \n",
       "2  female  26.0      0      0  STON/O2. 3101282   7.9250   NaN        S  \n",
       "3  female  35.0      1      0            113803  53.1000  C123        S  \n",
       "4    male  35.0      0      0            373450   8.0500   NaN        S  "
      ]
     },
     "execution_count": 7,
     "metadata": {},
     "output_type": "execute_result"
    }
   ],
   "source": [
    "train_df.head()"
   ]
  },
  {
   "cell_type": "code",
   "execution_count": 8,
   "id": "db0c6436",
   "metadata": {
    "execution": {
     "iopub.execute_input": "2024-12-31T19:08:38.265529Z",
     "iopub.status.busy": "2024-12-31T19:08:38.265210Z",
     "iopub.status.idle": "2024-12-31T19:08:38.278195Z",
     "shell.execute_reply": "2024-12-31T19:08:38.277192Z"
    },
    "papermill": {
     "duration": 0.022366,
     "end_time": "2024-12-31T19:08:38.279823",
     "exception": false,
     "start_time": "2024-12-31T19:08:38.257457",
     "status": "completed"
    },
    "tags": []
   },
   "outputs": [
    {
     "data": {
      "text/html": [
       "<div>\n",
       "<style scoped>\n",
       "    .dataframe tbody tr th:only-of-type {\n",
       "        vertical-align: middle;\n",
       "    }\n",
       "\n",
       "    .dataframe tbody tr th {\n",
       "        vertical-align: top;\n",
       "    }\n",
       "\n",
       "    .dataframe thead th {\n",
       "        text-align: right;\n",
       "    }\n",
       "</style>\n",
       "<table border=\"1\" class=\"dataframe\">\n",
       "  <thead>\n",
       "    <tr style=\"text-align: right;\">\n",
       "      <th></th>\n",
       "      <th>Pclass</th>\n",
       "      <th>Name</th>\n",
       "      <th>Sex</th>\n",
       "      <th>Age</th>\n",
       "      <th>SibSp</th>\n",
       "      <th>Parch</th>\n",
       "      <th>Ticket</th>\n",
       "      <th>Fare</th>\n",
       "      <th>Cabin</th>\n",
       "      <th>Embarked</th>\n",
       "      <th>Survived</th>\n",
       "    </tr>\n",
       "  </thead>\n",
       "  <tbody>\n",
       "    <tr>\n",
       "      <th>0</th>\n",
       "      <td>3</td>\n",
       "      <td>Kelly, Mr. James</td>\n",
       "      <td>male</td>\n",
       "      <td>34.5</td>\n",
       "      <td>0</td>\n",
       "      <td>0</td>\n",
       "      <td>330911</td>\n",
       "      <td>7.8292</td>\n",
       "      <td>NaN</td>\n",
       "      <td>Q</td>\n",
       "      <td>0</td>\n",
       "    </tr>\n",
       "    <tr>\n",
       "      <th>1</th>\n",
       "      <td>3</td>\n",
       "      <td>Wilkes, Mrs. James (Ellen Needs)</td>\n",
       "      <td>female</td>\n",
       "      <td>47.0</td>\n",
       "      <td>1</td>\n",
       "      <td>0</td>\n",
       "      <td>363272</td>\n",
       "      <td>7.0000</td>\n",
       "      <td>NaN</td>\n",
       "      <td>S</td>\n",
       "      <td>0</td>\n",
       "    </tr>\n",
       "    <tr>\n",
       "      <th>2</th>\n",
       "      <td>2</td>\n",
       "      <td>Myles, Mr. Thomas Francis</td>\n",
       "      <td>male</td>\n",
       "      <td>62.0</td>\n",
       "      <td>0</td>\n",
       "      <td>0</td>\n",
       "      <td>240276</td>\n",
       "      <td>9.6875</td>\n",
       "      <td>NaN</td>\n",
       "      <td>Q</td>\n",
       "      <td>0</td>\n",
       "    </tr>\n",
       "    <tr>\n",
       "      <th>3</th>\n",
       "      <td>3</td>\n",
       "      <td>Wirz, Mr. Albert</td>\n",
       "      <td>male</td>\n",
       "      <td>27.0</td>\n",
       "      <td>0</td>\n",
       "      <td>0</td>\n",
       "      <td>315154</td>\n",
       "      <td>8.6625</td>\n",
       "      <td>NaN</td>\n",
       "      <td>S</td>\n",
       "      <td>0</td>\n",
       "    </tr>\n",
       "    <tr>\n",
       "      <th>4</th>\n",
       "      <td>3</td>\n",
       "      <td>Hirvonen, Mrs. Alexander (Helga E Lindqvist)</td>\n",
       "      <td>female</td>\n",
       "      <td>22.0</td>\n",
       "      <td>1</td>\n",
       "      <td>1</td>\n",
       "      <td>3101298</td>\n",
       "      <td>12.2875</td>\n",
       "      <td>NaN</td>\n",
       "      <td>S</td>\n",
       "      <td>0</td>\n",
       "    </tr>\n",
       "  </tbody>\n",
       "</table>\n",
       "</div>"
      ],
      "text/plain": [
       "   Pclass                                          Name     Sex   Age  SibSp  \\\n",
       "0       3                              Kelly, Mr. James    male  34.5      0   \n",
       "1       3              Wilkes, Mrs. James (Ellen Needs)  female  47.0      1   \n",
       "2       2                     Myles, Mr. Thomas Francis    male  62.0      0   \n",
       "3       3                              Wirz, Mr. Albert    male  27.0      0   \n",
       "4       3  Hirvonen, Mrs. Alexander (Helga E Lindqvist)  female  22.0      1   \n",
       "\n",
       "   Parch   Ticket     Fare Cabin Embarked  Survived  \n",
       "0      0   330911   7.8292   NaN        Q         0  \n",
       "1      0   363272   7.0000   NaN        S         0  \n",
       "2      0   240276   9.6875   NaN        Q         0  \n",
       "3      0   315154   8.6625   NaN        S         0  \n",
       "4      1  3101298  12.2875   NaN        S         0  "
      ]
     },
     "execution_count": 8,
     "metadata": {},
     "output_type": "execute_result"
    }
   ],
   "source": [
    "test_df.head()"
   ]
  },
  {
   "cell_type": "code",
   "execution_count": 9,
   "id": "7d5574f4",
   "metadata": {
    "execution": {
     "iopub.execute_input": "2024-12-31T19:08:38.295960Z",
     "iopub.status.busy": "2024-12-31T19:08:38.295654Z",
     "iopub.status.idle": "2024-12-31T19:08:38.301294Z",
     "shell.execute_reply": "2024-12-31T19:08:38.300093Z"
    },
    "papermill": {
     "duration": 0.015103,
     "end_time": "2024-12-31T19:08:38.302868",
     "exception": false,
     "start_time": "2024-12-31T19:08:38.287765",
     "status": "completed"
    },
    "tags": []
   },
   "outputs": [
    {
     "data": {
      "text/plain": [
       "(1309, 11)"
      ]
     },
     "execution_count": 9,
     "metadata": {},
     "output_type": "execute_result"
    }
   ],
   "source": [
    "df.shape"
   ]
  },
  {
   "cell_type": "code",
   "execution_count": 10,
   "id": "07b00d90",
   "metadata": {
    "execution": {
     "iopub.execute_input": "2024-12-31T19:08:38.318458Z",
     "iopub.status.busy": "2024-12-31T19:08:38.318092Z",
     "iopub.status.idle": "2024-12-31T19:08:38.323653Z",
     "shell.execute_reply": "2024-12-31T19:08:38.322690Z"
    },
    "papermill": {
     "duration": 0.015201,
     "end_time": "2024-12-31T19:08:38.325355",
     "exception": false,
     "start_time": "2024-12-31T19:08:38.310154",
     "status": "completed"
    },
    "tags": []
   },
   "outputs": [
    {
     "data": {
      "text/plain": [
       "Index(['Survived', 'Pclass', 'Name', 'Sex', 'Age', 'SibSp', 'Parch', 'Ticket',\n",
       "       'Fare', 'Cabin', 'Embarked'],\n",
       "      dtype='object')"
      ]
     },
     "execution_count": 10,
     "metadata": {},
     "output_type": "execute_result"
    }
   ],
   "source": [
    "df.columns"
   ]
  },
  {
   "cell_type": "code",
   "execution_count": 11,
   "id": "47587e10",
   "metadata": {
    "execution": {
     "iopub.execute_input": "2024-12-31T19:08:38.340961Z",
     "iopub.status.busy": "2024-12-31T19:08:38.340644Z",
     "iopub.status.idle": "2024-12-31T19:08:38.539578Z",
     "shell.execute_reply": "2024-12-31T19:08:38.538541Z"
    },
    "papermill": {
     "duration": 0.208413,
     "end_time": "2024-12-31T19:08:38.541011",
     "exception": false,
     "start_time": "2024-12-31T19:08:38.332598",
     "status": "completed"
    },
    "tags": []
   },
   "outputs": [
    {
     "data": {
      "image/png": "[encoded data removed]",
      "text/plain": [
       "<Figure size 1000x600 with 1 Axes>"
      ]
     },
     "metadata": {},
     "output_type": "display_data"
    }
   ],
   "source": [
    "import seaborn as sns\n",
    "import matplotlib.pyplot as plt\n",
    "\n",
    "# Check for missing values\n",
    "missing_data = df.isnull()\n",
    "\n",
    "# Plot the missing data\n",
    "plt.figure(figsize=(10, 6))\n",
    "sns.heatmap(missing_data, cbar=False, cmap=\"viridis\", yticklabels=False)\n",
    "plt.title(\"Missing Data Heatmap\")\n",
    "plt.xlabel(\"Columns\")\n",
    "plt.ylabel(\"Rows\")\n",
    "plt.show()"
   ]
  },
  {
   "cell_type": "code",
   "execution_count": 12,
   "id": "50ee6996",
   "metadata": {
    "execution": {
     "iopub.execute_input": "2024-12-31T19:08:38.559984Z",
     "iopub.status.busy": "2024-12-31T19:08:38.559634Z",
     "iopub.status.idle": "2024-12-31T19:08:38.570451Z",
     "shell.execute_reply": "2024-12-31T19:08:38.569383Z"
    },
    "papermill": {
     "duration": 0.021446,
     "end_time": "2024-12-31T19:08:38.572051",
     "exception": false,
     "start_time": "2024-12-31T19:08:38.550605",
     "status": "completed"
    },
    "tags": []
   },
   "outputs": [
    {
     "data": {
      "text/plain": [
       "0"
      ]
     },
     "execution_count": 12,
     "metadata": {},
     "output_type": "execute_result"
    }
   ],
   "source": [
    "df.duplicated().sum()"
   ]
  },
  {
   "cell_type": "code",
   "execution_count": 13,
   "id": "c4a2fe2a",
   "metadata": {
    "execution": {
     "iopub.execute_input": "2024-12-31T19:08:38.589501Z",
     "iopub.status.busy": "2024-12-31T19:08:38.589166Z",
     "iopub.status.idle": "2024-12-31T19:08:38.605700Z",
     "shell.execute_reply": "2024-12-31T19:08:38.604292Z"
    },
    "papermill": {
     "duration": 0.027298,
     "end_time": "2024-12-31T19:08:38.607520",
     "exception": false,
     "start_time": "2024-12-31T19:08:38.580222",
     "status": "completed"
    },
    "tags": []
   },
   "outputs": [
    {
     "name": "stdout",
     "output_type": "stream",
     "text": [
      "<class 'pandas.core.frame.DataFrame'>\n",
      "Index: 1309 entries, 0 to 417\n",
      "Data columns (total 11 columns):\n",
      " #   Column    Non-Null Count  Dtype  \n",
      "---  ------    --------------  -----  \n",
      " 0   Survived  1309 non-null   int64  \n",
      " 1   Pclass    1309 non-null   int64  \n",
      " 2   Name      1309 non-null   object \n",
      " 3   Sex       1309 non-null   object \n",
      " 4   Age       1046 non-null   float64\n",
      " 5   SibSp     1309 non-null   int64  \n",
      " 6   Parch     1309 non-null   int64  \n",
      " 7   Ticket    1309 non-null   object \n",
      " 8   Fare      1308 non-null   float64\n",
      " 9   Cabin     295 non-null    object \n",
      " 10  Embarked  1307 non-null   object \n",
      "dtypes: float64(2), int64(4), object(5)\n",
      "memory usage: 122.7+ KB\n"
     ]
    }
   ],
   "source": [
    "df.info()"
   ]
  },
  {
   "cell_type": "markdown",
   "id": "ce571b05",
   "metadata": {
    "papermill": {
     "duration": 0.008349,
     "end_time": "2024-12-31T19:08:38.624145",
     "exception": false,
     "start_time": "2024-12-31T19:08:38.615796",
     "status": "completed"
    },
    "tags": []
   },
   "source": [
    "# Data Preprocessing"
   ]
  },
  {
   "cell_type": "markdown",
   "id": "fc19517f",
   "metadata": {
    "papermill": {
     "duration": 0.007987,
     "end_time": "2024-12-31T19:08:38.640453",
     "exception": false,
     "start_time": "2024-12-31T19:08:38.632466",
     "status": "completed"
    },
    "tags": []
   },
   "source": [
    "## Handling NULL values"
   ]
  },
  {
   "cell_type": "code",
   "execution_count": 14,
   "id": "a3700d5d",
   "metadata": {
    "execution": {
     "iopub.execute_input": "2024-12-31T19:08:38.658210Z",
     "iopub.status.busy": "2024-12-31T19:08:38.657776Z",
     "iopub.status.idle": "2024-12-31T19:08:38.663153Z",
     "shell.execute_reply": "2024-12-31T19:08:38.662181Z"
    },
    "papermill": {
     "duration": 0.015836,
     "end_time": "2024-12-31T19:08:38.664691",
     "exception": false,
     "start_time": "2024-12-31T19:08:38.648855",
     "status": "completed"
    },
    "tags": []
   },
   "outputs": [],
   "source": [
    "df = df.drop([\"Ticket\", \"Name\", \"Cabin\"], axis=1)"
   ]
  },
  {
   "cell_type": "code",
   "execution_count": 15,
   "id": "91f17d9f",
   "metadata": {
    "execution": {
     "iopub.execute_input": "2024-12-31T19:08:38.682713Z",
     "iopub.status.busy": "2024-12-31T19:08:38.682376Z",
     "iopub.status.idle": "2024-12-31T19:08:38.691064Z",
     "shell.execute_reply": "2024-12-31T19:08:38.690280Z"
    },
    "papermill": {
     "duration": 0.019387,
     "end_time": "2024-12-31T19:08:38.692585",
     "exception": false,
     "start_time": "2024-12-31T19:08:38.673198",
     "status": "completed"
    },
    "tags": []
   },
   "outputs": [],
   "source": [
    "cols = [\"SibSp\", \"Parch\", \"Fare\", \"Age\"]\n",
    "\n",
    "for col in cols:\n",
    "    df[col].fillna(df[col].median(), inplace=True)\n",
    "        \n",
    "df.Embarked.fillna(\"U\", inplace=True)"
   ]
  },
  {
   "cell_type": "code",
   "execution_count": 16,
   "id": "8eba1e47",
   "metadata": {
    "execution": {
     "iopub.execute_input": "2024-12-31T19:08:38.711296Z",
     "iopub.status.busy": "2024-12-31T19:08:38.710938Z",
     "iopub.status.idle": "2024-12-31T19:08:38.722486Z",
     "shell.execute_reply": "2024-12-31T19:08:38.721628Z"
    },
    "papermill": {
     "duration": 0.02282,
     "end_time": "2024-12-31T19:08:38.724005",
     "exception": false,
     "start_time": "2024-12-31T19:08:38.701185",
     "status": "completed"
    },
    "tags": []
   },
   "outputs": [
    {
     "data": {
      "text/html": [
       "<div>\n",
       "<style scoped>\n",
       "    .dataframe tbody tr th:only-of-type {\n",
       "        vertical-align: middle;\n",
       "    }\n",
       "\n",
       "    .dataframe tbody tr th {\n",
       "        vertical-align: top;\n",
       "    }\n",
       "\n",
       "    .dataframe thead th {\n",
       "        text-align: right;\n",
       "    }\n",
       "</style>\n",
       "<table border=\"1\" class=\"dataframe\">\n",
       "  <thead>\n",
       "    <tr style=\"text-align: right;\">\n",
       "      <th></th>\n",
       "      <th>Survived</th>\n",
       "      <th>Pclass</th>\n",
       "      <th>Sex</th>\n",
       "      <th>Age</th>\n",
       "      <th>SibSp</th>\n",
       "      <th>Parch</th>\n",
       "      <th>Fare</th>\n",
       "      <th>Embarked</th>\n",
       "    </tr>\n",
       "  </thead>\n",
       "  <tbody>\n",
       "    <tr>\n",
       "      <th>0</th>\n",
       "      <td>0</td>\n",
       "      <td>3</td>\n",
       "      <td>male</td>\n",
       "      <td>22.0</td>\n",
       "      <td>1</td>\n",
       "      <td>0</td>\n",
       "      <td>7.2500</td>\n",
       "      <td>S</td>\n",
       "    </tr>\n",
       "    <tr>\n",
       "      <th>1</th>\n",
       "      <td>1</td>\n",
       "      <td>1</td>\n",
       "      <td>female</td>\n",
       "      <td>38.0</td>\n",
       "      <td>1</td>\n",
       "      <td>0</td>\n",
       "      <td>71.2833</td>\n",
       "      <td>C</td>\n",
       "    </tr>\n",
       "    <tr>\n",
       "      <th>2</th>\n",
       "      <td>1</td>\n",
       "      <td>3</td>\n",
       "      <td>female</td>\n",
       "      <td>26.0</td>\n",
       "      <td>0</td>\n",
       "      <td>0</td>\n",
       "      <td>7.9250</td>\n",
       "      <td>S</td>\n",
       "    </tr>\n",
       "    <tr>\n",
       "      <th>3</th>\n",
       "      <td>1</td>\n",
       "      <td>1</td>\n",
       "      <td>female</td>\n",
       "      <td>35.0</td>\n",
       "      <td>1</td>\n",
       "      <td>0</td>\n",
       "      <td>53.1000</td>\n",
       "      <td>S</td>\n",
       "    </tr>\n",
       "    <tr>\n",
       "      <th>4</th>\n",
       "      <td>0</td>\n",
       "      <td>3</td>\n",
       "      <td>male</td>\n",
       "      <td>35.0</td>\n",
       "      <td>0</td>\n",
       "      <td>0</td>\n",
       "      <td>8.0500</td>\n",
       "      <td>S</td>\n",
       "    </tr>\n",
       "  </tbody>\n",
       "</table>\n",
       "</div>"
      ],
      "text/plain": [
       "   Survived  Pclass     Sex   Age  SibSp  Parch     Fare Embarked\n",
       "0         0       3    male  22.0      1      0   7.2500        S\n",
       "1         1       1  female  38.0      1      0  71.2833        C\n",
       "2         1       3  female  26.0      0      0   7.9250        S\n",
       "3         1       1  female  35.0      1      0  53.1000        S\n",
       "4         0       3    male  35.0      0      0   8.0500        S"
      ]
     },
     "execution_count": 16,
     "metadata": {},
     "output_type": "execute_result"
    }
   ],
   "source": [
    "df.head()"
   ]
  },
  {
   "cell_type": "code",
   "execution_count": 17,
   "id": "0c97da9b",
   "metadata": {
    "execution": {
     "iopub.execute_input": "2024-12-31T19:08:38.742155Z",
     "iopub.status.busy": "2024-12-31T19:08:38.741809Z",
     "iopub.status.idle": "2024-12-31T19:08:38.878576Z",
     "shell.execute_reply": "2024-12-31T19:08:38.877487Z"
    },
    "papermill": {
     "duration": 0.149496,
     "end_time": "2024-12-31T19:08:38.881915",
     "exception": false,
     "start_time": "2024-12-31T19:08:38.732419",
     "status": "completed"
    },
    "tags": []
   },
   "outputs": [
    {
     "data": {
      "image/png": "[encoded data removed]",
      "text/plain": [
       "<Figure size 1000x600 with 1 Axes>"
      ]
     },
     "metadata": {},
     "output_type": "display_data"
    }
   ],
   "source": [
    "import seaborn as sns\n",
    "import matplotlib.pyplot as plt\n",
    "\n",
    "# Check for missing values\n",
    "missing_data = df.isnull()\n",
    "\n",
    "# Plot the missing data\n",
    "plt.figure(figsize=(10, 6))\n",
    "sns.heatmap(missing_data, cbar=False, cmap=\"viridis\", yticklabels=False)\n",
    "plt.title(\"Missing Data Heatmap\")\n",
    "plt.xlabel(\"Columns\")\n",
    "plt.ylabel(\"Rows\")\n",
    "plt.show()"
   ]
  },
  {
   "cell_type": "markdown",
   "id": "6408a0ed",
   "metadata": {
    "papermill": {
     "duration": 0.008586,
     "end_time": "2024-12-31T19:08:38.903684",
     "exception": false,
     "start_time": "2024-12-31T19:08:38.895098",
     "status": "completed"
    },
    "tags": []
   },
   "source": [
    "## Converting from categorical to numerical"
   ]
  },
  {
   "cell_type": "code",
   "execution_count": 18,
   "id": "9e968c67",
   "metadata": {
    "execution": {
     "iopub.execute_input": "2024-12-31T19:08:38.922691Z",
     "iopub.status.busy": "2024-12-31T19:08:38.922366Z",
     "iopub.status.idle": "2024-12-31T19:08:38.937253Z",
     "shell.execute_reply": "2024-12-31T19:08:38.936317Z"
    },
    "papermill": {
     "duration": 0.026264,
     "end_time": "2024-12-31T19:08:38.938731",
     "exception": false,
     "start_time": "2024-12-31T19:08:38.912467",
     "status": "completed"
    },
    "tags": []
   },
   "outputs": [
    {
     "name": "stdout",
     "output_type": "stream",
     "text": [
      "['female' 'male']\n",
      "['C' 'Q' 'S' 'U']\n"
     ]
    },
    {
     "data": {
      "text/html": [
       "<div>\n",
       "<style scoped>\n",
       "    .dataframe tbody tr th:only-of-type {\n",
       "        vertical-align: middle;\n",
       "    }\n",
       "\n",
       "    .dataframe tbody tr th {\n",
       "        vertical-align: top;\n",
       "    }\n",
       "\n",
       "    .dataframe thead th {\n",
       "        text-align: right;\n",
       "    }\n",
       "</style>\n",
       "<table border=\"1\" class=\"dataframe\">\n",
       "  <thead>\n",
       "    <tr style=\"text-align: right;\">\n",
       "      <th></th>\n",
       "      <th>Survived</th>\n",
       "      <th>Pclass</th>\n",
       "      <th>Sex</th>\n",
       "      <th>Age</th>\n",
       "      <th>SibSp</th>\n",
       "      <th>Parch</th>\n",
       "      <th>Fare</th>\n",
       "      <th>Embarked</th>\n",
       "    </tr>\n",
       "  </thead>\n",
       "  <tbody>\n",
       "    <tr>\n",
       "      <th>0</th>\n",
       "      <td>0</td>\n",
       "      <td>3</td>\n",
       "      <td>1</td>\n",
       "      <td>22.0</td>\n",
       "      <td>1</td>\n",
       "      <td>0</td>\n",
       "      <td>7.2500</td>\n",
       "      <td>2</td>\n",
       "    </tr>\n",
       "    <tr>\n",
       "      <th>1</th>\n",
       "      <td>1</td>\n",
       "      <td>1</td>\n",
       "      <td>0</td>\n",
       "      <td>38.0</td>\n",
       "      <td>1</td>\n",
       "      <td>0</td>\n",
       "      <td>71.2833</td>\n",
       "      <td>0</td>\n",
       "    </tr>\n",
       "    <tr>\n",
       "      <th>2</th>\n",
       "      <td>1</td>\n",
       "      <td>3</td>\n",
       "      <td>0</td>\n",
       "      <td>26.0</td>\n",
       "      <td>0</td>\n",
       "      <td>0</td>\n",
       "      <td>7.9250</td>\n",
       "      <td>2</td>\n",
       "    </tr>\n",
       "    <tr>\n",
       "      <th>3</th>\n",
       "      <td>1</td>\n",
       "      <td>1</td>\n",
       "      <td>0</td>\n",
       "      <td>35.0</td>\n",
       "      <td>1</td>\n",
       "      <td>0</td>\n",
       "      <td>53.1000</td>\n",
       "      <td>2</td>\n",
       "    </tr>\n",
       "    <tr>\n",
       "      <th>4</th>\n",
       "      <td>0</td>\n",
       "      <td>3</td>\n",
       "      <td>1</td>\n",
       "      <td>35.0</td>\n",
       "      <td>0</td>\n",
       "      <td>0</td>\n",
       "      <td>8.0500</td>\n",
       "      <td>2</td>\n",
       "    </tr>\n",
       "  </tbody>\n",
       "</table>\n",
       "</div>"
      ],
      "text/plain": [
       "   Survived  Pclass  Sex   Age  SibSp  Parch     Fare  Embarked\n",
       "0         0       3    1  22.0      1      0   7.2500         2\n",
       "1         1       1    0  38.0      1      0  71.2833         0\n",
       "2         1       3    0  26.0      0      0   7.9250         2\n",
       "3         1       1    0  35.0      1      0  53.1000         2\n",
       "4         0       3    1  35.0      0      0   8.0500         2"
      ]
     },
     "execution_count": 18,
     "metadata": {},
     "output_type": "execute_result"
    }
   ],
   "source": [
    "le = preprocessing.LabelEncoder()\n",
    "columns = [\"Sex\", \"Embarked\"]\n",
    "\n",
    "for col in columns:\n",
    "    df[col] = le.fit_transform(df[col])\n",
    "    print(le.classes_)\n",
    "      \n",
    "df.head(5)"
   ]
  },
  {
   "cell_type": "markdown",
   "id": "dec91f5e",
   "metadata": {
    "papermill": {
     "duration": 0.008803,
     "end_time": "2024-12-31T19:08:38.956682",
     "exception": false,
     "start_time": "2024-12-31T19:08:38.947879",
     "status": "completed"
    },
    "tags": []
   },
   "source": [
    "## Splitting dataset"
   ]
  },
  {
   "cell_type": "code",
   "execution_count": 19,
   "id": "db8dac42",
   "metadata": {
    "execution": {
     "iopub.execute_input": "2024-12-31T19:08:38.975976Z",
     "iopub.status.busy": "2024-12-31T19:08:38.975641Z",
     "iopub.status.idle": "2024-12-31T19:08:38.981237Z",
     "shell.execute_reply": "2024-12-31T19:08:38.980300Z"
    },
    "papermill": {
     "duration": 0.017341,
     "end_time": "2024-12-31T19:08:38.982942",
     "exception": false,
     "start_time": "2024-12-31T19:08:38.965601",
     "status": "completed"
    },
    "tags": []
   },
   "outputs": [],
   "source": [
    "training_data = df[0:len(train_df)]\n",
    "testing_data = df[len(train_df):]\n",
    "testing_data = testing_data.drop(columns='Survived')"
   ]
  },
  {
   "cell_type": "code",
   "execution_count": 20,
   "id": "2abbdc63",
   "metadata": {
    "execution": {
     "iopub.execute_input": "2024-12-31T19:08:39.002192Z",
     "iopub.status.busy": "2024-12-31T19:08:39.001793Z",
     "iopub.status.idle": "2024-12-31T19:08:39.011964Z",
     "shell.execute_reply": "2024-12-31T19:08:39.010960Z"
    },
    "papermill": {
     "duration": 0.021803,
     "end_time": "2024-12-31T19:08:39.013659",
     "exception": false,
     "start_time": "2024-12-31T19:08:38.991856",
     "status": "completed"
    },
    "tags": []
   },
   "outputs": [
    {
     "data": {
      "text/plain": [
       "((712, 7), (712,))"
      ]
     },
     "execution_count": 20,
     "metadata": {},
     "output_type": "execute_result"
    }
   ],
   "source": [
    "X = training_data.drop(columns='Survived')\n",
    "y = training_data['Survived']\n",
    "\n",
    "X_train, X_test, y_train, y_test = train_test_split(X, y, test_size = 0.2)\n",
    "X_train.shape, y_train.shape"
   ]
  },
  {
   "cell_type": "markdown",
   "id": "a3d30972",
   "metadata": {
    "papermill": {
     "duration": 0.008482,
     "end_time": "2024-12-31T19:08:39.031334",
     "exception": false,
     "start_time": "2024-12-31T19:08:39.022852",
     "status": "completed"
    },
    "tags": []
   },
   "source": [
    "# Model Initialization and Training"
   ]
  },
  {
   "cell_type": "markdown",
   "id": "c4a2b471",
   "metadata": {
    "papermill": {
     "duration": 0.009142,
     "end_time": "2024-12-31T19:08:39.049237",
     "exception": false,
     "start_time": "2024-12-31T19:08:39.040095",
     "status": "completed"
    },
    "tags": []
   },
   "source": [
    "## Logistic Regression"
   ]
  },
  {
   "cell_type": "code",
   "execution_count": 21,
   "id": "d29578bf",
   "metadata": {
    "execution": {
     "iopub.execute_input": "2024-12-31T19:08:39.067790Z",
     "iopub.status.busy": "2024-12-31T19:08:39.067457Z",
     "iopub.status.idle": "2024-12-31T19:08:39.099427Z",
     "shell.execute_reply": "2024-12-31T19:08:39.098568Z"
    },
    "papermill": {
     "duration": 0.043278,
     "end_time": "2024-12-31T19:08:39.101134",
     "exception": false,
     "start_time": "2024-12-31T19:08:39.057856",
     "status": "completed"
    },
    "tags": []
   },
   "outputs": [],
   "source": [
    "classifier = LogisticRegression(random_state=0, max_iter=1000).fit(X_train, y_train)"
   ]
  },
  {
   "cell_type": "code",
   "execution_count": 22,
   "id": "a664fa79",
   "metadata": {
    "execution": {
     "iopub.execute_input": "2024-12-31T19:08:39.120509Z",
     "iopub.status.busy": "2024-12-31T19:08:39.120159Z",
     "iopub.status.idle": "2024-12-31T19:08:39.128911Z",
     "shell.execute_reply": "2024-12-31T19:08:39.127856Z"
    },
    "papermill": {
     "duration": 0.020002,
     "end_time": "2024-12-31T19:08:39.130516",
     "exception": false,
     "start_time": "2024-12-31T19:08:39.110514",
     "status": "completed"
    },
    "tags": []
   },
   "outputs": [
    {
     "data": {
      "text/plain": [
       "0.7318435754189944"
      ]
     },
     "execution_count": 22,
     "metadata": {},
     "output_type": "execute_result"
    }
   ],
   "source": [
    "predictions = classifier.predict(X_test)\n",
    "accuracy_score(y_test, predictions)"
   ]
  },
  {
   "cell_type": "markdown",
   "id": "52b8d23d",
   "metadata": {
    "papermill": {
     "duration": 0.008762,
     "end_time": "2024-12-31T19:08:39.148486",
     "exception": false,
     "start_time": "2024-12-31T19:08:39.139724",
     "status": "completed"
    },
    "tags": []
   },
   "source": [
    "## Linear Regression"
   ]
  },
  {
   "cell_type": "code",
   "execution_count": 23,
   "id": "e28eb4a5",
   "metadata": {
    "execution": {
     "iopub.execute_input": "2024-12-31T19:08:39.168449Z",
     "iopub.status.busy": "2024-12-31T19:08:39.168071Z",
     "iopub.status.idle": "2024-12-31T19:08:39.191101Z",
     "shell.execute_reply": "2024-12-31T19:08:39.190078Z"
    },
    "papermill": {
     "duration": 0.03604,
     "end_time": "2024-12-31T19:08:39.193591",
     "exception": false,
     "start_time": "2024-12-31T19:08:39.157551",
     "status": "completed"
    },
    "tags": []
   },
   "outputs": [
    {
     "name": "stdout",
     "output_type": "stream",
     "text": [
      "Mean Squared Error: 0.18684476885222634\n"
     ]
    }
   ],
   "source": [
    "classifier2 = LinearRegression().fit(X_train, y_train)\n",
    "predictions2 = classifier2.predict(X_test)\n",
    "mse = mean_squared_error(y_test, predictions2)\n",
    "print(f\"Mean Squared Error: {mse}\")"
   ]
  },
  {
   "cell_type": "markdown",
   "id": "9ee8c37e",
   "metadata": {
    "papermill": {
     "duration": 0.00875,
     "end_time": "2024-12-31T19:08:39.211978",
     "exception": false,
     "start_time": "2024-12-31T19:08:39.203228",
     "status": "completed"
    },
    "tags": []
   },
   "source": [
    "## Random Forest "
   ]
  },
  {
   "cell_type": "code",
   "execution_count": 24,
   "id": "65bbbcab",
   "metadata": {
    "execution": {
     "iopub.execute_input": "2024-12-31T19:08:39.231336Z",
     "iopub.status.busy": "2024-12-31T19:08:39.230992Z",
     "iopub.status.idle": "2024-12-31T19:08:39.432836Z",
     "shell.execute_reply": "2024-12-31T19:08:39.431662Z"
    },
    "papermill": {
     "duration": 0.21359,
     "end_time": "2024-12-31T19:08:39.434556",
     "exception": false,
     "start_time": "2024-12-31T19:08:39.220966",
     "status": "completed"
    },
    "tags": []
   },
   "outputs": [
    {
     "name": "stdout",
     "output_type": "stream",
     "text": [
      "Accuracy: 0.770949720670391\n"
     ]
    }
   ],
   "source": [
    "classifier_rf = RandomForestClassifier(random_state=0, n_estimators=100)\n",
    "classifier_rf.fit(X_train, y_train)\n",
    "predictions_rf = classifier_rf.predict(X_test)\n",
    "accuracy = accuracy_score(y_test, predictions_rf)\n",
    "print(f\"Accuracy: {accuracy}\")"
   ]
  },
  {
   "cell_type": "markdown",
   "id": "18223c14",
   "metadata": {
    "papermill": {
     "duration": 0.008664,
     "end_time": "2024-12-31T19:08:39.452907",
     "exception": false,
     "start_time": "2024-12-31T19:08:39.444243",
     "status": "completed"
    },
    "tags": []
   },
   "source": [
    "## SVM"
   ]
  },
  {
   "cell_type": "code",
   "execution_count": 25,
   "id": "7ea19fe0",
   "metadata": {
    "execution": {
     "iopub.execute_input": "2024-12-31T19:08:39.472177Z",
     "iopub.status.busy": "2024-12-31T19:08:39.471767Z",
     "iopub.status.idle": "2024-12-31T19:08:39.502335Z",
     "shell.execute_reply": "2024-12-31T19:08:39.501164Z"
    },
    "papermill": {
     "duration": 0.041958,
     "end_time": "2024-12-31T19:08:39.503900",
     "exception": false,
     "start_time": "2024-12-31T19:08:39.461942",
     "status": "completed"
    },
    "tags": []
   },
   "outputs": [
    {
     "name": "stdout",
     "output_type": "stream",
     "text": [
      "Accuracy: 0.6312849162011173\n"
     ]
    }
   ],
   "source": [
    "from sklearn.svm import SVC\n",
    "classifier_svc = SVC(kernel='rbf', C=1, random_state=0)\n",
    "classifier_svc.fit(X_train, y_train)\n",
    "predictions_svc = classifier_svc.predict(X_test)\n",
    "accuracy_svc = accuracy_score(y_test, predictions_svc)\n",
    "print(f\"Accuracy: {accuracy_svc}\")"
   ]
  },
  {
   "cell_type": "markdown",
   "id": "2a3d1e24",
   "metadata": {
    "papermill": {
     "duration": 0.00876,
     "end_time": "2024-12-31T19:08:39.521813",
     "exception": false,
     "start_time": "2024-12-31T19:08:39.513053",
     "status": "completed"
    },
    "tags": []
   },
   "source": [
    "## Submission"
   ]
  },
  {
   "cell_type": "code",
   "execution_count": 26,
   "id": "c844151c",
   "metadata": {
    "execution": {
     "iopub.execute_input": "2024-12-31T19:08:39.541374Z",
     "iopub.status.busy": "2024-12-31T19:08:39.540970Z",
     "iopub.status.idle": "2024-12-31T19:08:39.564102Z",
     "shell.execute_reply": "2024-12-31T19:08:39.563224Z"
    },
    "papermill": {
     "duration": 0.034963,
     "end_time": "2024-12-31T19:08:39.565916",
     "exception": false,
     "start_time": "2024-12-31T19:08:39.530953",
     "status": "completed"
    },
    "tags": []
   },
   "outputs": [],
   "source": [
    "submission_pred = classifier_rf.predict(testing_data)\n",
    "submission_df = pd.DataFrame({\"PassengerId\": test_ids.values,\n",
    "                   \"Survived\": submission_pred,\n",
    "                  })\n",
    "submission_df.to_csv(\"submission.csv\", index=False)"
   ]
  },
  {
   "cell_type": "code",
   "execution_count": null,
   "id": "01fc1514",
   "metadata": {
    "papermill": {
     "duration": 0.008814,
     "end_time": "2024-12-31T19:08:39.584327",
     "exception": false,
     "start_time": "2024-12-31T19:08:39.575513",
     "status": "completed"
    },
    "tags": []
   },
   "outputs": [],
   "source": []
  }
 ],
 "metadata": {
  "kaggle": {
   "accelerator": "none",
   "dataSources": [
    {
     "databundleVersionId": 26502,
     "sourceId": 3136,
     "sourceType": "competition"
    }
   ],
   "dockerImageVersionId": 30822,
   "isGpuEnabled": false,
   "isInternetEnabled": true,
   "language": "python",
   "sourceType": "notebook"
  },
  "kernelspec": {
   "display_name": "Python 3",
   "language": "python",
   "name": "python3"
  },
  "language_info": {
   "codemirror_mode": {
    "name": "ipython",
    "version": 3
   },
   "file_extension": ".py",
   "mimetype": "text/x-python",
   "name": "python",
   "nbconvert_exporter": "python",
   "pygments_lexer": "ipython3",
   "version": "3.10.12"
  },
  "papermill": {
   "default_parameters": {},
   "duration": 7.430219,
   "end_time": "2024-12-31T19:08:40.314160",
   "environment_variables": {},
   "exception": null,
   "input_path": "__notebook__.ipynb",
   "output_path": "__notebook__.ipynb",
   "parameters": {},
   "start_time": "2024-12-31T19:08:32.883941",
   "version": "2.6.0"
  }
 },
 "nbformat": 4,
 "nbformat_minor": 5
}
